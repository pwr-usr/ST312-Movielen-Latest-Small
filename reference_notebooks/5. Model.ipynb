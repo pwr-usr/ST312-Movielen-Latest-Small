{
 "cells": [
  {
   "cell_type": "code",
   "execution_count": 1,
   "id": "7be40b7e",
   "metadata": {
    "id": "7be40b7e"
   },
   "outputs": [],
   "source": [
    "# from google.colab import drive\n",
    "# drive.mount('/content/drive')\n",
    "# import os\n",
    "# # Set the desired working directory\n",
    "# new_working_directory = '/content/drive/My Drive'\n",
    "\n",
    "# # Change the current working directory\n",
    "# os.chdir(new_working_directory)"
   ]
  },
  {
   "cell_type": "markdown",
   "id": "bHYHYdZgth-Z",
   "metadata": {
    "id": "bHYHYdZgth-Z"
   },
   "source": [
    "# Import dataset"
   ]
  },
  {
   "cell_type": "code",
   "execution_count": 1,
   "id": "Ge_XHM2dBAeA",
   "metadata": {
    "id": "Ge_XHM2dBAeA"
   },
   "outputs": [],
   "source": [
    "import pandas as pd\n",
    "import numpy as np\n",
    "from scipy import special\n",
    "from scipy import stats\n",
    "import matplotlib.pyplot as plt\n",
    "import math\n",
    "import itertools\n",
    "import warnings\n",
    "warnings.filterwarnings('ignore',category=RuntimeWarning)"
   ]
  },
  {
   "cell_type": "code",
   "execution_count": 3,
   "id": "uBYxTiZrDT3t",
   "metadata": {
    "colab": {
     "base_uri": "https://localhost:8080/"
    },
    "executionInfo": {
     "elapsed": 8,
     "status": "ok",
     "timestamp": 1708729830991,
     "user": {
      "displayName": "Nico",
      "userId": "12872846156580039434"
     },
     "user_tz": 0
    },
    "id": "uBYxTiZrDT3t",
    "outputId": "94413c00-bf8e-4e19-c767-a552629eeebf"
   },
   "outputs": [
    {
     "data": {
      "text/plain": [
       "199"
      ]
     },
     "execution_count": 3,
     "metadata": {},
     "output_type": "execute_result"
    }
   ],
   "source": [
    "df = pd.read_csv('2.22 combined dataset of stock data and balance sheet data.csv')\n",
    "df['isin'].nunique()"
   ]
  },
  {
   "cell_type": "markdown",
   "id": "z4x8i4VCmEpd",
   "metadata": {
    "id": "z4x8i4VCmEpd"
   },
   "source": [
    "# Change fiscal_quarter"
   ]
  },
  {
   "cell_type": "code",
   "execution_count": 4,
   "id": "LZUN1m9Lmg6b",
   "metadata": {
    "id": "LZUN1m9Lmg6b"
   },
   "outputs": [],
   "source": [
    "series_list = []\n",
    "for i in range(1,(df[df['company_name'] == df['company_name'].unique()[0]].shape[0])+1):\n",
    "  series_list.append(i)"
   ]
  },
  {
   "cell_type": "code",
   "execution_count": 5,
   "id": "r0QxHARVmD8I",
   "metadata": {
    "id": "r0QxHARVmD8I"
   },
   "outputs": [],
   "source": [
    "temp = pd.DataFrame({'fiscal_quarter': series_list * (len(df['company_name'].unique()))})\n",
    "df['fiscal_quarter'] = temp['fiscal_quarter']"
   ]
  },
  {
   "cell_type": "code",
   "execution_count": 6,
   "id": "G5JjBz2jadR3",
   "metadata": {
    "colab": {
     "base_uri": "https://localhost:8080/"
    },
    "executionInfo": {
     "elapsed": 7,
     "status": "ok",
     "timestamp": 1708729830991,
     "user": {
      "displayName": "Nico",
      "userId": "12872846156580039434"
     },
     "user_tz": 0
    },
    "id": "G5JjBz2jadR3",
    "outputId": "3e7e39aa-b451-4487-fe75-1ba5e177a0c9"
   },
   "outputs": [
    {
     "data": {
      "text/plain": [
       "199"
      ]
     },
     "execution_count": 6,
     "metadata": {},
     "output_type": "execute_result"
    }
   ],
   "source": [
    "len(df['company_name'].unique())"
   ]
  },
  {
   "cell_type": "code",
   "execution_count": 7,
   "id": "MTGpfCu8A0kC",
   "metadata": {
    "colab": {
     "base_uri": "https://localhost:8080/"
    },
    "executionInfo": {
     "elapsed": 6,
     "status": "ok",
     "timestamp": 1708729830991,
     "user": {
      "displayName": "Nico",
      "userId": "12872846156580039434"
     },
     "user_tz": 0
    },
    "id": "MTGpfCu8A0kC",
    "outputId": "90128711-5560-4910-fc22-e25327fa3166"
   },
   "outputs": [
    {
     "data": {
      "text/plain": [
       "(14328,)"
      ]
     },
     "execution_count": 7,
     "metadata": {},
     "output_type": "execute_result"
    }
   ],
   "source": [
    "temp['fiscal_quarter'].shape"
   ]
  },
  {
   "cell_type": "code",
   "execution_count": 8,
   "id": "ZUNNZAo-DVGI",
   "metadata": {
    "id": "ZUNNZAo-DVGI"
   },
   "outputs": [],
   "source": [
    "df[\"datadate\"] = pd.to_datetime(df[\"datadate\"])"
   ]
  },
  {
   "cell_type": "code",
   "execution_count": 9,
   "id": "Zzq3JF0LF8f0",
   "metadata": {
    "colab": {
     "base_uri": "https://localhost:8080/",
     "height": 313
    },
    "executionInfo": {
     "elapsed": 5,
     "status": "ok",
     "timestamp": 1708729830991,
     "user": {
      "displayName": "Nico",
      "userId": "12872846156580039434"
     },
     "user_tz": 0
    },
    "id": "Zzq3JF0LF8f0",
    "outputId": "0444f27e-455e-4d8f-d961-2150f540220c"
   },
   "outputs": [
    {
     "data": {
      "text/html": [
       "<div>\n",
       "<style scoped>\n",
       "    .dataframe tbody tr th:only-of-type {\n",
       "        vertical-align: middle;\n",
       "    }\n",
       "\n",
       "    .dataframe tbody tr th {\n",
       "        vertical-align: top;\n",
       "    }\n",
       "\n",
       "    .dataframe thead th {\n",
       "        text-align: right;\n",
       "    }\n",
       "</style>\n",
       "<table border=\"1\" class=\"dataframe\">\n",
       "  <thead>\n",
       "    <tr style=\"text-align: right;\">\n",
       "      <th></th>\n",
       "      <th>datadate</th>\n",
       "      <th>key</th>\n",
       "      <th>fiscal_quarter</th>\n",
       "      <th>fiscal_year</th>\n",
       "      <th>total_assets</th>\n",
       "      <th>total_liabilities</th>\n",
       "      <th>isin</th>\n",
       "      <th>company_name</th>\n",
       "      <th>gic_industries</th>\n",
       "      <th>iso_country_code</th>\n",
       "      <th>industry_name</th>\n",
       "      <th>is_finance</th>\n",
       "      <th>Open</th>\n",
       "      <th>High</th>\n",
       "      <th>Low</th>\n",
       "      <th>Close</th>\n",
       "      <th>Volume</th>\n",
       "    </tr>\n",
       "  </thead>\n",
       "  <tbody>\n",
       "    <tr>\n",
       "      <th>0</th>\n",
       "      <td>2006-03-31</td>\n",
       "      <td>212935.0</td>\n",
       "      <td>1</td>\n",
       "      <td>2006</td>\n",
       "      <td>74.4419</td>\n",
       "      <td>27.4910</td>\n",
       "      <td>ARAGRO010015</td>\n",
       "      <td>AGROMETAL SA</td>\n",
       "      <td>201060.0</td>\n",
       "      <td>ARG</td>\n",
       "      <td>Machinery</td>\n",
       "      <td>False</td>\n",
       "      <td>0.185858</td>\n",
       "      <td>0.202586</td>\n",
       "      <td>0.170246</td>\n",
       "      <td>0.185858</td>\n",
       "      <td>8522223.00</td>\n",
       "    </tr>\n",
       "    <tr>\n",
       "      <th>1</th>\n",
       "      <td>2006-06-30</td>\n",
       "      <td>212935.0</td>\n",
       "      <td>2</td>\n",
       "      <td>2006</td>\n",
       "      <td>77.1485</td>\n",
       "      <td>32.3303</td>\n",
       "      <td>ARAGRO010015</td>\n",
       "      <td>AGROMETAL SA</td>\n",
       "      <td>201060.0</td>\n",
       "      <td>ARG</td>\n",
       "      <td>Machinery</td>\n",
       "      <td>False</td>\n",
       "      <td>0.185858</td>\n",
       "      <td>0.187717</td>\n",
       "      <td>0.131959</td>\n",
       "      <td>0.141996</td>\n",
       "      <td>8754235.25</td>\n",
       "    </tr>\n",
       "    <tr>\n",
       "      <th>2</th>\n",
       "      <td>2006-09-30</td>\n",
       "      <td>212935.0</td>\n",
       "      <td>3</td>\n",
       "      <td>2006</td>\n",
       "      <td>89.3972</td>\n",
       "      <td>36.4684</td>\n",
       "      <td>ARAGRO010015</td>\n",
       "      <td>AGROMETAL SA</td>\n",
       "      <td>201060.0</td>\n",
       "      <td>ARG</td>\n",
       "      <td>Machinery</td>\n",
       "      <td>False</td>\n",
       "      <td>0.142368</td>\n",
       "      <td>0.148687</td>\n",
       "      <td>0.133818</td>\n",
       "      <td>0.146456</td>\n",
       "      <td>6738297.00</td>\n",
       "    </tr>\n",
       "    <tr>\n",
       "      <th>3</th>\n",
       "      <td>2006-12-31</td>\n",
       "      <td>212935.0</td>\n",
       "      <td>4</td>\n",
       "      <td>2006</td>\n",
       "      <td>77.2313</td>\n",
       "      <td>23.2864</td>\n",
       "      <td>ARAGRO010015</td>\n",
       "      <td>AGROMETAL SA</td>\n",
       "      <td>201060.0</td>\n",
       "      <td>ARG</td>\n",
       "      <td>Machinery</td>\n",
       "      <td>False</td>\n",
       "      <td>0.147943</td>\n",
       "      <td>0.174707</td>\n",
       "      <td>0.144970</td>\n",
       "      <td>0.162440</td>\n",
       "      <td>8879853.35</td>\n",
       "    </tr>\n",
       "    <tr>\n",
       "      <th>4</th>\n",
       "      <td>2007-03-31</td>\n",
       "      <td>212935.0</td>\n",
       "      <td>5</td>\n",
       "      <td>2007</td>\n",
       "      <td>83.2715</td>\n",
       "      <td>29.5663</td>\n",
       "      <td>ARAGRO010015</td>\n",
       "      <td>AGROMETAL SA</td>\n",
       "      <td>201060.0</td>\n",
       "      <td>ARG</td>\n",
       "      <td>Machinery</td>\n",
       "      <td>False</td>\n",
       "      <td>0.160571</td>\n",
       "      <td>0.179738</td>\n",
       "      <td>0.152226</td>\n",
       "      <td>0.158462</td>\n",
       "      <td>8679271.40</td>\n",
       "    </tr>\n",
       "  </tbody>\n",
       "</table>\n",
       "</div>"
      ],
      "text/plain": [
       "    datadate       key  fiscal_quarter  fiscal_year  total_assets  \\\n",
       "0 2006-03-31  212935.0               1         2006       74.4419   \n",
       "1 2006-06-30  212935.0               2         2006       77.1485   \n",
       "2 2006-09-30  212935.0               3         2006       89.3972   \n",
       "3 2006-12-31  212935.0               4         2006       77.2313   \n",
       "4 2007-03-31  212935.0               5         2007       83.2715   \n",
       "\n",
       "   total_liabilities          isin  company_name  gic_industries  \\\n",
       "0            27.4910  ARAGRO010015  AGROMETAL SA        201060.0   \n",
       "1            32.3303  ARAGRO010015  AGROMETAL SA        201060.0   \n",
       "2            36.4684  ARAGRO010015  AGROMETAL SA        201060.0   \n",
       "3            23.2864  ARAGRO010015  AGROMETAL SA        201060.0   \n",
       "4            29.5663  ARAGRO010015  AGROMETAL SA        201060.0   \n",
       "\n",
       "  iso_country_code industry_name  is_finance      Open      High       Low  \\\n",
       "0              ARG     Machinery       False  0.185858  0.202586  0.170246   \n",
       "1              ARG     Machinery       False  0.185858  0.187717  0.131959   \n",
       "2              ARG     Machinery       False  0.142368  0.148687  0.133818   \n",
       "3              ARG     Machinery       False  0.147943  0.174707  0.144970   \n",
       "4              ARG     Machinery       False  0.160571  0.179738  0.152226   \n",
       "\n",
       "      Close      Volume  \n",
       "0  0.185858  8522223.00  \n",
       "1  0.141996  8754235.25  \n",
       "2  0.146456  6738297.00  \n",
       "3  0.162440  8879853.35  \n",
       "4  0.158462  8679271.40  "
      ]
     },
     "execution_count": 9,
     "metadata": {},
     "output_type": "execute_result"
    }
   ],
   "source": [
    "df.head(5)"
   ]
  },
  {
   "cell_type": "markdown",
   "id": "ef8vJeR5onLC",
   "metadata": {
    "id": "ef8vJeR5onLC"
   },
   "source": [
    "# Define functions used to implement Zhou's Model using emperical data from company balance sheet and stock returns"
   ]
  },
  {
   "cell_type": "code",
   "execution_count": 32,
   "id": "AzeUl9S9ldbV",
   "metadata": {
    "id": "AzeUl9S9ldbV"
   },
   "outputs": [],
   "source": [
    "### These are function producing the estimated parameters used in the Zhou(2001) model\n",
    "def get_companies():\n",
    "  return df['company_name'].unique()\n",
    "\n",
    "def get_industries():\n",
    "  return df['industry_name'].unique()\n",
    "\n",
    "def get_date():\n",
    "  return df['datadate'].unique()\n",
    "\n",
    "def get_num_quarter():\n",
    "  return len(df['fiscal_quarter'].value_counts())\n",
    "\n",
    "def get_country_codes():\n",
    "  return df['iso_country_code'].unique()\n",
    "\n",
    "def get_companies_from_industry(industry):\n",
    "  return df[df['industry_name'] == industry]['company_name'].unique()\n",
    "\n",
    "def get_companies_from_country(country):\n",
    "  return df[df['iso_country_code'] == country]['company_name'].unique()\n",
    "\n",
    "def get_finance_companies():\n",
    "  return df[df['is_finance']==True]['company_name'].unique().tolist()\n",
    "\n",
    "def get_Vi0(start,company1,company2):\n",
    "  '''\n",
    "  This function takes the a start date and two company names to return the starting value of assets\n",
    "  Output: [v_company1_0,v_company_2_0]\n",
    "  '''\n",
    "  v_10 = df[(df['company_name'] == company1)&(df['datadate'] == start)]['total_assets'].item()\n",
    "  v_20 = df[(df['company_name'] == company2)&(df['datadate'] == start)]['total_assets'].item()\n",
    "  return v_10,v_20\n",
    "\n",
    "def get_Ki(start,company1,company2):\n",
    "  '''\n",
    "  This function takes the a start date and two company names to return the starting value of Ki := short-term liability + 50% long-term liability\n",
    "                                                                                                 = total liability -50% long-term liability\n",
    "  Output: k_company1,k_company_2\n",
    "  '''\n",
    "  total_liability_1 = df.loc[(df['company_name'] == company1)&(df['datadate'] == start),['total_liabilities']].iloc[0,0]\n",
    "  total_liability_2 = df.loc[(df['company_name'] == company2)&(df['datadate'] == start),['total_liabilities']].iloc[0,0]\n",
    "  # long_term_liability_1 = df.loc[(df['company_name'] == company1)&(df['datadate'] == start),['long_term_liabilities']].iloc[0,0]\n",
    "  # long_term_liability_2 = df.loc[(df['company_name'] == company2)&(df['datadate'] == start),['long_term_liabilities']].iloc[0,0]\n",
    "  return  0.75*total_liability_1,0.75*total_liability_2\n",
    "\n",
    "def get_t(start,end):\n",
    "  '''\n",
    "  This function takes the start date and end date of a time horizon and return t\n",
    "  in Zhou(2001) formula\n",
    "  Output: t(in years)\n",
    "  '''\n",
    "  start_idx = np.where(df['datadate'] == start)[0][0]\n",
    "  end_idx = np.where(df['datadate'] == end)[0][0]\n",
    "  return (end_idx - start_idx)/4\n",
    "\n",
    "def get_sigma_i(start,end,company):\n",
    "  '''\n",
    "  This function returns the estimated asset volatility of a firm\n",
    "  '''\n",
    "  close_list = df[(df['datadate'] >= start) & (df['datadate'] <= end)&(df['company_name'] == company)]['Close']\n",
    "  close_pct = close_list.pct_change()[1:]\n",
    "  #print(close_list)\n",
    "  return close_pct.std()\n",
    "\n",
    "\n",
    "def get_rho(start,end,companies,column,company_1 = None,company_2 = None):\n",
    "  '''\n",
    "  This function takes the start date and end date of a time frame and returns the correlation matrix of asset value in a given time horizon\n",
    "  Note companies is a numpy array containing the name of companies\n",
    "  Output: A list object:[whole correlation matrix, corr(companyname1,companyname2)] if company_1 and company_2 specified\n",
    "          the whole correlation matrix otherwise\n",
    "  '''\n",
    "  diff_matrix = np.zeros((int(get_t(start,end)*4),len(companies)))\n",
    "  for i in [i for i in range(0,len(companies))]:\n",
    "    col_val = np.diff(np.log(df[(df['datadate'] >= start) & (df['datadate'] <= end)&(df['company_name'] == companies[i])][column]))\n",
    "    diff_matrix [:,i]= col_val\n",
    "  diff_matrix = pd.DataFrame(diff_matrix)\n",
    "  corr_df  = diff_matrix.corr()\n",
    "  if company_1 == None and company_2 == None:\n",
    "    return corr_df\n",
    "  else:\n",
    "    company_1_idx = companies.tolist().index(company_1)\n",
    "    company_2_idx = companies.tolist().index(company_2)\n",
    "    output = corr_df[company_1_idx][company_2_idx]\n",
    "    return output"
   ]
  },
  {
   "cell_type": "code",
   "execution_count": 11,
   "id": "oTAcOpQ5wCVQ",
   "metadata": {
    "colab": {
     "base_uri": "https://localhost:8080/"
    },
    "executionInfo": {
     "elapsed": 5,
     "status": "ok",
     "timestamp": 1708729831272,
     "user": {
      "displayName": "Nico",
      "userId": "12872846156580039434"
     },
     "user_tz": 0
    },
    "id": "oTAcOpQ5wCVQ",
    "outputId": "c85d49ef-14f0-4f8b-8fba-02b2bfcd77d3"
   },
   "outputs": [
    {
     "name": "stdout",
     "output_type": "stream",
     "text": [
      "ARG 26\n",
      "PER 1\n",
      "CUW 1\n",
      "BRA 54\n",
      "CHL 51\n",
      "COL 10\n",
      "JAM 1\n",
      "CYM 1\n",
      "MEX 48\n",
      "PAN 2\n",
      "TTO 1\n",
      "VGB 3\n"
     ]
    }
   ],
   "source": [
    "for i in range(len(get_country_codes())):\n",
    "  print(get_country_codes()[i], df[df['iso_country_code'] == get_country_codes()[i]]['company_name'].nunique())"
   ]
  },
  {
   "cell_type": "code",
   "execution_count": 12,
   "id": "9005da47",
   "metadata": {},
   "outputs": [
    {
     "data": {
      "text/html": [
       "<div>\n",
       "<style scoped>\n",
       "    .dataframe tbody tr th:only-of-type {\n",
       "        vertical-align: middle;\n",
       "    }\n",
       "\n",
       "    .dataframe tbody tr th {\n",
       "        vertical-align: top;\n",
       "    }\n",
       "\n",
       "    .dataframe thead th {\n",
       "        text-align: right;\n",
       "    }\n",
       "</style>\n",
       "<table border=\"1\" class=\"dataframe\">\n",
       "  <thead>\n",
       "    <tr style=\"text-align: right;\">\n",
       "      <th></th>\n",
       "      <th>datadate</th>\n",
       "      <th>key</th>\n",
       "      <th>fiscal_quarter</th>\n",
       "      <th>fiscal_year</th>\n",
       "      <th>total_assets</th>\n",
       "      <th>total_liabilities</th>\n",
       "      <th>isin</th>\n",
       "      <th>company_name</th>\n",
       "      <th>gic_industries</th>\n",
       "      <th>iso_country_code</th>\n",
       "      <th>industry_name</th>\n",
       "      <th>is_finance</th>\n",
       "      <th>Open</th>\n",
       "      <th>High</th>\n",
       "      <th>Low</th>\n",
       "      <th>Close</th>\n",
       "      <th>Volume</th>\n",
       "    </tr>\n",
       "  </thead>\n",
       "  <tbody>\n",
       "    <tr>\n",
       "      <th>9576</th>\n",
       "      <td>2006-03-31</td>\n",
       "      <td>205182.0</td>\n",
       "      <td>1</td>\n",
       "      <td>2006</td>\n",
       "      <td>1.820810e+05</td>\n",
       "      <td>38980.180000</td>\n",
       "      <td>COC07PA00027</td>\n",
       "      <td>MINEROS SA</td>\n",
       "      <td>151040.0</td>\n",
       "      <td>COL</td>\n",
       "      <td>Metals &amp; Mining</td>\n",
       "      <td>False</td>\n",
       "      <td>0.593468</td>\n",
       "      <td>0.784226</td>\n",
       "      <td>0.572273</td>\n",
       "      <td>0.741836</td>\n",
       "      <td>2.208212e+07</td>\n",
       "    </tr>\n",
       "    <tr>\n",
       "      <th>9577</th>\n",
       "      <td>2006-06-30</td>\n",
       "      <td>205182.0</td>\n",
       "      <td>2</td>\n",
       "      <td>2006</td>\n",
       "      <td>1.820810e+05</td>\n",
       "      <td>38980.180000</td>\n",
       "      <td>COC07PA00027</td>\n",
       "      <td>MINEROS SA</td>\n",
       "      <td>151040.0</td>\n",
       "      <td>COL</td>\n",
       "      <td>Metals &amp; Mining</td>\n",
       "      <td>False</td>\n",
       "      <td>0.746075</td>\n",
       "      <td>1.038570</td>\n",
       "      <td>0.678250</td>\n",
       "      <td>0.792704</td>\n",
       "      <td>4.058738e+07</td>\n",
       "    </tr>\n",
       "    <tr>\n",
       "      <th>9578</th>\n",
       "      <td>2006-09-30</td>\n",
       "      <td>205182.0</td>\n",
       "      <td>3</td>\n",
       "      <td>2006</td>\n",
       "      <td>1.820810e+05</td>\n",
       "      <td>38980.180000</td>\n",
       "      <td>COC07PA00027</td>\n",
       "      <td>MINEROS SA</td>\n",
       "      <td>151040.0</td>\n",
       "      <td>COL</td>\n",
       "      <td>Metals &amp; Mining</td>\n",
       "      <td>False</td>\n",
       "      <td>0.792704</td>\n",
       "      <td>0.932593</td>\n",
       "      <td>0.763031</td>\n",
       "      <td>0.801182</td>\n",
       "      <td>5.809771e+06</td>\n",
       "    </tr>\n",
       "    <tr>\n",
       "      <th>9579</th>\n",
       "      <td>2006-12-31</td>\n",
       "      <td>205182.0</td>\n",
       "      <td>4</td>\n",
       "      <td>2006</td>\n",
       "      <td>1.820810e+05</td>\n",
       "      <td>38980.180000</td>\n",
       "      <td>COC07PA00027</td>\n",
       "      <td>MINEROS SA</td>\n",
       "      <td>151040.0</td>\n",
       "      <td>COL</td>\n",
       "      <td>Metals &amp; Mining</td>\n",
       "      <td>False</td>\n",
       "      <td>0.792704</td>\n",
       "      <td>1.059765</td>\n",
       "      <td>0.775748</td>\n",
       "      <td>0.996179</td>\n",
       "      <td>7.799280e+06</td>\n",
       "    </tr>\n",
       "    <tr>\n",
       "      <th>9580</th>\n",
       "      <td>2007-03-31</td>\n",
       "      <td>205182.0</td>\n",
       "      <td>5</td>\n",
       "      <td>2007</td>\n",
       "      <td>1.841106e+05</td>\n",
       "      <td>35910.398356</td>\n",
       "      <td>COC07PA00027</td>\n",
       "      <td>MINEROS SA</td>\n",
       "      <td>151040.0</td>\n",
       "      <td>COL</td>\n",
       "      <td>Metals &amp; Mining</td>\n",
       "      <td>False</td>\n",
       "      <td>1.131413</td>\n",
       "      <td>1.169929</td>\n",
       "      <td>1.015865</td>\n",
       "      <td>1.145857</td>\n",
       "      <td>1.009397e+07</td>\n",
       "    </tr>\n",
       "    <tr>\n",
       "      <th>...</th>\n",
       "      <td>...</td>\n",
       "      <td>...</td>\n",
       "      <td>...</td>\n",
       "      <td>...</td>\n",
       "      <td>...</td>\n",
       "      <td>...</td>\n",
       "      <td>...</td>\n",
       "      <td>...</td>\n",
       "      <td>...</td>\n",
       "      <td>...</td>\n",
       "      <td>...</td>\n",
       "      <td>...</td>\n",
       "      <td>...</td>\n",
       "      <td>...</td>\n",
       "      <td>...</td>\n",
       "      <td>...</td>\n",
       "      <td>...</td>\n",
       "    </tr>\n",
       "    <tr>\n",
       "      <th>10291</th>\n",
       "      <td>2022-12-31</td>\n",
       "      <td>292768.0</td>\n",
       "      <td>68</td>\n",
       "      <td>2022</td>\n",
       "      <td>2.580020e+06</td>\n",
       "      <td>584876.000000</td>\n",
       "      <td>COW19PA00020</td>\n",
       "      <td>PROTECCION SA</td>\n",
       "      <td>402030.0</td>\n",
       "      <td>COL</td>\n",
       "      <td>Capital Markets</td>\n",
       "      <td>True</td>\n",
       "      <td>28.158742</td>\n",
       "      <td>28.158742</td>\n",
       "      <td>28.158742</td>\n",
       "      <td>28.158742</td>\n",
       "      <td>3.225492e+03</td>\n",
       "    </tr>\n",
       "    <tr>\n",
       "      <th>10292</th>\n",
       "      <td>2023-03-31</td>\n",
       "      <td>292768.0</td>\n",
       "      <td>69</td>\n",
       "      <td>2023</td>\n",
       "      <td>2.698882e+06</td>\n",
       "      <td>593777.147000</td>\n",
       "      <td>COW19PA00020</td>\n",
       "      <td>PROTECCION SA</td>\n",
       "      <td>402030.0</td>\n",
       "      <td>COL</td>\n",
       "      <td>Capital Markets</td>\n",
       "      <td>True</td>\n",
       "      <td>27.556860</td>\n",
       "      <td>27.556860</td>\n",
       "      <td>18.371240</td>\n",
       "      <td>18.371240</td>\n",
       "      <td>2.909312e+03</td>\n",
       "    </tr>\n",
       "    <tr>\n",
       "      <th>10293</th>\n",
       "      <td>2023-06-30</td>\n",
       "      <td>292768.0</td>\n",
       "      <td>70</td>\n",
       "      <td>2023</td>\n",
       "      <td>2.784071e+06</td>\n",
       "      <td>597825.375000</td>\n",
       "      <td>COW19PA00020</td>\n",
       "      <td>PROTECCION SA</td>\n",
       "      <td>402030.0</td>\n",
       "      <td>COL</td>\n",
       "      <td>Capital Markets</td>\n",
       "      <td>True</td>\n",
       "      <td>18.371240</td>\n",
       "      <td>18.371240</td>\n",
       "      <td>18.371240</td>\n",
       "      <td>18.371240</td>\n",
       "      <td>2.173139e+03</td>\n",
       "    </tr>\n",
       "    <tr>\n",
       "      <th>10294</th>\n",
       "      <td>2023-09-30</td>\n",
       "      <td>292768.0</td>\n",
       "      <td>71</td>\n",
       "      <td>2023</td>\n",
       "      <td>2.786187e+06</td>\n",
       "      <td>613564.366000</td>\n",
       "      <td>COW19PA00020</td>\n",
       "      <td>PROTECCION SA</td>\n",
       "      <td>402030.0</td>\n",
       "      <td>COL</td>\n",
       "      <td>Capital Markets</td>\n",
       "      <td>True</td>\n",
       "      <td>18.371240</td>\n",
       "      <td>18.371240</td>\n",
       "      <td>9.185620</td>\n",
       "      <td>9.185620</td>\n",
       "      <td>1.752061e+03</td>\n",
       "    </tr>\n",
       "    <tr>\n",
       "      <th>10295</th>\n",
       "      <td>2023-12-31</td>\n",
       "      <td>292768.0</td>\n",
       "      <td>72</td>\n",
       "      <td>2023</td>\n",
       "      <td>2.786187e+06</td>\n",
       "      <td>613564.366000</td>\n",
       "      <td>COW19PA00020</td>\n",
       "      <td>PROTECCION SA</td>\n",
       "      <td>402030.0</td>\n",
       "      <td>COL</td>\n",
       "      <td>Capital Markets</td>\n",
       "      <td>True</td>\n",
       "      <td>9.185620</td>\n",
       "      <td>18.371240</td>\n",
       "      <td>9.185620</td>\n",
       "      <td>18.371240</td>\n",
       "      <td>6.933871e+03</td>\n",
       "    </tr>\n",
       "  </tbody>\n",
       "</table>\n",
       "<p>720 rows × 17 columns</p>\n",
       "</div>"
      ],
      "text/plain": [
       "        datadate       key  fiscal_quarter  fiscal_year  total_assets  \\\n",
       "9576  2006-03-31  205182.0               1         2006  1.820810e+05   \n",
       "9577  2006-06-30  205182.0               2         2006  1.820810e+05   \n",
       "9578  2006-09-30  205182.0               3         2006  1.820810e+05   \n",
       "9579  2006-12-31  205182.0               4         2006  1.820810e+05   \n",
       "9580  2007-03-31  205182.0               5         2007  1.841106e+05   \n",
       "...          ...       ...             ...          ...           ...   \n",
       "10291 2022-12-31  292768.0              68         2022  2.580020e+06   \n",
       "10292 2023-03-31  292768.0              69         2023  2.698882e+06   \n",
       "10293 2023-06-30  292768.0              70         2023  2.784071e+06   \n",
       "10294 2023-09-30  292768.0              71         2023  2.786187e+06   \n",
       "10295 2023-12-31  292768.0              72         2023  2.786187e+06   \n",
       "\n",
       "       total_liabilities          isin   company_name  gic_industries  \\\n",
       "9576        38980.180000  COC07PA00027     MINEROS SA        151040.0   \n",
       "9577        38980.180000  COC07PA00027     MINEROS SA        151040.0   \n",
       "9578        38980.180000  COC07PA00027     MINEROS SA        151040.0   \n",
       "9579        38980.180000  COC07PA00027     MINEROS SA        151040.0   \n",
       "9580        35910.398356  COC07PA00027     MINEROS SA        151040.0   \n",
       "...                  ...           ...            ...             ...   \n",
       "10291      584876.000000  COW19PA00020  PROTECCION SA        402030.0   \n",
       "10292      593777.147000  COW19PA00020  PROTECCION SA        402030.0   \n",
       "10293      597825.375000  COW19PA00020  PROTECCION SA        402030.0   \n",
       "10294      613564.366000  COW19PA00020  PROTECCION SA        402030.0   \n",
       "10295      613564.366000  COW19PA00020  PROTECCION SA        402030.0   \n",
       "\n",
       "      iso_country_code    industry_name  is_finance       Open       High  \\\n",
       "9576               COL  Metals & Mining       False   0.593468   0.784226   \n",
       "9577               COL  Metals & Mining       False   0.746075   1.038570   \n",
       "9578               COL  Metals & Mining       False   0.792704   0.932593   \n",
       "9579               COL  Metals & Mining       False   0.792704   1.059765   \n",
       "9580               COL  Metals & Mining       False   1.131413   1.169929   \n",
       "...                ...              ...         ...        ...        ...   \n",
       "10291              COL  Capital Markets        True  28.158742  28.158742   \n",
       "10292              COL  Capital Markets        True  27.556860  27.556860   \n",
       "10293              COL  Capital Markets        True  18.371240  18.371240   \n",
       "10294              COL  Capital Markets        True  18.371240  18.371240   \n",
       "10295              COL  Capital Markets        True   9.185620  18.371240   \n",
       "\n",
       "             Low      Close        Volume  \n",
       "9576    0.572273   0.741836  2.208212e+07  \n",
       "9577    0.678250   0.792704  4.058738e+07  \n",
       "9578    0.763031   0.801182  5.809771e+06  \n",
       "9579    0.775748   0.996179  7.799280e+06  \n",
       "9580    1.015865   1.145857  1.009397e+07  \n",
       "...          ...        ...           ...  \n",
       "10291  28.158742  28.158742  3.225492e+03  \n",
       "10292  18.371240  18.371240  2.909312e+03  \n",
       "10293  18.371240  18.371240  2.173139e+03  \n",
       "10294   9.185620   9.185620  1.752061e+03  \n",
       "10295   9.185620  18.371240  6.933871e+03  \n",
       "\n",
       "[720 rows x 17 columns]"
      ]
     },
     "execution_count": 12,
     "metadata": {},
     "output_type": "execute_result"
    }
   ],
   "source": [
    "df[df['iso_country_code']== 'COL']"
   ]
  },
  {
   "cell_type": "code",
   "execution_count": 13,
   "id": "GbWbGZAsrrfS",
   "metadata": {
    "colab": {
     "base_uri": "https://localhost:8080/"
    },
    "executionInfo": {
     "elapsed": 4,
     "status": "ok",
     "timestamp": 1708729831272,
     "user": {
      "displayName": "Nico",
      "userId": "12872846156580039434"
     },
     "user_tz": 0
    },
    "id": "GbWbGZAsrrfS",
    "outputId": "d7ab1bd0-becd-407e-c1c2-2b1e5562abfd"
   },
   "outputs": [
    {
     "data": {
      "text/plain": [
       "(36.4952, 8916.0)"
      ]
     },
     "execution_count": 13,
     "metadata": {},
     "output_type": "execute_result"
    }
   ],
   "source": [
    "get_Vi0('2006-03-31','PAMPA ENERGIA SA','TELECOM ARGENTINA'\t)"
   ]
  },
  {
   "cell_type": "code",
   "execution_count": 14,
   "id": "2YJDYRK9xBsN",
   "metadata": {
    "colab": {
     "base_uri": "https://localhost:8080/"
    },
    "executionInfo": {
     "elapsed": 4,
     "status": "ok",
     "timestamp": 1708729831272,
     "user": {
      "displayName": "Nico",
      "userId": "12872846156580039434"
     },
     "user_tz": 0
    },
    "id": "2YJDYRK9xBsN",
    "outputId": "6c19b0c0-38f2-4e26-905f-c73e0a6ec358"
   },
   "outputs": [
    {
     "data": {
      "text/plain": [
       "(6.87285, 5249.25)"
      ]
     },
     "execution_count": 14,
     "metadata": {},
     "output_type": "execute_result"
    }
   ],
   "source": [
    "get_Ki('2006-03-31','PAMPA ENERGIA SA','TELECOM ARGENTINA')"
   ]
  },
  {
   "cell_type": "code",
   "execution_count": 15,
   "id": "wjGV_fJYOKzf",
   "metadata": {
    "colab": {
     "base_uri": "https://localhost:8080/"
    },
    "executionInfo": {
     "elapsed": 3,
     "status": "ok",
     "timestamp": 1708729831272,
     "user": {
      "displayName": "Nico",
      "userId": "12872846156580039434"
     },
     "user_tz": 0
    },
    "id": "wjGV_fJYOKzf",
    "outputId": "1c2d986b-a2ad-466f-859f-e40312ec8852"
   },
   "outputs": [
    {
     "data": {
      "text/plain": [
       "15.0"
      ]
     },
     "execution_count": 15,
     "metadata": {},
     "output_type": "execute_result"
    }
   ],
   "source": [
    "\n",
    "get_t('2006-03-31','2021-03-31')"
   ]
  },
  {
   "cell_type": "code",
   "execution_count": 16,
   "id": "L0OJrlps-2ww",
   "metadata": {
    "id": "L0OJrlps-2ww"
   },
   "outputs": [],
   "source": [
    "# s = get_rho('2018-03-31','2023-03-31',get_companies(),'Close').stack()\n",
    "# l = list(filter( lambda x: x[0]!= x[1],s[s>0.99].index.tolist()))\n",
    "# l"
   ]
  },
  {
   "cell_type": "code",
   "execution_count": 17,
   "id": "MdcqjhhoIsPx",
   "metadata": {
    "colab": {
     "base_uri": "https://localhost:8080/",
     "height": 192
    },
    "executionInfo": {
     "elapsed": 617,
     "status": "ok",
     "timestamp": 1708729831886,
     "user": {
      "displayName": "Nico",
      "userId": "12872846156580039434"
     },
     "user_tz": 0
    },
    "id": "MdcqjhhoIsPx",
    "outputId": "73aa002e-a831-4667-83a2-f69d41c711f9"
   },
   "outputs": [
    {
     "data": {
      "text/html": [
       "<div>\n",
       "<style scoped>\n",
       "    .dataframe tbody tr th:only-of-type {\n",
       "        vertical-align: middle;\n",
       "    }\n",
       "\n",
       "    .dataframe tbody tr th {\n",
       "        vertical-align: top;\n",
       "    }\n",
       "\n",
       "    .dataframe thead th {\n",
       "        text-align: right;\n",
       "    }\n",
       "</style>\n",
       "<table border=\"1\" class=\"dataframe\">\n",
       "  <thead>\n",
       "    <tr style=\"text-align: right;\">\n",
       "      <th></th>\n",
       "      <th>0</th>\n",
       "      <th>1</th>\n",
       "      <th>2</th>\n",
       "      <th>3</th>\n",
       "      <th>4</th>\n",
       "      <th>5</th>\n",
       "      <th>6</th>\n",
       "      <th>7</th>\n",
       "      <th>8</th>\n",
       "      <th>9</th>\n",
       "      <th>...</th>\n",
       "      <th>189</th>\n",
       "      <th>190</th>\n",
       "      <th>191</th>\n",
       "      <th>192</th>\n",
       "      <th>193</th>\n",
       "      <th>194</th>\n",
       "      <th>195</th>\n",
       "      <th>196</th>\n",
       "      <th>197</th>\n",
       "      <th>198</th>\n",
       "    </tr>\n",
       "  </thead>\n",
       "  <tbody>\n",
       "    <tr>\n",
       "      <th>0</th>\n",
       "      <td>1.000000</td>\n",
       "      <td>-0.633200</td>\n",
       "      <td>0.677572</td>\n",
       "      <td>0.904816</td>\n",
       "      <td>0.989767</td>\n",
       "      <td>0.721817</td>\n",
       "      <td>0.835530</td>\n",
       "      <td>0.495626</td>\n",
       "      <td>0.901614</td>\n",
       "      <td>-0.559971</td>\n",
       "      <td>...</td>\n",
       "      <td>0.838838</td>\n",
       "      <td>-0.315740</td>\n",
       "      <td>0.982783</td>\n",
       "      <td>0.674592</td>\n",
       "      <td>0.944351</td>\n",
       "      <td>0.904763</td>\n",
       "      <td>0.945420</td>\n",
       "      <td>0.653276</td>\n",
       "      <td>0.565793</td>\n",
       "      <td>0.986711</td>\n",
       "    </tr>\n",
       "    <tr>\n",
       "      <th>1</th>\n",
       "      <td>-0.633200</td>\n",
       "      <td>1.000000</td>\n",
       "      <td>0.140197</td>\n",
       "      <td>-0.243364</td>\n",
       "      <td>-0.516281</td>\n",
       "      <td>0.078610</td>\n",
       "      <td>-0.103794</td>\n",
       "      <td>0.358406</td>\n",
       "      <td>-0.236120</td>\n",
       "      <td>0.995832</td>\n",
       "      <td>...</td>\n",
       "      <td>-0.952497</td>\n",
       "      <td>0.934322</td>\n",
       "      <td>-0.765304</td>\n",
       "      <td>0.144200</td>\n",
       "      <td>-0.343368</td>\n",
       "      <td>-0.902549</td>\n",
       "      <td>-0.850847</td>\n",
       "      <td>-0.999656</td>\n",
       "      <td>-0.996450</td>\n",
       "      <td>-0.499024</td>\n",
       "    </tr>\n",
       "    <tr>\n",
       "      <th>2</th>\n",
       "      <td>0.677572</td>\n",
       "      <td>0.140197</td>\n",
       "      <td>1.000000</td>\n",
       "      <td>0.926237</td>\n",
       "      <td>0.775580</td>\n",
       "      <td>0.998081</td>\n",
       "      <td>0.970224</td>\n",
       "      <td>0.974593</td>\n",
       "      <td>0.929024</td>\n",
       "      <td>0.229915</td>\n",
       "      <td>...</td>\n",
       "      <td>0.168003</td>\n",
       "      <td>0.483899</td>\n",
       "      <td>0.530020</td>\n",
       "      <td>0.999992</td>\n",
       "      <td>0.881786</td>\n",
       "      <td>0.299800</td>\n",
       "      <td>0.400939</td>\n",
       "      <td>-0.114188</td>\n",
       "      <td>-0.223054</td>\n",
       "      <td>0.788068</td>\n",
       "    </tr>\n",
       "  </tbody>\n",
       "</table>\n",
       "<p>3 rows × 199 columns</p>\n",
       "</div>"
      ],
      "text/plain": [
       "        0         1         2         3         4         5         6    \\\n",
       "0  1.000000 -0.633200  0.677572  0.904816  0.989767  0.721817  0.835530   \n",
       "1 -0.633200  1.000000  0.140197 -0.243364 -0.516281  0.078610 -0.103794   \n",
       "2  0.677572  0.140197  1.000000  0.926237  0.775580  0.998081  0.970224   \n",
       "\n",
       "        7         8         9    ...       189       190       191       192  \\\n",
       "0  0.495626  0.901614 -0.559971  ...  0.838838 -0.315740  0.982783  0.674592   \n",
       "1  0.358406 -0.236120  0.995832  ... -0.952497  0.934322 -0.765304  0.144200   \n",
       "2  0.974593  0.929024  0.229915  ...  0.168003  0.483899  0.530020  0.999992   \n",
       "\n",
       "        193       194       195       196       197       198  \n",
       "0  0.944351  0.904763  0.945420  0.653276  0.565793  0.986711  \n",
       "1 -0.343368 -0.902549 -0.850847 -0.999656 -0.996450 -0.499024  \n",
       "2  0.881786  0.299800  0.400939 -0.114188 -0.223054  0.788068  \n",
       "\n",
       "[3 rows x 199 columns]"
      ]
     },
     "execution_count": 17,
     "metadata": {},
     "output_type": "execute_result"
    }
   ],
   "source": [
    "get_rho(get_date()[0],get_date()[3],get_companies(),'Close').head(3)"
   ]
  },
  {
   "cell_type": "code",
   "execution_count": 29,
   "id": "w-XZ5Pks1C28",
   "metadata": {
    "id": "w-XZ5Pks1C28"
   },
   "outputs": [
    {
     "name": "stderr",
     "output_type": "stream",
     "text": [
      "C:\\Users\\ZYWCH\\AppData\\Local\\Temp\\ipykernel_9556\\4156262280.py:1: NumbaDeprecationWarning: \u001b[1mThe 'nopython' keyword argument was not supplied to the 'numba.jit' decorator. The implicit default value for this argument is currently False, but it will be changed to True in Numba 0.59.0. See https://numba.readthedocs.io/en/stable/reference/deprecation.html#deprecation-of-object-mode-fall-back-behaviour-when-using-jit for details.\u001b[0m\n",
      "  @jit\n",
      "C:\\Users\\ZYWCH\\AppData\\Local\\Temp\\ipykernel_9556\\4156262280.py:22: NumbaDeprecationWarning: \u001b[1mThe 'nopython' keyword argument was not supplied to the 'numba.jit' decorator. The implicit default value for this argument is currently False, but it will be changed to True in Numba 0.59.0. See https://numba.readthedocs.io/en/stable/reference/deprecation.html#deprecation-of-object-mode-fall-back-behaviour-when-using-jit for details.\u001b[0m\n",
      "  @jit\n",
      "C:\\Users\\ZYWCH\\AppData\\Local\\Temp\\ipykernel_9556\\4156262280.py:72: NumbaDeprecationWarning: \u001b[1mThe 'nopython' keyword argument was not supplied to the 'numba.jit' decorator. The implicit default value for this argument is currently False, but it will be changed to True in Numba 0.59.0. See https://numba.readthedocs.io/en/stable/reference/deprecation.html#deprecation-of-object-mode-fall-back-behaviour-when-using-jit for details.\u001b[0m\n",
      "  @jit\n"
     ]
    }
   ],
   "source": [
    "@jit\n",
    "def get_default_corr_zhou(v1,v2,k1,k2,sigma1,sigma2,rho,t):\n",
    "  '''\n",
    "  This function returns default correlation calculated by zhou\n",
    "  '''\n",
    "  z1 = (math.log(v1/k1))/sigma1\n",
    "  z2 = (math.log(v2/k2))/sigma2\n",
    "  alpha = math.atan((-math.sqrt(1-rho**2))/rho) if rho < 0 else math.pi +  math.atan((-math.sqrt(1-rho**2))/rho)\n",
    "  theta0 = math.atan((z2*math.sqrt(1-rho**2))/(z1-rho*z2)) if (z2*math.sqrt(1-rho**2))/(z1-rho*z2) > 0 else math.pi + math.atan((z2*math.sqrt(1-rho**2))/(z1-rho*z2))\n",
    "  r0 = z2/math.sin(theta0)\n",
    "  inf_sum = 0\n",
    "  for n in [i for i in range(1,100000,2)]:\n",
    "    bassel_sum = special.iv(0.5*(((n*math.pi)/alpha)+1),(r0**2/(4*t)))+ special.iv(0.5*(((n*math.pi)/alpha)-1),(r0**2/(4*t)))\n",
    "    inf_sum += 1/n * math.sin((n*math.pi*theta0)/alpha)*bassel_sum\n",
    "  marginal_prob_1 =  2*stats.norm.cdf(-z1/math.sqrt(t)) if 2*stats.norm.cdf(-z1/math.sqrt(t))< 1 else 0.9\n",
    "  marginal_prob_2 = 2*stats.norm.cdf(-z2/math.sqrt(t))if 2*stats.norm.cdf(-z2/math.sqrt(t))<1 else 0.9\n",
    "  var_1 = marginal_prob_1*(1-marginal_prob_1)\n",
    "  var_2 = marginal_prob_2*(1-marginal_prob_2)\n",
    "  either_default_prob = 1-(2*r0/(math.sqrt(2*math.pi*t)))*math.exp(-(r0**2/(4*t)))*inf_sum\n",
    "  default_corr = (marginal_prob_1+marginal_prob_2-either_default_prob-marginal_prob_1*marginal_prob_2)/(math.sqrt(var_1*var_2))\n",
    "  return default_corr\n",
    "@jit\n",
    "def analyse_two_companies_zhou(start,end,companies,company1,company2,prob_sub = 0.9):\n",
    "  '''\n",
    "  This function returns the default correlation between 2 companies in a given time horizon by using the\n",
    "  closed form formula from Zhou(2001)\n",
    "  prob_sub is the subsituting probability if one of the marginal probability is greater than 1\n",
    "  '''\n",
    "  ### get the essential parameter for Zhou's either probability default\n",
    "  # print(companies.tolist().index(company1),companies.tolist().index(company2))\n",
    "  v1 = get_Vi0(start,company1,company2)[0]\n",
    "  v2 = get_Vi0(start,company1,company2)[1]\n",
    "  k1 = get_Ki(start,company1,company2)[0]\n",
    "  k2 = get_Ki(start,company1,company2)[1]\n",
    "  sigma1 = get_sigma_i(start,end,company1)\n",
    "  sigma2 = get_sigma_i(start,end,company2)\n",
    "  #print(sigma1,sigma2)\n",
    "#   print(get_rho(start,end,companies,'Close',company1,company2))\n",
    "  if (abs(get_rho(start,end,companies,'Close',company1,company2))>=0.99)or(get_rho(start,end,companies,'Close',company1,company2)==0):\n",
    "    rho = 0.5\n",
    "  else:\n",
    "    rho = get_rho(start,end,companies,'Close',company1,company2)\n",
    "#   print(rho)\n",
    "  t = get_t(start,end)\n",
    "  z1 = (math.log(v1/k1))/sigma1\n",
    "  z2 = (math.log(v2/k2))/sigma2\n",
    "  alpha = math.atan((-math.sqrt(1-rho**2))/rho) if rho < 0 else math.pi +  math.atan((-math.sqrt(1-rho**2))/rho)\n",
    "  theta0 = math.atan((z2*math.sqrt(1-rho**2))/(z1-rho*z2)) if (z2*math.sqrt(1-rho**2))/(z1-rho*z2) > 0 else math.pi + math.atan((z2*math.sqrt(1-rho**2))/(z1-rho*z2))\n",
    "  r0 = z2/math.sin(theta0)\n",
    "  inf_sum = 0\n",
    "  for n in [i for i in range(1,1000000,2)]:\n",
    "    bassel_sum = special.iv(0.5*(((n*math.pi)/alpha)+1),(r0**2/(4*t)))+ special.iv(0.5*(((n*math.pi)/alpha)-1),(r0**2/(4*t)))\n",
    "    inf_sum += 1/n * math.sin((n*math.pi*theta0)/alpha)*bassel_sum\n",
    "  #print(round(inf_sum,1),round(v1/k1,1),round(v2/k2,1),round(rho,2),t,round(z1,1),round(z2,1),round(alpha,1),round(theta0,1),round(r0,1))\n",
    "  ### calculate the marginal default probability and correlation\n",
    "  marginal_prob_1 = 2*stats.norm.cdf(-z1/math.sqrt(t))\n",
    "  marginal_prob_2 = 2*stats.norm.cdf(-z2/math.sqrt(t))\n",
    "  ### store the original value if any of the marginal prob >=1\n",
    "  marginal_prob_1_original = marginal_prob_1 if marginal_prob_1 >=1 else marginal_prob_1\n",
    "  marginal_prob_2_original = marginal_prob_2 if marginal_prob_2 >=1 else marginal_prob_2\n",
    "  ### use the prob_sub to calculate the correlation\n",
    "  marginal_prob_1_cal = prob_sub if marginal_prob_1 >=1 else marginal_prob_1\n",
    "  marginal_prob_2_cal = prob_sub if marginal_prob_2 >=1 else marginal_prob_2\n",
    "  var_1 = marginal_prob_1*(1-marginal_prob_1_cal)\n",
    "  var_2 = marginal_prob_2*(1-marginal_prob_2_cal)\n",
    "  either_default_prob = 1-(2*r0/(math.sqrt(2*math.pi*t)))*math.exp(-(r0**2/(4*t)))*inf_sum\n",
    "  ### if the inf_sum returns value NaN just put default correlation to 1.5 and so that it can be ignored in later calculation\n",
    "#   print(np.isnan(get_default_corr_zhou(v1,v2,k1,k2,sigma1,sigma2,rho,t)))\n",
    "  default_corr = (marginal_prob_1_cal+marginal_prob_2_cal-either_default_prob-marginal_prob_1_cal*marginal_prob_2_cal)/(math.sqrt(var_1*var_2)) if (np.isnan(get_default_corr_zhou(v1,v2,k1,k2,sigma1,sigma2,rho,t)) == False) and (rho !=0.5) else 1.5\n",
    "  return default_corr,marginal_prob_1_original,marginal_prob_2_original\n",
    "\n",
    "@jit\n",
    "def get_decorr_two_group_companies_zhou(start,end,company_list1,company_list2,prob_sub=0.9,show_non_normal = None):\n",
    "  companies = get_companies()\n",
    "  if company_list1 != company_list2:\n",
    "    combination_list =  list(itertools.product(company_list1,company_list2))\n",
    "  else:\n",
    "    combination_list = list(filter(lambda x: x[0]!=x[1],list(itertools.combinations(company_list1,2))))\n",
    "  # print(len(company_list1),len(company_list2),len(combination_list))\n",
    "#   print(company_list1)\n",
    "#   print(company_list2)\n",
    "#   print(combination_list)\n",
    "  print(len(combination_list))\n",
    "  num_pairs = len(combination_list)\n",
    "  corr_sum = 0\n",
    "  not_normal_sum = 0\n",
    "  non_normal_dic = {}\n",
    "  for (firm1,firm2) in combination_list:\n",
    "    result = analyse_two_companies_zhou(start,end,companies,firm1,firm2,prob_sub)\n",
    "    corr = result[0]\n",
    "    #print(corr_sum)\n",
    "    prob_default_1 = result[1]\n",
    "    prob_default_2 = result[2]\n",
    "    # print(corr,prob_default_1,prob_default_2)\n",
    "    # print(abs(corr)>1)\n",
    "#     print(corr,type(corr))\n",
    "    if (abs(corr) > 1) :\n",
    "      num_pairs -= 1\n",
    "#       print(num_pairs)\n",
    "      corr_sum += 0\n",
    "      non_normal_dic[corr] = [prob_default_1,prob_default_2]\n",
    "    else:\n",
    "      corr_sum += corr\n",
    "  #print(num_pairs)\n",
    "  if show_non_normal == 'Yes':\n",
    "    return non_normal_dic\n",
    "  else:\n",
    "    return corr_sum/num_pairs if num_pairs != 0 else None"
   ]
  },
  {
   "cell_type": "markdown",
   "id": "nU6cirnUIK1t",
   "metadata": {
    "id": "nU6cirnUIK1t"
   },
   "source": [
    "# get the country coefficient"
   ]
  },
  {
   "cell_type": "code",
   "execution_count": 26,
   "id": "914fc730",
   "metadata": {},
   "outputs": [],
   "source": [
    "from numba import jit\n",
    "from joblib import Parallel, delayed\n"
   ]
  },
  {
   "cell_type": "code",
   "execution_count": 30,
   "id": "MwceFhGPIREU",
   "metadata": {
    "id": "MwceFhGPIREU"
   },
   "outputs": [
    {
     "name": "stderr",
     "output_type": "stream",
     "text": [
      "C:\\Users\\ZYWCH\\AppData\\Local\\Temp\\ipykernel_9556\\1026236306.py:10: NumbaDeprecationWarning: \u001b[1mThe 'nopython' keyword argument was not supplied to the 'numba.jit' decorator. The implicit default value for this argument is currently False, but it will be changed to True in Numba 0.59.0. See https://numba.readthedocs.io/en/stable/reference/deprecation.html#deprecation-of-object-mode-fall-back-behaviour-when-using-jit for details.\u001b[0m\n",
      "  @jit\n"
     ]
    }
   ],
   "source": [
    "@jit(nopython=True)\n",
    "def get_country_corr(start,end,country,prob_sub=0.9):\n",
    "  companies = get_companies()\n",
    "  company_list_financial = df[(df['iso_country_code'] == country)&(df['is_finance'] == True)]['company_name'].unique().tolist()\n",
    "  company_list_non_financial = df[(df['iso_country_code'] == country)&(df['is_finance'] == False)]['company_name'].unique().tolist()\n",
    "  if (len(company_list_financial) < 1) or (len(company_list_non_financial) < 1):\n",
    "    return None\n",
    "  else:\n",
    "    return get_decorr_two_group_companies_zhou(start,end,company_list_financial,company_list_non_financial)\n",
    "@jit\n",
    "def get_country_corr_matrix(start,end,prob_sub=0.9):\n",
    "  countries = get_country_codes()\n",
    "  mat = pd.DataFrame({'country':countries,'country_corr':[0 for i in range(len(countries))]})\n",
    "  for i in range(len(countries)):\n",
    "    mat.at[i,'country_corr'] = get_country_corr(start,end,get_country_codes()[i])\n",
    "#     print(mat)\n",
    "  return mat"
   ]
  },
  {
   "cell_type": "code",
   "execution_count": 20,
   "id": "O-s160PeNHhf",
   "metadata": {
    "colab": {
     "base_uri": "https://localhost:8080/"
    },
    "executionInfo": {
     "elapsed": 218373,
     "status": "ok",
     "timestamp": 1708730050258,
     "user": {
      "displayName": "Nico",
      "userId": "12872846156580039434"
     },
     "user_tz": 0
    },
    "id": "O-s160PeNHhf",
    "outputId": "877313df-8778-493c-eb5f-54d46450c2b3"
   },
   "outputs": [],
   "source": [
    "# get_country_corr('2018-12-31','2021-12-31','ARG')"
   ]
  },
  {
   "cell_type": "code",
   "execution_count": 21,
   "id": "emqjE8UYCPQx",
   "metadata": {
    "colab": {
     "base_uri": "https://localhost:8080/"
    },
    "executionInfo": {
     "elapsed": 216366,
     "status": "ok",
     "timestamp": 1708730266620,
     "user": {
      "displayName": "Nico",
      "userId": "12872846156580039434"
     },
     "user_tz": 0
    },
    "id": "emqjE8UYCPQx",
    "outputId": "477199a1-c01c-4dcc-b5e3-9c4210a9bf02"
   },
   "outputs": [],
   "source": [
    "# try:\n",
    "#   print(get_country_corr('2018-12-31','2021-12-31','ARG'))\n",
    "# except:\n",
    "#   pass"
   ]
  },
  {
   "cell_type": "code",
   "execution_count": 28,
   "id": "f5910aee",
   "metadata": {},
   "outputs": [
    {
     "data": {
      "text/plain": [
       "(-1.771871617782744e+90, 5.064646195530967e-191, 7.751865664855691e-23)"
      ]
     },
     "execution_count": 28,
     "metadata": {},
     "output_type": "execute_result"
    }
   ],
   "source": [
    "analyse_two_companies_zhou('2022-12-31','2023-12-31',get_companies(),'GRUPO DE INVERSIONES SURAMER', 'MINEROS SA')"
   ]
  },
  {
   "cell_type": "code",
   "execution_count": 23,
   "id": "41448c33",
   "metadata": {},
   "outputs": [],
   "source": [
    "# get_country_corr('2022-12-31','2023-12-31','COL')"
   ]
  },
  {
   "cell_type": "code",
   "execution_count": 24,
   "id": "d656c1a5",
   "metadata": {},
   "outputs": [],
   "source": [
    "# print(get_country_corr('2022-12-31','2023-12-31','VGB'))"
   ]
  },
  {
   "cell_type": "code",
   "execution_count": 31,
   "id": "b7aed38d",
   "metadata": {
    "tags": [
     "raises-exception"
    ]
   },
   "outputs": [
    {
     "name": "stderr",
     "output_type": "stream",
     "text": [
      "C:\\Users\\ZYWCH\\AppData\\Local\\Temp\\ipykernel_9556\\1026236306.py:10: NumbaWarning: \u001b[1m\n",
      "Compilation is falling back to object mode WITH looplifting enabled because Function \"get_country_corr_matrix\" failed type inference due to: \u001b[1mUntyped global name 'get_country_codes':\u001b[0m \u001b[1m\u001b[1mCannot determine Numba type of <class 'function'>\u001b[0m\n",
      "\u001b[1m\n",
      "File \"..\\..\\AppData\\Local\\Temp\\ipykernel_9556\\1026236306.py\", line 12:\u001b[0m\n",
      "\u001b[1m<source missing, REPL/exec in use?>\u001b[0m\n",
      "\u001b[0m\u001b[0m\n",
      "  @jit\n",
      "C:\\Users\\ZYWCH\\AppData\\Local\\Temp\\ipykernel_9556\\1026236306.py:10: NumbaWarning: \u001b[1m\n",
      "Compilation is falling back to object mode WITHOUT looplifting enabled because Function \"get_country_corr_matrix\" failed type inference due to: \u001b[1mUntyped global name 'get_country_codes':\u001b[0m \u001b[1m\u001b[1mCannot determine Numba type of <class 'function'>\u001b[0m\n",
      "\u001b[1m\n",
      "File \"..\\..\\AppData\\Local\\Temp\\ipykernel_9556\\1026236306.py\", line 12:\u001b[0m\n",
      "\u001b[1m<source missing, REPL/exec in use?>\u001b[0m\n",
      "\u001b[0m\u001b[0m\n",
      "  @jit\n",
      "c:\\Users\\ZYWCH\\anaconda3\\Lib\\site-packages\\numba\\core\\object_mode_passes.py:151: NumbaWarning: \u001b[1mFunction \"get_country_corr_matrix\" was compiled in object mode without forceobj=True, but has lifted loops.\n",
      "\u001b[1m\n",
      "File \"..\\..\\AppData\\Local\\Temp\\ipykernel_9556\\1026236306.py\", line 10:\u001b[0m\n",
      "\u001b[1m<source missing, REPL/exec in use?>\u001b[0m\n",
      "\u001b[0m\n",
      "  warnings.warn(errors.NumbaWarning(warn_msg,\n",
      "c:\\Users\\ZYWCH\\anaconda3\\Lib\\site-packages\\numba\\core\\object_mode_passes.py:161: NumbaDeprecationWarning: \u001b[1m\n",
      "Fall-back from the nopython compilation path to the object mode compilation path has been detected. This is deprecated behaviour that will be removed in Numba 0.59.0.\n",
      "\n",
      "For more information visit https://numba.readthedocs.io/en/stable/reference/deprecation.html#deprecation-of-object-mode-fall-back-behaviour-when-using-jit\n",
      "\u001b[1m\n",
      "File \"..\\..\\AppData\\Local\\Temp\\ipykernel_9556\\1026236306.py\", line 10:\u001b[0m\n",
      "\u001b[1m<source missing, REPL/exec in use?>\u001b[0m\n",
      "\u001b[0m\n",
      "  warnings.warn(errors.NumbaDeprecationWarning(msg,\n",
      "C:\\Users\\ZYWCH\\AppData\\Local\\Temp\\ipykernel_9556\\1026236306.py:10: NumbaWarning: \u001b[1m\n",
      "Compilation is falling back to object mode WITHOUT looplifting enabled because Function \"get_country_corr_matrix\" failed type inference due to: \u001b[1mUntyped global name 'get_country_codes':\u001b[0m \u001b[1m\u001b[1mCannot determine Numba type of <class 'function'>\u001b[0m\n",
      "\u001b[1m\n",
      "File \"..\\..\\AppData\\Local\\Temp\\ipykernel_9556\\1026236306.py\", line 15:\u001b[0m\n",
      "\u001b[1m<source missing, REPL/exec in use?>\u001b[0m\n",
      "\u001b[0m\u001b[0m\n",
      "  @jit\n",
      "c:\\Users\\ZYWCH\\anaconda3\\Lib\\site-packages\\numba\\core\\object_mode_passes.py:151: NumbaWarning: \u001b[1mFunction \"get_country_corr_matrix\" was compiled in object mode without forceobj=True.\n",
      "\u001b[1m\n",
      "File \"..\\..\\AppData\\Local\\Temp\\ipykernel_9556\\1026236306.py\", line 14:\u001b[0m\n",
      "\u001b[1m<source missing, REPL/exec in use?>\u001b[0m\n",
      "\u001b[0m\n",
      "  warnings.warn(errors.NumbaWarning(warn_msg,\n",
      "c:\\Users\\ZYWCH\\anaconda3\\Lib\\site-packages\\numba\\core\\object_mode_passes.py:161: NumbaDeprecationWarning: \u001b[1m\n",
      "Fall-back from the nopython compilation path to the object mode compilation path has been detected. This is deprecated behaviour that will be removed in Numba 0.59.0.\n",
      "\n",
      "For more information visit https://numba.readthedocs.io/en/stable/reference/deprecation.html#deprecation-of-object-mode-fall-back-behaviour-when-using-jit\n",
      "\u001b[1m\n",
      "File \"..\\..\\AppData\\Local\\Temp\\ipykernel_9556\\1026236306.py\", line 14:\u001b[0m\n",
      "\u001b[1m<source missing, REPL/exec in use?>\u001b[0m\n",
      "\u001b[0m\n",
      "  warnings.warn(errors.NumbaDeprecationWarning(msg,\n"
     ]
    },
    {
     "ename": "TypingError",
     "evalue": "Failed in nopython mode pipeline (step: nopython frontend)\n\u001b[1mUntyped global name 'get_companies':\u001b[0m \u001b[1m\u001b[1mCannot determine Numba type of <class 'function'>\u001b[0m\n\u001b[1m\nFile \"..\\..\\AppData\\Local\\Temp\\ipykernel_9556\\1026236306.py\", line 3:\u001b[0m\n\u001b[1m<source missing, REPL/exec in use?>\u001b[0m\n\u001b[0m",
     "output_type": "error",
     "traceback": [
      "\u001b[1;31m---------------------------------------------------------------------------\u001b[0m",
      "\u001b[1;31mTypingError\u001b[0m                               Traceback (most recent call last)",
      "Cell \u001b[1;32mIn[31], line 1\u001b[0m\n\u001b[1;32m----> 1\u001b[0m get_country_corr_matrix(\u001b[38;5;124m'\u001b[39m\u001b[38;5;124m2022-12-31\u001b[39m\u001b[38;5;124m'\u001b[39m,\u001b[38;5;124m'\u001b[39m\u001b[38;5;124m2023-12-31\u001b[39m\u001b[38;5;124m'\u001b[39m)\n",
      "File \u001b[1;32mc:\\Users\\ZYWCH\\anaconda3\\Lib\\site-packages\\numba\\core\\dispatcher.py:468\u001b[0m, in \u001b[0;36m_DispatcherBase._compile_for_args\u001b[1;34m(self, *args, **kws)\u001b[0m\n\u001b[0;32m    464\u001b[0m         msg \u001b[38;5;241m=\u001b[39m (\u001b[38;5;124mf\u001b[39m\u001b[38;5;124m\"\u001b[39m\u001b[38;5;132;01m{\u001b[39;00m\u001b[38;5;28mstr\u001b[39m(e)\u001b[38;5;241m.\u001b[39mrstrip()\u001b[38;5;132;01m}\u001b[39;00m\u001b[38;5;124m \u001b[39m\u001b[38;5;130;01m\\n\u001b[39;00m\u001b[38;5;130;01m\\n\u001b[39;00m\u001b[38;5;124mThis error may have been caused \u001b[39m\u001b[38;5;124m\"\u001b[39m\n\u001b[0;32m    465\u001b[0m                \u001b[38;5;124mf\u001b[39m\u001b[38;5;124m\"\u001b[39m\u001b[38;5;124mby the following argument(s):\u001b[39m\u001b[38;5;130;01m\\n\u001b[39;00m\u001b[38;5;132;01m{\u001b[39;00margs_str\u001b[38;5;132;01m}\u001b[39;00m\u001b[38;5;130;01m\\n\u001b[39;00m\u001b[38;5;124m\"\u001b[39m)\n\u001b[0;32m    466\u001b[0m         e\u001b[38;5;241m.\u001b[39mpatch_message(msg)\n\u001b[1;32m--> 468\u001b[0m     error_rewrite(e, \u001b[38;5;124m'\u001b[39m\u001b[38;5;124mtyping\u001b[39m\u001b[38;5;124m'\u001b[39m)\n\u001b[0;32m    469\u001b[0m \u001b[38;5;28;01mexcept\u001b[39;00m errors\u001b[38;5;241m.\u001b[39mUnsupportedError \u001b[38;5;28;01mas\u001b[39;00m e:\n\u001b[0;32m    470\u001b[0m     \u001b[38;5;66;03m# Something unsupported is present in the user code, add help info\u001b[39;00m\n\u001b[0;32m    471\u001b[0m     error_rewrite(e, \u001b[38;5;124m'\u001b[39m\u001b[38;5;124munsupported_error\u001b[39m\u001b[38;5;124m'\u001b[39m)\n",
      "File \u001b[1;32mc:\\Users\\ZYWCH\\anaconda3\\Lib\\site-packages\\numba\\core\\dispatcher.py:409\u001b[0m, in \u001b[0;36m_DispatcherBase._compile_for_args.<locals>.error_rewrite\u001b[1;34m(e, issue_type)\u001b[0m\n\u001b[0;32m    407\u001b[0m     \u001b[38;5;28;01mraise\u001b[39;00m e\n\u001b[0;32m    408\u001b[0m \u001b[38;5;28;01melse\u001b[39;00m:\n\u001b[1;32m--> 409\u001b[0m     \u001b[38;5;28;01mraise\u001b[39;00m e\u001b[38;5;241m.\u001b[39mwith_traceback(\u001b[38;5;28;01mNone\u001b[39;00m)\n",
      "\u001b[1;31mTypingError\u001b[0m: Failed in nopython mode pipeline (step: nopython frontend)\n\u001b[1mUntyped global name 'get_companies':\u001b[0m \u001b[1m\u001b[1mCannot determine Numba type of <class 'function'>\u001b[0m\n\u001b[1m\nFile \"..\\..\\AppData\\Local\\Temp\\ipykernel_9556\\1026236306.py\", line 3:\u001b[0m\n\u001b[1m<source missing, REPL/exec in use?>\u001b[0m\n\u001b[0m"
     ]
    }
   ],
   "source": [
    "get_country_corr_matrix('2022-12-31','2023-12-31')"
   ]
  },
  {
   "cell_type": "code",
   "execution_count": null,
   "id": "b5f24493",
   "metadata": {},
   "outputs": [
    {
     "name": "stdout",
     "output_type": "stream",
     "text": [
      "88\n",
      "405\n",
      "308\n",
      "24\n",
      "320\n",
      "1\n",
      "2\n"
     ]
    },
    {
     "data": {
      "text/html": [
       "<div>\n",
       "<style scoped>\n",
       "    .dataframe tbody tr th:only-of-type {\n",
       "        vertical-align: middle;\n",
       "    }\n",
       "\n",
       "    .dataframe tbody tr th {\n",
       "        vertical-align: top;\n",
       "    }\n",
       "\n",
       "    .dataframe thead th {\n",
       "        text-align: right;\n",
       "    }\n",
       "</style>\n",
       "<table border=\"1\" class=\"dataframe\">\n",
       "  <thead>\n",
       "    <tr style=\"text-align: right;\">\n",
       "      <th></th>\n",
       "      <th>country</th>\n",
       "      <th>country_corr</th>\n",
       "    </tr>\n",
       "  </thead>\n",
       "  <tbody>\n",
       "    <tr>\n",
       "      <th>0</th>\n",
       "      <td>ARG</td>\n",
       "      <td>0.395769</td>\n",
       "    </tr>\n",
       "    <tr>\n",
       "      <th>1</th>\n",
       "      <td>PER</td>\n",
       "      <td>NaN</td>\n",
       "    </tr>\n",
       "    <tr>\n",
       "      <th>2</th>\n",
       "      <td>CUW</td>\n",
       "      <td>NaN</td>\n",
       "    </tr>\n",
       "    <tr>\n",
       "      <th>3</th>\n",
       "      <td>BRA</td>\n",
       "      <td>0.042270</td>\n",
       "    </tr>\n",
       "    <tr>\n",
       "      <th>4</th>\n",
       "      <td>CHL</td>\n",
       "      <td>0.005728</td>\n",
       "    </tr>\n",
       "    <tr>\n",
       "      <th>5</th>\n",
       "      <td>COL</td>\n",
       "      <td>0.017695</td>\n",
       "    </tr>\n",
       "    <tr>\n",
       "      <th>6</th>\n",
       "      <td>JAM</td>\n",
       "      <td>NaN</td>\n",
       "    </tr>\n",
       "    <tr>\n",
       "      <th>7</th>\n",
       "      <td>CYM</td>\n",
       "      <td>NaN</td>\n",
       "    </tr>\n",
       "    <tr>\n",
       "      <th>8</th>\n",
       "      <td>MEX</td>\n",
       "      <td>0.023148</td>\n",
       "    </tr>\n",
       "    <tr>\n",
       "      <th>9</th>\n",
       "      <td>PAN</td>\n",
       "      <td>0.394991</td>\n",
       "    </tr>\n",
       "    <tr>\n",
       "      <th>10</th>\n",
       "      <td>TTO</td>\n",
       "      <td>NaN</td>\n",
       "    </tr>\n",
       "    <tr>\n",
       "      <th>11</th>\n",
       "      <td>VGB</td>\n",
       "      <td>NaN</td>\n",
       "    </tr>\n",
       "  </tbody>\n",
       "</table>\n",
       "</div>"
      ],
      "text/plain": [
       "   country  country_corr\n",
       "0      ARG      0.395769\n",
       "1      PER           NaN\n",
       "2      CUW           NaN\n",
       "3      BRA      0.042270\n",
       "4      CHL      0.005728\n",
       "5      COL      0.017695\n",
       "6      JAM           NaN\n",
       "7      CYM           NaN\n",
       "8      MEX      0.023148\n",
       "9      PAN      0.394991\n",
       "10     TTO           NaN\n",
       "11     VGB           NaN"
      ]
     },
     "execution_count": 26,
     "metadata": {},
     "output_type": "execute_result"
    }
   ],
   "source": [
    "get_country_corr_matrix('2021-12-31','2023-12-31')"
   ]
  },
  {
   "cell_type": "code",
   "execution_count": null,
   "id": "2e7d111c",
   "metadata": {},
   "outputs": [
    {
     "name": "stdout",
     "output_type": "stream",
     "text": [
      "88\n",
      "405\n",
      "308\n"
     ]
    }
   ],
   "source": [
    "get_country_corr_matrix('2018-12-31','2023-12-31')"
   ]
  },
  {
   "cell_type": "code",
   "execution_count": null,
   "id": "1IvcGz7wIUh6",
   "metadata": {
    "id": "1IvcGz7wIUh6",
    "tags": [
     "raises-exception"
    ]
   },
   "outputs": [],
   "source": [
    "get_country_corr_matrix('2006-12-31','2023-12-31')"
   ]
  },
  {
   "cell_type": "markdown",
   "id": "fkPgpBJD6oIF",
   "metadata": {
    "id": "fkPgpBJD6oIF"
   },
   "source": [
    "# Calculate the financial sector coefficient\n"
   ]
  },
  {
   "cell_type": "code",
   "execution_count": null,
   "id": "d8AbXoL-6vuf",
   "metadata": {
    "id": "d8AbXoL-6vuf"
   },
   "outputs": [],
   "source": [
    "list(filter(lambda x: x[0]!=x[1],list(itertools.combinations(['a','b','c','d'],2))))"
   ]
  },
  {
   "cell_type": "code",
   "execution_count": null,
   "id": "t5mWqhPi9qAN",
   "metadata": {
    "id": "t5mWqhPi9qAN"
   },
   "outputs": [],
   "source": [
    "def get_finance_corr(start,end,country,prob_sub=0.9):\n",
    "  companies = get_companies()\n",
    "  company_list_financial = df[(df['iso_country_code'] == country)&(df['is_finance'] == True)]['company_name'].unique().tolist()\n",
    "  if (len(company_list_financial) <= 1):\n",
    "    return None\n",
    "  else:\n",
    "    return get_decorr_two_group_companies_zhou(start,end,company_list_financial,company_list_financial)"
   ]
  },
  {
   "cell_type": "code",
   "execution_count": null,
   "id": "F1dFu_q6_NQF",
   "metadata": {
    "id": "F1dFu_q6_NQF"
   },
   "outputs": [],
   "source": [
    "def get_finance_corr_matrix(start,end,prob_sub=0.9):\n",
    "  countries = get_country_codes()\n",
    "  mat = pd.DataFrame({'country':countries,'finance_corr':[0 for i in range(len(countries))]})\n",
    "  for i in range(len(countries)):\n",
    "    mat.at[i,'finance_corr'] = get_finance_corr(start,end,get_country_codes()[i])\n",
    "  return mat"
   ]
  },
  {
   "cell_type": "code",
   "execution_count": null,
   "id": "gwrmTpo9-ckn",
   "metadata": {
    "id": "gwrmTpo9-ckn"
   },
   "outputs": [],
   "source": [
    "# get_finance_corr('2018-12-31','2023-12-31','ARG')"
   ]
  },
  {
   "cell_type": "code",
   "execution_count": null,
   "id": "PmEErtEgA-yz",
   "metadata": {
    "id": "PmEErtEgA-yz",
    "tags": [
     "raises-exception"
    ]
   },
   "outputs": [],
   "source": [
    "print(get_finance_corr_matrix('2022-12-31','2023-12-31'))"
   ]
  },
  {
   "cell_type": "code",
   "execution_count": null,
   "id": "GKAjYP_sBeCN",
   "metadata": {
    "id": "GKAjYP_sBeCN",
    "tags": [
     "raises-exception"
    ]
   },
   "outputs": [],
   "source": [
    "get_finance_corr_matrix('2021-12-31','2023-12-31'))"
   ]
  },
  {
   "cell_type": "code",
   "execution_count": null,
   "id": "XeGvPZS1_ZGf",
   "metadata": {
    "id": "XeGvPZS1_ZGf",
    "tags": [
     "raises-exception"
    ]
   },
   "outputs": [],
   "source": [
    "get_finance_corr_matrix('2018-12-31','2023-12-31')"
   ]
  },
  {
   "cell_type": "code",
   "execution_count": null,
   "id": "4Vrk-SKUBGeb",
   "metadata": {
    "id": "4Vrk-SKUBGeb",
    "tags": [
     "raises-exception"
    ]
   },
   "outputs": [],
   "source": [
    "\n",
    "get_finance_corr_matrix('2013-12-31','2023-12-31')"
   ]
  },
  {
   "cell_type": "code",
   "execution_count": null,
   "id": "3-lChud6B0Aw",
   "metadata": {
    "id": "3-lChud6B0Aw",
    "tags": [
     "raises-exception"
    ]
   },
   "outputs": [],
   "source": [
    "get_finance_corr_matrix('2006-12-31','2023-12-31')"
   ]
  },
  {
   "cell_type": "markdown",
   "id": "KteoL98FFsdv",
   "metadata": {
    "id": "KteoL98FFsdv"
   },
   "source": [
    "# Calculate the non financial sector coefficient\n"
   ]
  },
  {
   "cell_type": "code",
   "execution_count": null,
   "id": "DBjqRf-SBRBu",
   "metadata": {
    "id": "DBjqRf-SBRBu",
    "tags": [
     "raises-exception"
    ]
   },
   "outputs": [],
   "source": [
    "def get_non_finance_corr(start,end,country,prob_sub=0.9):\n",
    "  companies = get_companies()\n",
    "  company_list_non_financial = df[(df['iso_country_code'] == country)&(df['is_finance'] == False)]['company_name'].unique().tolist()\n",
    "  if (len(company_list_non_financial) <= 1):\n",
    "    return None\n",
    "  else:\n",
    "    return get_decorr_two_group_companies_zhou(start,end,company_list_non_financial,company_list_non_financial)"
   ]
  },
  {
   "cell_type": "code",
   "execution_count": null,
   "id": "Br_sL9ZqGdjn",
   "metadata": {
    "id": "Br_sL9ZqGdjn",
    "tags": [
     "raises-exception"
    ]
   },
   "outputs": [],
   "source": [
    "def get_non_finance_corr_matrix(start,end,prob_sub=0.9):\n",
    "  countries = get_country_codes()\n",
    "  mat = pd.DataFrame({'country':countries,'non_finance_corr':[0 for i in range(len(countries))]})\n",
    "  for i in range(len(countries)):\n",
    "    mat.at[i,'non_finance_corr'] = get_non_finance_corr(start,end,get_country_codes()[i])\n",
    "  return mat"
   ]
  },
  {
   "cell_type": "code",
   "execution_count": null,
   "id": "o8ZhqijbGDaf",
   "metadata": {
    "id": "o8ZhqijbGDaf"
   },
   "outputs": [],
   "source": [
    "# get_non_finance_corr('2018-12-31','2023-12-31','COL',prob_sub=0.9)"
   ]
  },
  {
   "cell_type": "code",
   "execution_count": null,
   "id": "pTvzXnf-GihU",
   "metadata": {
    "id": "pTvzXnf-GihU",
    "tags": [
     "raises-exception"
    ]
   },
   "outputs": [],
   "source": [
    "get_non_finance_corr_matrix('2022-12-31','2023-12-31')\n"
   ]
  },
  {
   "cell_type": "code",
   "execution_count": null,
   "id": "yyPgfiADGaKw",
   "metadata": {
    "id": "yyPgfiADGaKw",
    "tags": [
     "raises-exception"
    ]
   },
   "outputs": [],
   "source": [
    "get_non_finance_corr_matrix('2021-12-31','2023-12-31')"
   ]
  },
  {
   "cell_type": "code",
   "execution_count": null,
   "id": "GIw020jDG2YA",
   "metadata": {
    "id": "GIw020jDG2YA",
    "tags": [
     "raises-exception"
    ]
   },
   "outputs": [],
   "source": [
    "get_non_finance_corr_matrix('2018-12-31','2023-12-31')"
   ]
  },
  {
   "cell_type": "code",
   "execution_count": null,
   "id": "Jf5wSvt-G4dK",
   "metadata": {
    "id": "Jf5wSvt-G4dK",
    "tags": [
     "raises-exception"
    ]
   },
   "outputs": [],
   "source": [
    "\n",
    "get_non_finance_corr_matrix('2006-12-31','2023-12-31')"
   ]
  },
  {
   "cell_type": "code",
   "execution_count": null,
   "id": "v1Fte6zZPW-E",
   "metadata": {
    "id": "v1Fte6zZPW-E"
   },
   "outputs": [],
   "source": [
    "# def analyse_two_companies_zhou(start,end,companies,company1,company2,prob_sub=0.9):\n",
    "#   '''\n",
    "#   This function returns the default correlation between 2 companies in a given time horizon by using the\n",
    "#   closed form formula from Zhou(2001)\n",
    "#   prob_sub is the subsituting probability if one of the marginal probability is greater than 1\n",
    "#   '''\n",
    "#   ### get the essential parameter for Zhou's either probability default\n",
    "#   # print(companies.tolist().index(company1),companies.tolist().index(company2))\n",
    "#   v1 = get_Vi0(start,company1,company2)[0]\n",
    "#   v2 = get_Vi0(start,company1,company2)[1]\n",
    "#   k1 = get_Ki(start,company1,company2)[0]\n",
    "#   k2 = get_Ki(start,company1,company2)[1]\n",
    "#   sigma1 = get_sigma_i(company1)\n",
    "#   sigma2 = get_sigma_i(company2)\n",
    "#   rho = get_rho(start,end,companies,'Close',company1,company2)\n",
    "#   t = get_t(start,end)\n",
    "#   z1 = (math.log(v1/k1))/sigma1\n",
    "#   z2 = (math.log(v2/k2))/sigma2\n",
    "#   alpha = math.atan((-math.sqrt(1-rho**2))/rho) if rho < 0 else math.pi +  math.atan((-math.sqrt(1-rho**2))/rho)\n",
    "#   theta0 = math.atan((z2*math.sqrt(1-rho**2))/(z1-rho*z2)) if (z2*math.sqrt(1-rho**2))/(z1-rho*z2) > 0 else math.pi + math.atan((z2*math.sqrt(1-rho**2))/(z1-rho*z2))\n",
    "#   r0 = z2/math.sin(theta0)\n",
    "#   inf_sum = 0\n",
    "#   for n in [i for i in range(1,1000000,2)]:\n",
    "#     bassel_sum = sp.special.iv(0.5*(((n*math.pi)/alpha)+1),(r0**2/(4*t)))+ sp.special.iv(0.5*(((n*math.pi)/alpha)-1),(r0**2/(4*t)))\n",
    "#     inf_sum += 1/n * math.sin((n*math.pi*theta0)/alpha)*bassel_sum\n",
    "#   # print(round(inf_sum,1),round(v1/k1,1),round(v2/k2,1),round(rho,2),t,round(z1,1),round(z2,1),round(alpha,1),round(theta0,1),round(r0,1))\n",
    "#   ### calculate the marginal default probability and correlation\n",
    "#   marginal_prob_1 = 2*sp.stats.norm.cdf(-z1/math.sqrt(t))\n",
    "#   marginal_prob_2 = 2*sp.stats.norm.cdf(-z2/math.sqrt(t))\n",
    "#   ### store the original value if any of the marginal prob >=1\n",
    "#   marginal_prob_1_original = marginal_prob_1 if marginal_prob_1 >=1 else marginal_prob_1\n",
    "#   marginal_prob_2_original = marginal_prob_2 if marginal_prob_2 >=1 else marginal_prob_2\n",
    "#   ### use the prob_sub to calculate the correlation\n",
    "#   marginal_prob_1_cal = prob_sub if marginal_prob_1 >=1 else marginal_prob_1\n",
    "#   marginal_prob_2_cal = prob_sub if marginal_prob_2 >=1 else marginal_prob_2\n",
    "#   var_1 = marginal_prob_1*(1-marginal_prob_1_cal)\n",
    "#   var_2 = marginal_prob_2*(1-marginal_prob_2_cal)\n",
    "#   either_default_prob = 1-(2*r0/(math.sqrt(2*math.pi*t)))*math.exp(-(r0**2/(4*t)))*inf_sum\n",
    "#   default_corr = (marginal_prob_1_cal+marginal_prob_2_cal-either_default_prob-marginal_prob_1_cal*marginal_prob_2_cal)/(math.sqrt(var_1*var_2))\n",
    "#   return default_corr,marginal_prob_1_original,marginal_prob_2_original\n",
    "\n",
    "\n",
    "# def get_decorr_two_industries_zhou(start,end,industry1,industry2,prob_sub,show_non_normal = None):\n",
    "#   companies = get_companies()\n",
    "#   company_list1 = get_companies_from_industry(industry1)\n",
    "#   company_list2 = get_companies_from_industry(industry2)\n",
    "#   combination_list =  list(itertools.product(company_list1,company_list2))\n",
    "#   print(len(company_list1),len(company_list2),len(combination_list))\n",
    "#   num_pairs = len(combination_list)\n",
    "#   corr_sum = 0\n",
    "#   not_normal_sum = 0\n",
    "#   non_normal_dic = {}\n",
    "#   for (firm1,firm2) in combination_list:\n",
    "#     result = analyse_two_companies_zhou(start,end,companies,firm1,firm2,prob_sub=0.9)\n",
    "#     corr = result[0]\n",
    "#     # print(corr_sum)\n",
    "#     prob_default_1 = result[1]\n",
    "#     prob_default_2 = result[2]\n",
    "#     # print(corr,prob_default_1,prob_default_2)\n",
    "#     # print(abs(corr)>1)\n",
    "#     if (abs(corr) > 1):\n",
    "#       num_pairs -= 1\n",
    "#       corr_sum += 0\n",
    "#       non_normal_dic[corr] = [prob_default_1,prob_default_2]\n",
    "#     else:\n",
    "#       corr_sum += corr\n",
    "#   if show_non_normal == 'Yes':\n",
    "#     return non_normal_dic\n",
    "#   else:\n",
    "#     return corr_sum/num_pairs\n",
    "\n",
    "# def get_decorr_two_industries_zhou(start,end,industry1,industry2,prob_sub=0.9,show_non_normal = None):\n",
    "#   companies = get_companies()\n",
    "#   company_list1 = get_companies_from_industry(industry1)\n",
    "#   company_list2 = get_companies_from_industry(industry2)\n",
    "#   combination_list =  list(itertools.product(company_list1,company_list2))\n",
    "#   print(len(company_list1),len(company_list2),len(combination_list))\n",
    "#   num_pairs = len(combination_list)\n",
    "#   corr_sum = 0\n",
    "#   not_normal_sum = 0\n",
    "#   non_normal_dic = {}\n",
    "#   for (firm1,firm2) in combination_list:\n",
    "#     result = analyse_two_companies_zhou(start,end,companies,firm1,firm2,prob_sub)\n",
    "#     corr = result[0]\n",
    "#     # print(corr_sum)\n",
    "#     prob_default_1 = result[1]\n",
    "#     prob_default_2 = result[2]\n",
    "#     # print(corr,prob_default_1,prob_default_2)\n",
    "#     # print(abs(corr)>1)\n",
    "#     if (abs(corr) > 1):\n",
    "#       num_pairs -= 1\n",
    "#       corr_sum += 0\n",
    "#       non_normal_dic[corr] = [prob_default_1,prob_default_2]\n",
    "#     else:\n",
    "#       corr_sum += corr\n",
    "#   if show_non_normal == 'Yes':\n",
    "#     return non_normal_dic\n",
    "#   else:\n",
    "#     return corr_sum/num_pairs"
   ]
  },
  {
   "cell_type": "code",
   "execution_count": null,
   "id": "TQAnXLwtPlOW",
   "metadata": {
    "id": "TQAnXLwtPlOW"
   },
   "outputs": [],
   "source": [
    "# analyse_two_companies_zhou('2018-12-31','2023-12-31',get_companies(),get_companies()[3],get_companies()[4])[0]"
   ]
  },
  {
   "cell_type": "code",
   "execution_count": null,
   "id": "w76tXrQuCH4O",
   "metadata": {
    "id": "w76tXrQuCH4O"
   },
   "outputs": [],
   "source": [
    "# industry_corr_matrix_5yr = np.zeros((len(get_industries()),len(get_industries())))\n",
    "# for i in [i for i in range(0,len(get_companies()))]:\n",
    "#   for j in [j for j in range(0,len(get_companies()))]:\n",
    "#     if i == j:\n",
    "#       industry_corr_matrix_5yr[i,j] = 1\n",
    "#     else:\n",
    "#       corr_i_j = get_decorr_two_industries_zhou('2018-12-31','2023-12-31',get_industries()[i],get_industries()[j],0.9)\n",
    "#       industry_corr_matrix_5yr[i,j] = corr_i_j\n",
    "# industry_corr_df_1 = pd.DataFrame(industry_corr_matrix_5yr)\n",
    "# industry_corr_df_1"
   ]
  },
  {
   "cell_type": "code",
   "execution_count": null,
   "id": "hWDdMPA178rx",
   "metadata": {
    "id": "hWDdMPA178rx"
   },
   "outputs": [],
   "source": [
    "# dic_1 = get_decorr_two_industries_zhou(get_date()[20],get_date()[24],get_industries()[4],get_industries()[10],0.9,'Yes')\n",
    "# dic_2 = get_decorr_two_industries_zhou(get_date()[20],get_date()[24],get_industries()[4],get_industries()[10],0.95,'Yes')\n",
    "# dic_3 = get_decorr_two_industries_zhou(get_date()[20],get_date()[24],get_industries()[4],get_industries()[10],0.99,'Yes')\n",
    "# corr_list_1 = list(dic_1.keys())\n",
    "# corr_list_2 = list(dic_2.keys())\n",
    "# corr_list_3 = list(dic_3.keys())\n",
    "# x1_list = [i for i in range(len(corr_list_1))]\n",
    "# x2_list = [i for i in range(len(corr_list_2))]\n",
    "# x3_list = [i for i in range(len(corr_list_3))]\n",
    "# plt.plot(x1_list,corr_list_1,label = 'prob_sub = 0.9')\n",
    "# plt.plot(x2_list,corr_list_2,label = 'prob_sub = 0.95' )\n",
    "# plt.plot(x3_list,corr_list_3,label = 'prob_sub = 0.99')\n",
    "# plt.ylabel('Default correlation')\n",
    "# plt.xlabel('index')\n",
    "# plt.legend()\n",
    "# plt.show()"
   ]
  },
  {
   "cell_type": "markdown",
   "id": "e6zGJeditPeZ",
   "metadata": {
    "id": "e6zGJeditPeZ"
   },
   "source": [
    "# Reproduce the result from Zhou(2001) paper"
   ]
  },
  {
   "cell_type": "code",
   "execution_count": null,
   "id": "zQXZvlAy1DpA",
   "metadata": {
    "id": "zQXZvlAy1DpA"
   },
   "outputs": [],
   "source": [
    "# V1_0 = 1.8\n",
    "# V2_0 = 1.8\n",
    "# k1 = 1\n",
    "# k2 = 1\n",
    "# sigma1 = 0.4\n",
    "# sigma2 = 0.4\n",
    "# t_try_list = np.arange(0.2, 20, 0.5).tolist()\n",
    "# rho_try_list = [0.1,0.2,0.4]\n",
    "# default_corr_list_1 = []\n",
    "# default_corr_list_2 = []\n",
    "# default_corr_list_3 = []\n",
    "# for t in  t_try_list:\n",
    "#  default_corr_list_1.append(get_default_corr_zhou(V1_0,V2_0,k1,k2,sigma1,sigma2,-0.1,t))\n",
    "#  default_corr_list_2.append(get_default_corr_zhou(V1_0,V2_0,k1,k2,sigma1,sigma2,0.2,t))\n",
    "#  default_corr_list_3.append(get_default_corr_zhou(V1_0,V2_0,k1,k2,sigma1,sigma2,0.4,t))\n",
    "# plt.plot(t_try_list,default_corr_list_1,label = 'rho = -0.1')\n",
    "# # plt.plot(t_try_list,default_corr_list_2,label = 'rho = 0.2')\n",
    "# plt.plot(t_try_list,default_corr_list_3,label = 'rho = 0.4')\n",
    "# plt.ylabel('Default correlation')\n",
    "# plt.xlabel('t')\n",
    "# plt.legend()\n",
    "# plt.show()"
   ]
  },
  {
   "cell_type": "code",
   "execution_count": null,
   "id": "cqUr-XFp7HJe",
   "metadata": {
    "id": "cqUr-XFp7HJe"
   },
   "outputs": [],
   "source": [
    "# bV1_01 = 2\n",
    "# V2_01 = 2\n",
    "# V1_02 = 2.5\n",
    "# V2_02 = 2.5\n",
    "# V1_03 = 3\n",
    "# V2_03 = 3\n",
    "# k1 = 1\n",
    "# k2 = 1\n",
    "# sigma1 = 0.4\n",
    "# sigma2 = 0.4\n",
    "# t_try_list = np.arange(0.5, 20.0, 0.5).tolist()\n",
    "# rho_try_list = [0.1,0.2,0.4]\n",
    "# default_corr_list_1 = []\n",
    "# default_corr_list_2 = []\n",
    "# default_corr_list_3 = []\n",
    "# for t in  t_try_list:\n",
    "#  default_corr_list_1.append(get_default_corr_zhou(V1_01,V2_01,k1,k2,sigma1,sigma2,0.4,t))\n",
    "#  default_corr_list_2.append(get_default_corr_zhou(V1_02,V2_02,k1,k2,sigma1,sigma2,0.4,t))\n",
    "#  default_corr_list_3.append((get_default_corr_zhou(V1_03,V2_03,k1,k2,sigma1,sigma2,0.4,t)))\n",
    "# plt.plot(t_try_list,default_corr_list_1,label = 'V1/K1 = V2/K2 = 2')\n",
    "# plt.plot(t_try_list,default_corr_list_2,label = 'V1/K1 = V2/K2 = 2.5')\n",
    "# plt.plot(t_try_list,default_corr_list_3,label = 'V1/K1 = V2/K2 = 3')\n",
    "# plt.ylabel('Default correlation')\n",
    "# plt.xlabel('t')\n",
    "# plt.legend()\n",
    "# plt.show()"
   ]
  },
  {
   "cell_type": "code",
   "execution_count": null,
   "id": "z8liDbwdIcAl",
   "metadata": {
    "id": "z8liDbwdIcAl"
   },
   "outputs": [],
   "source": [
    "# V1_01 = 1.2\n",
    "# V2_01 = 1.2\n",
    "# V1_02 = 1.5\n",
    "# V2_02 = 1.5\n",
    "# V1_03 = 2\n",
    "# V2_03 = 2\n",
    "# V1_04 = 7\n",
    "# V2_04 = 7\n",
    "# k1 = 1\n",
    "# k2 = 1\n",
    "# sigma1 = 0.4\n",
    "# sigma2 = 0.4\n",
    "# t_try_list = np.arange(0.5, 15, 0.5).tolist()\n",
    "# default_corr_list_1 = []\n",
    "# default_corr_list_2 = []\n",
    "# default_corr_list_3 = []\n",
    "# default_corr_list_4 = []\n",
    "# for t in  t_try_list:\n",
    "#  default_corr_list_1.append(get_default_corr_zhou(V1_01,V2_01,k1,k2,sigma1,sigma2,0.1,t))\n",
    "#  default_corr_list_2.append(get_default_corr_zhou(V1_02,V2_02,k1,k2,sigma1,sigma2,0.1,t))\n",
    "#  default_corr_list_3.append((get_default_corr_zhou(V1_03,V2_03,k1,k2,sigma1,sigma2,0.1,t)))\n",
    "#  default_corr_list_4.append((get_default_corr_zhou(V1_04,V2_04,k1,k2,sigma1,sigma2,0.1,t)))\n",
    "# plt.plot(t_try_list,default_corr_list_1,label = 'V1/K1 = V2/K2 = 1.2')\n",
    "# plt.plot(t_try_list,default_corr_list_2,label = 'V1/K1 = V2/K2 = 1.5')\n",
    "# plt.plot(t_try_list,default_corr_list_3,label = 'V1/K1 = V2/K2 = 2')\n",
    "# plt.plot(t_try_list,default_corr_list_4,label = 'V1/K1 = V2/K2 = 7')\n",
    "# plt.ylabel('Default correlation')\n",
    "# plt.xlabel('t')\n",
    "# plt.title('sigma1 = sigma2 = 0.4,rho = 0.1')\n",
    "# plt.legend()\n",
    "# plt.show()"
   ]
  },
  {
   "cell_type": "code",
   "execution_count": null,
   "id": "oBtT8p5Q1Slq",
   "metadata": {
    "id": "oBtT8p5Q1Slq"
   },
   "outputs": [],
   "source": [
    "# V1_01 = 1.2\n",
    "# V2_01 = 1.2\n",
    "# V1_02 = 1.5\n",
    "# V2_02 = 1.5\n",
    "# V1_03 = 2\n",
    "# V2_03 = 2\n",
    "# V1_04 = 7\n",
    "# V2_04 = 7\n",
    "# k1 = 1\n",
    "# k2 = 1\n",
    "# sigma1 = 0.4\n",
    "# sigma2 = 0.4\n",
    "# t_try_list = np.arange(0.5, 15, 0.5).tolist()\n",
    "# default_corr_list_1 = []\n",
    "# default_corr_list_2 = []\n",
    "# default_corr_list_3 = []\n",
    "# default_corr_list_4 = []\n",
    "# for t in  t_try_list:\n",
    "#  default_corr_list_1.append(get_default_corr_zhou(V1_01,V2_01,k1,k2,sigma1,sigma2,0.4,t))\n",
    "#  default_corr_list_2.append(get_default_corr_zhou(V1_02,V2_02,k1,k2,sigma1,sigma2,0.4,t))\n",
    "#  default_corr_list_3.append((get_default_corr_zhou(V1_03,V2_03,k1,k2,sigma1,sigma2,0.4,t)))\n",
    "#  default_corr_list_4.append((get_default_corr_zhou(V1_04,V2_04,k1,k2,sigma1,sigma2,0.4,t)))\n",
    "# plt.plot(t_try_list,default_corr_list_1,label = 'V1/K1 = V2/K2 = 1.2')\n",
    "# plt.plot(t_try_list,default_corr_list_2,label = 'V1/K1 = V2/K2 = 1.5')\n",
    "# plt.plot(t_try_list,default_corr_list_3,label = 'V1/K1 = V2/K2 = 2')\n",
    "# plt.plot(t_try_list,default_corr_list_4,label = 'V1/K1 = V2/K2 = 7')\n",
    "# plt.ylabel('Default correlation')\n",
    "# plt.xlabel('t')\n",
    "# plt.title('sigma1 = sigma2 = 0.4,rho = 0.4')\n",
    "# plt.legend()\n",
    "# plt.show()"
   ]
  },
  {
   "cell_type": "code",
   "execution_count": null,
   "id": "QoLxfFWoH94t",
   "metadata": {
    "id": "QoLxfFWoH94t"
   },
   "outputs": [],
   "source": [
    "# V1_01 = 1.2\n",
    "# V2_01 = 1.2\n",
    "# V1_02 = 1.5\n",
    "# V2_02 = 1.5\n",
    "# V1_03 = 2\n",
    "# V2_03 = 2\n",
    "# V1_04 = 7\n",
    "# V2_04 = 7\n",
    "# k1 = 1\n",
    "# k2 = 1\n",
    "# sigma1 = 0.4\n",
    "# sigma2 = 0.4\n",
    "# t_try_list = np.arange(0.5, 15, 0.5).tolist()\n",
    "# default_corr_list_1 = []\n",
    "# default_corr_list_2 = []\n",
    "# default_corr_list_3 = []\n",
    "# default_corr_list_4 = []\n",
    "# for t in  t_try_list:\n",
    "#  default_corr_list_1.append(get_default_corr_zhou(V1_01,V2_01,k1,k2,sigma1,sigma2,0.9,t))\n",
    "#  default_corr_list_2.append(get_default_corr_zhou(V1_02,V2_02,k1,k2,sigma1,sigma2,0.9,t))\n",
    "#  default_corr_list_3.append((get_default_corr_zhou(V1_03,V2_03,k1,k2,sigma1,sigma2,0.9,t)))\n",
    "#  default_corr_list_4.append((get_default_corr_zhou(V1_04,V2_04,k1,k2,sigma1,sigma2,0.9,t)))\n",
    "# plt.plot(t_try_list,default_corr_list_1,label = 'V1/K1 = V2/K2 = 1.2')\n",
    "# plt.plot(t_try_list,default_corr_list_2,label = 'V1/K1 = V2/K2 = 1.5')\n",
    "# plt.plot(t_try_list,default_corr_list_3,label = 'V1/K1 = V2/K2 = 2')\n",
    "# plt.plot(t_try_list,default_corr_list_4,label = 'V1/K1 = V2/K2 = 7')\n",
    "# plt.ylabel('Default correlation')\n",
    "# plt.xlabel('t')\n",
    "# plt.title('sigma1 = sigma2 = 0.4,rho = 0.9')\n",
    "# plt.legend()\n",
    "# plt.show()"
   ]
  },
  {
   "cell_type": "code",
   "execution_count": null,
   "id": "E47LjyN7JoZD",
   "metadata": {
    "id": "E47LjyN7JoZD"
   },
   "outputs": [],
   "source": [
    "# V1_01 = 1.2\n",
    "# V2_01 = 1.2\n",
    "# V1_02 = 1.5\n",
    "# V2_02 = 1.5\n",
    "# V1_03 = 2\n",
    "# V2_03 = 2\n",
    "# V1_04 = 7\n",
    "# V2_04 = 7\n",
    "# k1 = 1\n",
    "# k2 = 1\n",
    "# sigma1 = 0.4\n",
    "# sigma2 = 0.4\n",
    "# t_try_list = np.arange(0.5, 15, 0.5).tolist()\n",
    "# default_corr_list_1 = []\n",
    "# default_corr_list_2 = []\n",
    "# default_corr_list_3 = []\n",
    "# default_corr_list_4 = []\n",
    "# for t in  t_try_list:\n",
    "#  default_corr_list_1.append(get_default_corr_zhou(V1_01,V2_01,k1,k2,sigma1,sigma2,-0.4,t))\n",
    "#  default_corr_list_2.append(get_default_corr_zhou(V1_02,V2_02,k1,k2,sigma1,sigma2,-0.4,t))\n",
    "#  default_corr_list_3.append((get_default_corr_zhou(V1_03,V2_03,k1,k2,sigma1,sigma2,-0.4,t)))\n",
    "#  default_corr_list_4.append((get_default_corr_zhou(V1_04,V2_04,k1,k2,sigma1,sigma2,-0.4,t)))\n",
    "# plt.plot(t_try_list,default_corr_list_1,label = 'V1/K1 = V2/K2 = 1.2')\n",
    "# plt.plot(t_try_list,default_corr_list_2,label = 'V1/K1 = V2/K2 = 1.5')\n",
    "# plt.plot(t_try_list,default_corr_list_3,label = 'V1/K1 = V2/K2 = 2')\n",
    "# plt.plot(t_try_list,default_corr_list_4,label = 'V1/K1 = V2/K2 = 7')\n",
    "# plt.ylabel('Default correlation')\n",
    "# plt.xlabel('t')\n",
    "# plt.title('sigma1 = sigma2 = 0.4,rho = -0.4')\n",
    "# plt.legend()\n",
    "# plt.show()"
   ]
  },
  {
   "cell_type": "code",
   "execution_count": null,
   "id": "2zzZaFMZHE3d",
   "metadata": {
    "id": "2zzZaFMZHE3d"
   },
   "outputs": [],
   "source": [
    "# V1_01 = 1.2\n",
    "# V2_01 = 1.2\n",
    "# V1_02 = 1.2\n",
    "# V2_02 = 3\n",
    "# V1_03 = 1.2\n",
    "# V2_03 = 5\n",
    "# V1_04 = 1.2\n",
    "# V2_04 = 7\n",
    "# k1 = 1\n",
    "# k2 = 1\n",
    "# sigma1 = 0.4\n",
    "# sigma2 = 0.4\n",
    "# t_try_list = np.arange(0.5, 15, 0.5).tolist()\n",
    "# default_corr_list_1 = []\n",
    "# default_corr_list_2 = []\n",
    "# default_corr_list_3 = []\n",
    "# default_corr_list_4 = []\n",
    "# for t in  t_try_list:\n",
    "#  default_corr_list_1.append(get_default_corr_zhou(V1_01,V2_01,k1,k2,sigma1,sigma2,0.4,t))\n",
    "#  default_corr_list_2.append(get_default_corr_zhou(V1_02,V2_02,k1,k2,sigma1,sigma2,0.4,t))\n",
    "#  default_corr_list_3.append((get_default_corr_zhou(V1_03,V2_03,k1,k2,sigma1,sigma2,0.4,t)))\n",
    "#  default_corr_list_4.append((get_default_corr_zhou(V1_04,V2_04,k1,k2,sigma1,sigma2,0.4,t)))\n",
    "# plt.plot(t_try_list,default_corr_list_1,label = 'V1/K1 = V2/K2 = 1.2')\n",
    "# plt.plot(t_try_list,default_corr_list_2,label = 'V1/K1 = 1.2 V2/K2 = 3')\n",
    "# plt.plot(t_try_list,default_corr_list_3,label = 'V1/K1 = 1.2 V2/K2 = 5')\n",
    "# plt.plot(t_try_list,default_corr_list_4,label = 'V1/K1 = 1.2 V2/K2 = 7')\n",
    "# plt.ylabel('Default correlation')\n",
    "# plt.xlabel('t')\n",
    "# plt.title('sigma1 = sigma2 = 0.4,rho = 0.4')\n",
    "# plt.legend()\n",
    "# plt.show()"
   ]
  },
  {
   "cell_type": "code",
   "execution_count": null,
   "id": "X8iz5jS9SPbj",
   "metadata": {
    "id": "X8iz5jS9SPbj"
   },
   "outputs": [],
   "source": [
    "# V1_01 = 0.2\n",
    "# V2_01 = 0.2\n",
    "# V1_02 = 0.3\n",
    "# V2_02 = 0.3\n",
    "# V1_03 = 0.8\n",
    "# V2_03 = 0.8\n",
    "# V1_04 = 0.95\n",
    "# V2_04 = 0.95\n",
    "# k1 = 1\n",
    "# k2 = 1\n",
    "# sigma1 = 0.4\n",
    "# sigma2 = 0.4\n",
    "# t_try_list = np.arange(0.5, 15, 0.5).tolist()\n",
    "# default_corr_list_1 = []\n",
    "# default_corr_list_2 = []\n",
    "# default_corr_list_3 = []\n",
    "# default_corr_list_4 = []\n",
    "# for t in  t_try_list:\n",
    "#  default_corr_list_1.append(get_default_corr_zhou(V1_01,V2_01,k1,k2,sigma1,sigma2,0.4,t))\n",
    "#  default_corr_list_2.append(get_default_corr_zhou(V1_02,V2_02,k1,k2,sigma1,sigma2,0.4,t))\n",
    "#  default_corr_list_3.append((get_default_corr_zhou(V1_03,V2_03,k1,k2,sigma1,sigma2,0.4,t)))\n",
    "#  default_corr_list_4.append((get_default_corr_zhou(V1_04,V2_04,k1,k2,sigma1,sigma2,0.4,t)))\n",
    "# plt.plot(t_try_list,default_corr_list_1,label = 'V1/K1 = V2/K2 = 0.1')\n",
    "# plt.plot(t_try_list,default_corr_list_2,label = 'V1/K1 = V2/K2 = 0.3')\n",
    "# plt.plot(t_try_list,default_corr_list_3,label = 'V1/K1 = V2/K2 = 0.8')\n",
    "# plt.plot(t_try_list,default_corr_list_4,label = 'V1/K1 = V2/K2 = 0.95')\n",
    "# plt.ylabel('Default correlation')\n",
    "# plt.xlabel('t')\n",
    "# plt.title('sigma1 = sigma2 = 0.4,rho = 0.4')\n",
    "# plt.legend()\n",
    "# plt.show()"
   ]
  },
  {
   "cell_type": "code",
   "execution_count": null,
   "id": "QVassn8X2dO6",
   "metadata": {
    "id": "QVassn8X2dO6"
   },
   "outputs": [],
   "source": [
    "# V1_01 = 0.2\n",
    "# V2_01 = 1.2\n",
    "# V1_02 = 0.3\n",
    "# V2_02 = 1.2\n",
    "# V1_03 = 0.8\n",
    "# V2_03 = 1.2\n",
    "# V1_04 = 0.95\n",
    "# V2_04 = 1.2\n",
    "# k1 = 1\n",
    "# k2 = 1\n",
    "# sigma1 = 0.4\n",
    "# sigma2 = 0.4\n",
    "# t_try_list = np.arange(1, 15, 0.5).tolist()\n",
    "# default_corr_list_1 = []\n",
    "# default_corr_list_2 = []\n",
    "# default_corr_list_3 = []\n",
    "# default_corr_list_4 = []\n",
    "# for t in  t_try_list:\n",
    "#  default_corr_list_1.append(get_default_corr_zhou(V1_01,V2_01,k1,k2,sigma1,sigma2,0.4,t))\n",
    "#  default_corr_list_2.append(get_default_corr_zhou(V1_02,V2_02,k1,k2,sigma1,sigma2,0.4,t))\n",
    "#  default_corr_list_3.append((get_default_corr_zhou(V1_03,V2_03,k1,k2,sigma1,sigma2,0.4,t)))\n",
    "#  default_corr_list_4.append((get_default_corr_zhou(V1_04,V2_04,k1,k2,sigma1,sigma2,0.4,t)))\n",
    "# plt.plot(t_try_list,default_corr_list_1,label = 'V1/K1 = 0.2, V2/K2 = 1.2')\n",
    "# plt.plot(t_try_list,default_corr_list_2,label = 'V1/K1 = 0.3, V2/K2 = 1.2')\n",
    "# plt.plot(t_try_list,default_corr_list_3,label = 'V1/K1 = 0.8 V2/K2 = 1.2')\n",
    "# plt.plot(t_try_list,default_corr_list_4,label = 'V1/K1 = 0.95 V2/K2 = 1.2')\n",
    "# plt.ylabel('Default correlation')\n",
    "# plt.xlabel('t')\n",
    "# plt.title('sigma1 = sigma2 = 0.4,rho = 0.4')\n",
    "# plt.legend()\n",
    "# plt.show()"
   ]
  },
  {
   "cell_type": "code",
   "execution_count": null,
   "id": "8TC-QqeqUXbH",
   "metadata": {
    "id": "8TC-QqeqUXbH"
   },
   "outputs": [],
   "source": [
    "# V1_01 = 0.8\n",
    "# V2_01 = 1.2\n",
    "# V1_02 = 0.85\n",
    "# V2_02 = 1.2\n",
    "# V1_03 = 0.9\n",
    "# V2_03 = 1.2\n",
    "# V1_04 = 0.95\n",
    "# V2_04 = 1.2\n",
    "# k1 = 1\n",
    "# k2 = 1\n",
    "# sigma1 = 0.4\n",
    "# sigma2 = 0.4\n",
    "# t_try_list = np.arange(1, 15, 0.5).tolist()\n",
    "# default_corr_list_1 = []\n",
    "# default_corr_list_2 = []\n",
    "# default_corr_list_3 = []\n",
    "# default_corr_list_4 = []\n",
    "# for t in  t_try_list:\n",
    "#  default_corr_list_1.append(get_default_corr_zhou(V1_01,V2_01,k1,k2,sigma1,sigma2,0.4,t))\n",
    "#  default_corr_list_2.append(get_default_corr_zhou(V1_02,V2_02,k1,k2,sigma1,sigma2,0.4,t))\n",
    "#  default_corr_list_3.append((get_default_corr_zhou(V1_03,V2_03,k1,k2,sigma1,sigma2,0.4,t)))\n",
    "#  default_corr_list_4.append((get_default_corr_zhou(V1_04,V2_04,k1,k2,sigma1,sigma2,0.4,t)))\n",
    "# plt.plot(t_try_list,default_corr_list_1,label = 'V1/K1 = 0.8, V2/K2 = 1.2')\n",
    "# plt.plot(t_try_list,default_corr_list_2,label = 'V1/K1 = 0.85, V2/K2 = 1.2')\n",
    "# plt.plot(t_try_list,default_corr_list_3,label = 'V1/K1 = 0.9 V2/K2 = 1.2')\n",
    "# plt.plot(t_try_list,default_corr_list_4,label = 'V1/K1 = 0.95 V2/K2 = 1.2')\n",
    "# plt.ylabel('Default correlation')\n",
    "# plt.xlabel('t')\n",
    "# plt.title('sigma1 = sigma2 = 0.4,rho = 0.4')\n",
    "# plt.legend()\n",
    "# plt.show()"
   ]
  },
  {
   "cell_type": "code",
   "execution_count": null,
   "id": "E5LlSOtOVLQM",
   "metadata": {
    "id": "E5LlSOtOVLQM"
   },
   "outputs": [],
   "source": [
    "# V1_01 = 0.8\n",
    "# V2_01 = 1.05\n",
    "# V1_02 = 0.85\n",
    "# V2_02 = 1.05\n",
    "# V1_03 = 0.9\n",
    "# V2_03 = 1.05\n",
    "# V1_04 = 0.95\n",
    "# V2_04 = 1.05\n",
    "# k1 = 1\n",
    "# k2 = 1\n",
    "# sigma1 = 0.4\n",
    "# sigma2 = 0.4\n",
    "# t_try_list = np.arange(1, 15, 0.5).tolist()\n",
    "# default_corr_list_1 = []\n",
    "# default_corr_list_2 = []\n",
    "# default_corr_list_3 = []\n",
    "# default_corr_list_4 = []\n",
    "# for t in  t_try_list:\n",
    "#  default_corr_list_1.append(get_default_corr_zhou(V1_01,V2_01,k1,k2,sigma1,sigma2,0.4,t))\n",
    "#  default_corr_list_2.append(get_default_corr_zhou(V1_02,V2_02,k1,k2,sigma1,sigma2,0.4,t))\n",
    "#  default_corr_list_3.append((get_default_corr_zhou(V1_03,V2_03,k1,k2,sigma1,sigma2,0.4,t)))\n",
    "#  default_corr_list_4.append((get_default_corr_zhou(V1_04,V2_04,k1,k2,sigma1,sigma2,0.4,t)))\n",
    "# plt.plot(t_try_list,default_corr_list_1,label = 'V1/K1 = 0.8, V2/K2 = 1.05')\n",
    "# plt.plot(t_try_list,default_corr_list_2,label = 'V1/K1 = 0.85, V2/K2 = 1.05')\n",
    "# plt.plot(t_try_list,default_corr_list_3,label = 'V1/K1 = 0.9 V2/K2 = 1.05')\n",
    "# plt.plot(t_try_list,default_corr_list_4,label = 'V1/K1 = 0.95 V2/K2 = 1.05')\n",
    "# plt.ylabel('Default correlation')\n",
    "# plt.xlabel('t')\n",
    "# plt.title('sigma1 = sigma2 = 0.4,rho = 0.4')\n",
    "# plt.legend()\n",
    "# plt.show()"
   ]
  },
  {
   "cell_type": "code",
   "execution_count": null,
   "id": "cjw3SZVKPruA",
   "metadata": {
    "id": "cjw3SZVKPruA"
   },
   "outputs": [],
   "source": [
    "# V1_01 = 0.2\n",
    "# V2_01 = 1.05\n",
    "# V1_02 = 0.4\n",
    "# V2_02 = 1.05\n",
    "# V1_03 = 0.6\n",
    "# V2_03 = 1.05\n",
    "# V1_04 = 0.9\n",
    "# V2_04 = 1.05\n",
    "# k1 = 1\n",
    "# k2 = 1\n",
    "# sigma1 = 0.4\n",
    "# sigma2 = 0.4\n",
    "# t_try_list = np.arange(1, 15, 0.5).tolist()\n",
    "# default_corr_list_1 = []\n",
    "# default_corr_list_2 = []\n",
    "# default_corr_list_3 = []\n",
    "# default_corr_list_4 = []\n",
    "# for t in  t_try_list:\n",
    "#  default_corr_list_1.append(get_default_corr_zhou(V1_01,V2_01,k1,k2,sigma1,sigma2,0.4,t))\n",
    "#  default_corr_list_2.append(get_default_corr_zhou(V1_02,V2_02,k1,k2,sigma1,sigma2,0.4,t))\n",
    "#  default_corr_list_3.append((get_default_corr_zhou(V1_03,V2_03,k1,k2,sigma1,sigma2,0.4,t)))\n",
    "#  default_corr_list_4.append((get_default_corr_zhou(V1_04,V2_04,k1,k2,sigma1,sigma2,0.4,t)))\n",
    "# plt.plot(t_try_list,default_corr_list_1,label = 'V1/K1 = 0.2, V2/K2 = 1.2')\n",
    "# plt.plot(t_try_list,default_corr_list_2,label = 'V1/K1 = 0.4, V2/K2 = 1.2')\n",
    "# plt.plot(t_try_list,default_corr_list_3,label = 'V1/K1 = 0.6 V2/K2 = 1.2')\n",
    "# plt.plot(t_try_list,default_corr_list_4,label = 'V1/K1 = 0.9 V2/K2 = 1.2')\n",
    "# plt.ylabel('Default correlation')\n",
    "# plt.xlabel('t')\n",
    "# plt.title('sigma1 = sigma2 = 0.4,rho = 0.4')\n",
    "# plt.legend()\n",
    "# plt.show()"
   ]
  },
  {
   "cell_type": "code",
   "execution_count": null,
   "id": "zOITXj8ZRKth",
   "metadata": {
    "id": "zOITXj8ZRKth"
   },
   "outputs": [],
   "source": [
    "# V1_01 = 0.2\n",
    "# V2_01 = 1.05\n",
    "# V1_02 = 0.4\n",
    "# V2_02 = 1.05\n",
    "# V1_03 = 0.6\n",
    "# V2_03 = 1.05\n",
    "# V1_04 = 0.9\n",
    "# V2_04 = 1.05\n",
    "# k1 = 1\n",
    "# k2 = 1\n",
    "# sigma1 = 0.4\n",
    "# sigma2 = 0.4\n",
    "# t_try_list = np.arange(1, 15, 0.5).tolist()\n",
    "# default_corr_list_1 = []\n",
    "# default_corr_list_2 = []\n",
    "# default_corr_list_3 = []\n",
    "# default_corr_list_4 = []\n",
    "# for t in  t_try_list:\n",
    "#  default_corr_list_1.append(get_default_corr_zhou(V1_01,V2_01,k1,k2,sigma1,sigma2,0.4,t))\n",
    "#  default_corr_list_2.append(get_default_corr_zhou(V1_02,V2_02,k1,k2,sigma1,sigma2,0.4,t))\n",
    "#  default_corr_list_3.append((get_default_corr_zhou(V1_03,V2_03,k1,k2,sigma1,sigma2,0.4,t)))\n",
    "#  default_corr_list_4.append((get_default_corr_zhou(V1_04,V2_04,k1,k2,sigma1,sigma2,0.4,t)))\n",
    "# plt.plot(t_try_list,default_corr_list_1,label = 'V1/K1 = 0.2, V2/K2 = 1.2')\n",
    "# plt.plot(t_try_list,default_corr_list_2,label = 'V1/K1 = 0.4, V2/K2 = 1.2')\n",
    "# plt.plot(t_try_list,default_corr_list_3,label = 'V1/K1 = 0.6 V2/K2 = 1.2')\n",
    "# plt.plot(t_try_list,default_corr_list_4,label = 'V1/K1 = 0.9 V2/K2 = 1.2')\n",
    "# plt.ylabel('Default correlation')\n",
    "# plt.xlabel('t')\n",
    "# plt.title('sigma1 = sigma2 = 0.4,rho = 0.4')\n",
    "# plt.legend()\n",
    "# plt.show()"
   ]
  },
  {
   "cell_type": "code",
   "execution_count": null,
   "id": "cKCymA8MRfmE",
   "metadata": {
    "id": "cKCymA8MRfmE"
   },
   "outputs": [],
   "source": [
    "# k1 = 1\n",
    "# k2 = 1\n",
    "# def get_v2_from_v1(v1,diff):\n",
    "#   return v1+diff\n",
    "# for i in rnage"
   ]
  },
  {
   "cell_type": "code",
   "execution_count": null,
   "id": "UezISab53mzx",
   "metadata": {
    "id": "UezISab53mzx"
   },
   "outputs": [],
   "source": [
    "# V1_01 = 0.1\n",
    "# V2_01 = 2\n",
    "# V1_02 = 0.3\n",
    "# V2_02 = 2\n",
    "# V1_03 = 0.9\n",
    "# V2_03 = 2\n",
    "# k1 = 1\n",
    "# k2 = 1\n",
    "# sigma1 = 0.4\n",
    "# sigma2 = 0.4\n",
    "# t_try_list = np.arange(0.5, 20.0, 0.5).tolist()\n",
    "# default_corr_list_1 = []\n",
    "# default_corr_list_2 = []\n",
    "# default_corr_list_3 = []\n",
    "# for t in  t_try_list:\n",
    "#  default_corr_list_1.append(get_default_corr_zhou(V1_01,V2_01,k1,k2,sigma1,sigma2,0.4,t))\n",
    "#  default_corr_list_2.append(get_default_corr_zhou(V1_02,V2_02,k1,k2,sigma1,sigma2,0.4,t))\n",
    "#  default_corr_list_3.append((get_default_corr_zhou(V1_03,V2_03,k1,k2,sigma1,sigma2,0.4,t)))\n",
    "# plt.plot(t_try_list,default_corr_list_1,label = 'V1/K1 = 0.1, V2/K2 = 2')\n",
    "# plt.plot(t_try_list,default_corr_list_2,label = 'V1/K1 = 0.3, V2/K2 = 2')\n",
    "# plt.plot(t_try_list,default_corr_list_3,label = 'V1/K1 = 0.9, V2/K2 = 2')\n",
    "# plt.ylabel('Default correlation')\n",
    "# plt.xlabel('t')\n",
    "# plt.title('sigma1 = sigma2 = 0.4,rho = 0.4')\n",
    "# plt.legend()\n",
    "# plt.show()"
   ]
  },
  {
   "cell_type": "code",
   "execution_count": null,
   "id": "MMfjgmxR5lH6",
   "metadata": {
    "id": "MMfjgmxR5lH6"
   },
   "outputs": [],
   "source": [
    "# V1_01 = 0.1\n",
    "# V2_01 = 2\n",
    "# V1_02 = 0.3\n",
    "# V2_02 = 2\n",
    "# V1_03 = 0.9\n",
    "# V2_03 = 2\n",
    "# k1 = 1\n",
    "# k2 = 1\n",
    "# sigma1 = 0.4\n",
    "# sigma2 = 0.4\n",
    "# t_try_list = np.arange(1, 20.0, 0.5).tolist()\n",
    "# default_corr_list_1 = []\n",
    "# default_corr_list_2 = []\n",
    "# default_corr_list_3 = []\n",
    "# for t in  t_try_list:\n",
    "#  default_corr_list_1.append(get_default_corr_zhou(V1_01,V2_01,k1,k2,sigma1,sigma2,0.4,t))\n",
    "#  default_corr_list_2.append(get_default_corr_zhou(V1_02,V2_02,k1,k2,sigma1,sigma2,0.4,t))\n",
    "#  default_corr_list_3.append((get_default_corr_zhou(V1_03,V2_03,k1,k2,sigma1,sigma2,0.4,t)))\n",
    "# plt.plot(t_try_list,default_corr_list_1,label = 'V1/K1 = 0.1, V2/K2 = 2')\n",
    "# plt.plot(t_try_list,default_corr_list_2,label = 'V1/K1 = 0.3, V2/K2 = 2')\n",
    "# plt.plot(t_try_list,default_corr_list_3,label = 'V1/K1 = 0.9, V2/K2 = 2')\n",
    "# plt.ylabel('Default correlation')\n",
    "# plt.xlabel('t')\n",
    "# plt.title('sigma1 = sigma2 = 0.4,rho = 0.4')\n",
    "# plt.legend()\n",
    "# plt.show()"
   ]
  },
  {
   "cell_type": "code",
   "execution_count": null,
   "id": "E3pKRyAh7Ek4",
   "metadata": {
    "id": "E3pKRyAh7Ek4"
   },
   "outputs": [],
   "source": [
    "# V1_01 = 0.1\n",
    "# V2_01 = 1.2\n",
    "# V1_02 = 0.3\n",
    "# V2_02 = 1.2\n",
    "# V1_03 = 0.9\n",
    "# V2_03 = 1.2\n",
    "# k1 = 1\n",
    "# k2 = 1\n",
    "# sigma1 = 0.4\n",
    "# sigma2 = 0.4\n",
    "# t_try_list = np.arange(1, 20.0, 0.5).tolist()\n",
    "# default_corr_list_1 = []\n",
    "# default_corr_list_2 = []\n",
    "# default_corr_list_3 = []\n",
    "# for t in  t_try_list:\n",
    "#  default_corr_list_1.append(get_default_corr_zhou(V1_01,V2_01,k1,k2,sigma1,sigma2,0.4,t))\n",
    "#  default_corr_list_2.append(get_default_corr_zhou(V1_02,V2_02,k1,k2,sigma1,sigma2,0.4,t))\n",
    "#  default_corr_list_3.append((get_default_corr_zhou(V1_03,V2_03,k1,k2,sigma1,sigma2,0.4,t)))\n",
    "# plt.plot(t_try_list,default_corr_list_1,label = 'V1/K1 = 0.1, V2/K2 = 1.2')\n",
    "# plt.plot(t_try_list,default_corr_list_2,label = 'V1/K1 = 0.3, V2/K2 = 1.2')\n",
    "# plt.plot(t_try_list,default_corr_list_3,label = 'V1/K1 = 0.9, V2/K2 = 1.2')\n",
    "# plt.ylabel('Default correlation')\n",
    "# plt.xlabel('t')\n",
    "# plt.title('sigma1 = sigma2 = 0.4,rho = 0.4')\n",
    "# plt.legend()\n",
    "# plt.show()"
   ]
  },
  {
   "cell_type": "code",
   "execution_count": null,
   "id": "kUixMtjb3Xvg",
   "metadata": {
    "id": "kUixMtjb3Xvg"
   },
   "outputs": [],
   "source": []
  },
  {
   "cell_type": "markdown",
   "id": "8WYro7XDOYGT",
   "metadata": {
    "id": "8WYro7XDOYGT"
   },
   "source": [
    "# Check the avilability of long term liability data"
   ]
  },
  {
   "cell_type": "code",
   "execution_count": null,
   "id": "bVyHjtzOOhDC",
   "metadata": {
    "id": "bVyHjtzOOhDC"
   },
   "outputs": [],
   "source": [
    "# isin_list = ['CL0002694637', 'CL0000000035', 'MXP000511016', 'BRABEVACNOR1', 'MX01AM050019', 'BRAMERACNOR6', 'MX01AX040009', 'COB01PA00030', 'BRBBASACNOR3', 'BRBNBRACNOR8', 'PAP169941328', 'BRSANBACNPR5', 'CLP1506A1070', 'BRBRKMACNPA4', 'BRBRFSACNOR8', 'CLP256251073', 'MXP225611567', 'CLP3615W1037', 'BRCEEBACNOR3', 'BRSBSPACNOR5', 'BRCMIGACNPR3', 'BRCSRNACNOR0', 'BRCSNAACNOR6', 'CLP249051044', 'BRCSANACNOR6', 'BMG2519Y1084', 'MXP339881098', 'MXP369181377', 'CLP3697S1034', 'BREMBRACNOR4', 'CLP371151059', 'CL0000001314', 'CLP7847L1080', 'CLP371861061', 'CLP3710M1090', 'CL0001583070', 'CLP3880F1085', 'MXP320321310', 'MX01GC2M0006', 'BRGGBRACNPR8', 'BRGOLLACNPR4', 'MXP4948K1056', 'MXP495211262', 'COT13PA00086', 'MX01KU000012', 'MXP370841019', 'MXP791641105', 'MXP4987V1378', 'MX01ID000009', 'MXP554091415', 'BRMYPKACNOR7', 'MXP606941179', 'CL0000000423', 'BRRENTACNOR4', 'CLP969051075', 'CLP6877L1036', 'BROIBRACNPR8', 'MX01OR010004', 'ARP432631215', 'BRPETRACNPR6', 'CL0002455229', 'BRSUZBACNOR0', 'ARP9028N1016', 'ARP9308R1039', 'BRTUPYACNOR1', 'BRUGPAACNOR8', 'BRUSIMACNPA6', 'BRVALEACNOR0', 'ARP9897X1319']"
   ]
  },
  {
   "cell_type": "code",
   "execution_count": null,
   "id": "8C_kCy8rOz1V",
   "metadata": {
    "id": "8C_kCy8rOz1V"
   },
   "outputs": [],
   "source": [
    "# len(isin_list)"
   ]
  },
  {
   "cell_type": "code",
   "execution_count": null,
   "id": "ntIEe06AOcEC",
   "metadata": {
    "id": "ntIEe06AOcEC"
   },
   "outputs": [],
   "source": [
    "# balance_sheet = pd.read_csv('balance sheet.csv')"
   ]
  },
  {
   "cell_type": "code",
   "execution_count": null,
   "id": "IrkN8_T7O3zm",
   "metadata": {
    "id": "IrkN8_T7O3zm"
   },
   "outputs": [],
   "source": [
    "# balance_sheet.head(1)"
   ]
  },
  {
   "cell_type": "code",
   "execution_count": null,
   "id": "3K1qaWIhO5rx",
   "metadata": {
    "id": "3K1qaWIhO5rx"
   },
   "outputs": [],
   "source": [
    "# temp = balance_sheet[balance_sheet['isin'].isin(isin_list)]\n",
    "# temp.shape"
   ]
  },
  {
   "cell_type": "code",
   "execution_count": null,
   "id": "WFUDBLjZPB2I",
   "metadata": {
    "id": "WFUDBLjZPB2I"
   },
   "outputs": [],
   "source": [
    "# np.sum(temp.isnull(), axis = 0)"
   ]
  },
  {
   "cell_type": "code",
   "execution_count": null,
   "id": "pgvDRwB_Pn2m",
   "metadata": {
    "id": "pgvDRwB_Pn2m"
   },
   "outputs": [],
   "source": [
    "# temp[temp['lltq'].isnull()]['datadate'].value_counts()"
   ]
  },
  {
   "cell_type": "code",
   "execution_count": null,
   "id": "w_VAcv20P3zK",
   "metadata": {
    "id": "w_VAcv20P3zK"
   },
   "outputs": [],
   "source": [
    "# np.sum(temp[temp['lltq'].isnull()]['datadate'].value_counts())"
   ]
  },
  {
   "cell_type": "code",
   "execution_count": null,
   "id": "SaqTW_q4PpQq",
   "metadata": {
    "id": "SaqTW_q4PpQq"
   },
   "outputs": [],
   "source": [
    "# temp_company = temp[temp['lltq'].isnull()]['isin'].value_counts()\n",
    "# temp[temp['lltq'].isnull()]['isin'].value_counts()"
   ]
  },
  {
   "cell_type": "code",
   "execution_count": null,
   "id": "--6txZO7PwPG",
   "metadata": {
    "id": "--6txZO7PwPG"
   },
   "outputs": [],
   "source": [
    "# np.sum(temp[temp['lltq'].isnull()]['isin'].value_counts())"
   ]
  },
  {
   "cell_type": "code",
   "execution_count": null,
   "id": "8dyS8gFVRDv_",
   "metadata": {
    "id": "8dyS8gFVRDv_"
   },
   "outputs": [],
   "source": [
    "\n"
   ]
  },
  {
   "cell_type": "code",
   "execution_count": null,
   "id": "pq5Rwc_yP2ax",
   "metadata": {
    "id": "pq5Rwc_yP2ax"
   },
   "outputs": [],
   "source": []
  },
  {
   "cell_type": "code",
   "execution_count": null,
   "id": "4bba9b54",
   "metadata": {},
   "outputs": [],
   "source": []
  },
  {
   "cell_type": "code",
   "execution_count": null,
   "id": "64f5bc58",
   "metadata": {},
   "outputs": [],
   "source": []
  },
  {
   "cell_type": "code",
   "execution_count": null,
   "id": "e12b55d3",
   "metadata": {},
   "outputs": [],
   "source": []
  },
  {
   "cell_type": "code",
   "execution_count": null,
   "id": "f9d121b2",
   "metadata": {},
   "outputs": [],
   "source": []
  }
 ],
 "metadata": {
  "accelerator": "GPU",
  "celltoolbar": "Tags",
  "colab": {
   "collapsed_sections": [
    "z4x8i4VCmEpd",
    "fkPgpBJD6oIF",
    "KteoL98FFsdv",
    "e6zGJeditPeZ"
   ],
   "gpuType": "T4",
   "provenance": []
  },
  "kernelspec": {
   "display_name": "Python 3 (ipykernel)",
   "language": "python",
   "name": "python3"
  },
  "language_info": {
   "codemirror_mode": {
    "name": "ipython",
    "version": 3
   },
   "file_extension": ".py",
   "mimetype": "text/x-python",
   "name": "python",
   "nbconvert_exporter": "python",
   "pygments_lexer": "ipython3",
   "version": "3.11.4"
  }
 },
 "nbformat": 4,
 "nbformat_minor": 5
}
