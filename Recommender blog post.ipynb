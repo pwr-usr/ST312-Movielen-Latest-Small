{
 "cells": [
  {
   "cell_type": "markdown",
   "id": "991ed297",
   "metadata": {},
   "source": [
    "# Comparing matrix factorization with transformers for MovieLens recommendations using PyTorch-accelerated."
   ]
  },
  {
   "cell_type": "markdown",
   "id": "32f9ba9b",
   "metadata": {},
   "source": [
    "Reference: https://medium.com/data-science-at-microsoft/comparing-matrix-factorization-with-transformers-for-movielens-recommendations-using-8e3cd3ec8bd8 Chris Hughes"
   ]
  },
  {
   "cell_type": "code",
   "execution_count": 5,
   "id": "85bda3bd-d439-4c4e-a372-85a0ba75111f",
   "metadata": {
    "execution": {
     "iopub.execute_input": "2024-03-19T00:23:16.273082Z",
     "iopub.status.busy": "2024-03-19T00:23:16.272479Z",
     "iopub.status.idle": "2024-03-19T00:24:36.849576Z",
     "shell.execute_reply": "2024-03-19T00:24:36.844588Z",
     "shell.execute_reply.started": "2024-03-19T00:23:16.273039Z"
    }
   },
   "outputs": [
    {
     "name": "stdout",
     "output_type": "stream",
     "text": [
      "Collecting statsmodels\n",
      "  Downloading statsmodels-0.14.1-cp39-cp39-manylinux_2_17_x86_64.manylinux2014_x86_64.whl (10.8 MB)\n",
      "\u001b[2K     \u001b[90m━━━━━━━━━━━━━━━━━━━━━━━━━━━━━━━━━━━━━━━━\u001b[0m \u001b[32m10.8/10.8 MB\u001b[0m \u001b[31m24.6 MB/s\u001b[0m eta \u001b[36m0:00:00\u001b[0m00:01\u001b[0m0:01\u001b[0m\n",
      "\u001b[?25hRequirement already satisfied: packaging>=21.3 in /usr/local/lib/python3.9/dist-packages (from statsmodels) (23.0)\n",
      "Requirement already satisfied: numpy<2,>=1.18 in /usr/local/lib/python3.9/dist-packages (from statsmodels) (1.23.4)\n",
      "Collecting patsy>=0.5.4\n",
      "  Downloading patsy-0.5.6-py2.py3-none-any.whl (233 kB)\n",
      "\u001b[2K     \u001b[90m━━━━━━━━━━━━━━━━━━━━━━━━━━━━━━━━━━━━━━━\u001b[0m \u001b[32m233.9/233.9 kB\u001b[0m \u001b[31m7.6 MB/s\u001b[0m eta \u001b[36m0:00:00\u001b[0m\n",
      "\u001b[?25hCollecting scipy!=1.9.2,>=1.4\n",
      "  Downloading scipy-1.12.0-cp39-cp39-manylinux_2_17_x86_64.manylinux2014_x86_64.whl (38.5 MB)\n",
      "\u001b[2K     \u001b[90m━━━━━━━━━━━━━━━━━━━━━━━━━━━━━━━━━━━━━━━━\u001b[0m \u001b[32m38.5/38.5 MB\u001b[0m \u001b[31m8.7 MB/s\u001b[0m eta \u001b[36m0:00:00\u001b[0m:00:01\u001b[0m00:01\u001b[0m\n",
      "\u001b[?25hRequirement already satisfied: pandas!=2.1.0,>=1.0 in /usr/local/lib/python3.9/dist-packages (from statsmodels) (1.5.0)\n",
      "Requirement already satisfied: pytz>=2020.1 in /usr/local/lib/python3.9/dist-packages (from pandas!=2.1.0,>=1.0->statsmodels) (2022.7.1)\n",
      "Requirement already satisfied: python-dateutil>=2.8.1 in /usr/local/lib/python3.9/dist-packages (from pandas!=2.1.0,>=1.0->statsmodels) (2.8.2)\n",
      "Requirement already satisfied: six in /usr/lib/python3/dist-packages (from patsy>=0.5.4->statsmodels) (1.14.0)\n",
      "Installing collected packages: scipy, patsy, statsmodels\n",
      "Successfully installed patsy-0.5.6 scipy-1.12.0 statsmodels-0.14.1\n",
      "\u001b[33mWARNING: Running pip as the 'root' user can result in broken permissions and conflicting behaviour with the system package manager. It is recommended to use a virtual environment instead: https://pip.pypa.io/warnings/venv\u001b[0m\u001b[33m\n",
      "\u001b[0mCollecting torchmetrics\n",
      "  Downloading torchmetrics-1.3.2-py3-none-any.whl (841 kB)\n",
      "\u001b[2K     \u001b[90m━━━━━━━━━━━━━━━━━━━━━━━━━━━━━━━━━━━━━━\u001b[0m \u001b[32m841.5/841.5 kB\u001b[0m \u001b[31m24.1 MB/s\u001b[0m eta \u001b[36m0:00:00\u001b[0m\n",
      "\u001b[?25hRequirement already satisfied: packaging>17.1 in /usr/local/lib/python3.9/dist-packages (from torchmetrics) (23.0)\n",
      "Requirement already satisfied: torch>=1.10.0 in /usr/local/lib/python3.9/dist-packages (from torchmetrics) (1.12.1+cu116)\n",
      "Requirement already satisfied: numpy>1.20.0 in /usr/local/lib/python3.9/dist-packages (from torchmetrics) (1.23.4)\n",
      "Collecting lightning-utilities>=0.8.0\n",
      "  Downloading lightning_utilities-0.11.0-py3-none-any.whl (25 kB)\n",
      "Requirement already satisfied: setuptools in /usr/local/lib/python3.9/dist-packages (from lightning-utilities>=0.8.0->torchmetrics) (66.1.1)\n",
      "Requirement already satisfied: typing-extensions in /usr/local/lib/python3.9/dist-packages (from lightning-utilities>=0.8.0->torchmetrics) (4.4.0)\n",
      "Installing collected packages: lightning-utilities, torchmetrics\n",
      "Successfully installed lightning-utilities-0.11.0 torchmetrics-1.3.2\n",
      "\u001b[33mWARNING: Running pip as the 'root' user can result in broken permissions and conflicting behaviour with the system package manager. It is recommended to use a virtual environment instead: https://pip.pypa.io/warnings/venv\u001b[0m\u001b[33m\n",
      "\u001b[0mCollecting pytorch-accelerated\n",
      "  Downloading pytorch_accelerated-0.1.47-py3-none-any.whl (51 kB)\n",
      "\u001b[2K     \u001b[90m━━━━━━━━━━━━━━━━━━━━━━━━━━━━━━━━━━━━━━━━\u001b[0m \u001b[32m52.0/52.0 kB\u001b[0m \u001b[31m4.2 MB/s\u001b[0m eta \u001b[36m0:00:00\u001b[0m\n",
      "\u001b[?25hCollecting accelerate==0.20.3\n",
      "  Downloading accelerate-0.20.3-py3-none-any.whl (227 kB)\n",
      "\u001b[2K     \u001b[90m━━━━━━━━━━━━━━━━━━━━━━━━━━━━━━━━━━━━━━━\u001b[0m \u001b[32m227.6/227.6 kB\u001b[0m \u001b[31m6.8 MB/s\u001b[0m eta \u001b[36m0:00:00\u001b[0m\n",
      "\u001b[?25hRequirement already satisfied: tqdm~=4.64.0 in /usr/local/lib/python3.9/dist-packages (from pytorch-accelerated) (4.64.1)\n",
      "Requirement already satisfied: psutil in /usr/local/lib/python3.9/dist-packages (from accelerate==0.20.3->pytorch-accelerated) (5.9.4)\n",
      "Requirement already satisfied: packaging>=20.0 in /usr/local/lib/python3.9/dist-packages (from accelerate==0.20.3->pytorch-accelerated) (23.0)\n",
      "Requirement already satisfied: torch>=1.6.0 in /usr/local/lib/python3.9/dist-packages (from accelerate==0.20.3->pytorch-accelerated) (1.12.1+cu116)\n",
      "Requirement already satisfied: numpy>=1.17 in /usr/local/lib/python3.9/dist-packages (from accelerate==0.20.3->pytorch-accelerated) (1.23.4)\n",
      "Requirement already satisfied: pyyaml in /usr/local/lib/python3.9/dist-packages (from accelerate==0.20.3->pytorch-accelerated) (5.4.1)\n",
      "Requirement already satisfied: typing-extensions in /usr/local/lib/python3.9/dist-packages (from torch>=1.6.0->accelerate==0.20.3->pytorch-accelerated) (4.4.0)\n",
      "Installing collected packages: accelerate, pytorch-accelerated\n",
      "Successfully installed accelerate-0.20.3 pytorch-accelerated-0.1.47\n",
      "\u001b[33mWARNING: Running pip as the 'root' user can result in broken permissions and conflicting behaviour with the system package manager. It is recommended to use a virtual environment instead: https://pip.pypa.io/warnings/venv\u001b[0m\u001b[33m\n",
      "\u001b[0m"
     ]
    }
   ],
   "source": [
    "!pip install --user statsmodels\n",
    "!pip install --user torchmetrics\n",
    "!pip install --user pytorch-accelerated"
   ]
  },
  {
   "cell_type": "code",
   "execution_count": 1,
   "id": "39eb9c28-5470-4d90-a8df-90b98c3140ff",
   "metadata": {
    "execution": {
     "iopub.execute_input": "2024-03-19T00:29:31.792958Z",
     "iopub.status.busy": "2024-03-19T00:29:31.792361Z",
     "iopub.status.idle": "2024-03-19T00:29:37.252436Z",
     "shell.execute_reply": "2024-03-19T00:29:37.250083Z",
     "shell.execute_reply.started": "2024-03-19T00:29:31.792901Z"
    }
   },
   "outputs": [],
   "source": [
    "!cd\n",
    "!rm -rf .local\n",
    "!ln -s /storage/config/.local/"
   ]
  },
  {
   "cell_type": "code",
   "execution_count": 15,
   "id": "85da47b7-7644-4df1-af6f-74f1495f90ec",
   "metadata": {
    "execution": {
     "iopub.execute_input": "2024-03-19T00:30:17.165283Z",
     "iopub.status.busy": "2024-03-19T00:30:17.164623Z",
     "iopub.status.idle": "2024-03-19T00:30:36.252222Z",
     "shell.execute_reply": "2024-03-19T00:30:36.249289Z",
     "shell.execute_reply.started": "2024-03-19T00:30:17.165244Z"
    }
   },
   "outputs": [],
   "source": [
    "import torchmetrics\n",
    "\n",
    "import numpy as np\n",
    "import pandas as pd\n",
    "import matplotlib.pyplot as plt\n",
    "import torch\n",
    "from torch import nn\n",
    "import seaborn as sns\n",
    "from IPython.display import Image, display\n",
    "from statsmodels.distributions.empirical_distribution import ECDF"
   ]
  },
  {
   "cell_type": "code",
   "execution_count": 12,
   "id": "461f9e74",
   "metadata": {},
   "outputs": [],
   "source": [
    "from pathlib import Path"
   ]
  },
  {
   "cell_type": "code",
   "execution_count": 36,
   "id": "afbacce4",
   "metadata": {},
   "outputs": [
    {
     "ename": "ModuleNotFoundError",
     "evalue": "No module named 'implicit'",
     "output_type": "error",
     "traceback": [
      "\u001b[0;31m---------------------------------------------------------------------------\u001b[0m",
      "\u001b[0;31mModuleNotFoundError\u001b[0m                       Traceback (most recent call last)",
      "Cell \u001b[0;32mIn[36], line 2\u001b[0m\n\u001b[1;32m      1\u001b[0m \u001b[38;5;28;01mfrom\u001b[39;00m \u001b[38;5;21;01mscipy\u001b[39;00m\u001b[38;5;21;01m.\u001b[39;00m\u001b[38;5;21;01msparse\u001b[39;00m \u001b[38;5;28;01mimport\u001b[39;00m csr_matrix\n\u001b[0;32m----> 2\u001b[0m \u001b[38;5;28;01mfrom\u001b[39;00m \u001b[38;5;21;01mimplicit\u001b[39;00m\u001b[38;5;21;01m.\u001b[39;00m\u001b[38;5;21;01mals\u001b[39;00m \u001b[38;5;28;01mimport\u001b[39;00m AlternatingLeastSquares\n",
      "\u001b[0;31mModuleNotFoundError\u001b[0m: No module named 'implicit'"
     ]
    }
   ],
   "source": [
    "from scipy.sparse import csr_matrix\n",
    "from implicit.als import AlternatingLeastSquares"
   ]
  },
  {
   "cell_type": "markdown",
   "id": "2e98d7c1",
   "metadata": {
    "tags": []
   },
   "source": [
    "## Download Data"
   ]
  },
  {
   "cell_type": "markdown",
   "id": "bfabb530",
   "metadata": {},
   "source": [
    "We use MovieLens-100k"
   ]
  },
  {
   "cell_type": "markdown",
   "id": "953dcf68",
   "metadata": {},
   "source": [
    "### Download Movielens 1m\n"
   ]
  },
  {
   "cell_type": "code",
   "execution_count": 5,
   "id": "1fe30757",
   "metadata": {},
   "outputs": [
    {
     "name": "stdout",
     "output_type": "stream",
     "text": [
      "--2024-03-30 15:04:49--  http://files.grouplens.org/datasets/movielens/ml-latest-small.zip\n",
      "Resolving files.grouplens.org (files.grouplens.org)... 128.101.65.152\n",
      "Connecting to files.grouplens.org (files.grouplens.org)|128.101.65.152|:80... "
     ]
    },
    {
     "name": "stdout",
     "output_type": "stream",
     "text": [
      "connected.\n",
      "HTTP request sent, awaiting response... 200 OK\n",
      "Length: 978202 (955K) [application/zip]\n",
      "Saving to: ‘ml-latest-small.zip’\n",
      "\n",
      "ml-latest-small.zip 100%[===================>] 955.28K  1.39MB/s    in 0.7s    \n",
      "\n",
      "2024-03-30 15:04:49 (1.39 MB/s) - ‘ml-latest-small.zip’ saved [978202/978202]\n",
      "\n",
      "Archive:  ml-latest-small.zip\n",
      "   creating: ml-latest-small/\n",
      "  inflating: ml-latest-small/links.csv  \n",
      "  inflating: ml-latest-small/tags.csv  \n",
      "  inflating: ml-latest-small/ratings.csv  \n",
      "  inflating: ml-latest-small/README.txt  \n",
      "  inflating: ml-latest-small/movies.csv  \n"
     ]
    }
   ],
   "source": [
    "! wget http://files.grouplens.org/datasets/movielens/ml-latest-small.zip\n",
    "! unzip ml-latest-small.zip"
   ]
  },
  {
   "cell_type": "markdown",
   "id": "35a9af32-23bd-4c31-af23-7ac9e16852e1",
   "metadata": {
    "tags": []
   },
   "source": [
    "\n",
    "# MovieLens Dataset Documentation\n",
    "## Overview\n",
    "This dataset (ml-latest-small) describes 5-star rating and free-text tagging activity from MovieLens, a movie recommendation service. It contains 100836 ratings and 3683 tag applications across 9742 movies. These data were created by 610 users between March 29, 1996 and September 24, 2018. This dataset was generated on September 26, 2018.\n",
    "\n",
    "Users were selected at random for inclusion. All selected users had rated at least 20 movies. No demographic information is included. Each user is represented by an id, and no other information is provided.\n",
    "\n",
    "The data are contained in the files links.csv, movies.csv, ratings.csv and tags.csv. More details about the contents and use of all these files follows.\n",
    "### User Ids\n",
    "\n",
    "- MovieLens users were selected at random for inclusion.\n",
    "- Their ids have been anonymized.\n",
    "- User ids are consistent between `ratings.csv` and `tags.csv` (i.e., the same id refers to the same user across the two files).\n",
    "\n",
    "### Movie Ids\n",
    "\n",
    "- Only movies with at least one rating or tag are included in the dataset.\n",
    "- These movie ids are consistent with those used on the MovieLens web site (e.g., id 1 corresponds to the URL <https://movielens.org/movies/1>).\n",
    "- Movie ids are consistent between `ratings.csv`, `tags.csv`, `movies.csv`, and `links.csv` (i.e., the same id refers to the same movie across these four data files).\n",
    "\n",
    "### Files and Their Structures\n",
    "\n",
    "#### Ratings Data File Structure (`ratings.csv`)\n",
    "\n",
    "- Contains all user movie ratings.\n",
    "- **Format**: `userId,movieId,rating,timestamp`\n",
    "- **Order**: First by `userId`, then by `movieId`.\n",
    "- **Ratings**: On a 5-star scale, with half-star increments (0.5 stars - 5.0 stars).\n",
    "- **Timestamps**: Represent seconds since midnight Coordinated Universal Time (UTC) of January 1, 1970.\n",
    "\n",
    "#### Tags Data File Structure (`tags.csv`)\n",
    "\n",
    "- Contains all user-generated tags for movies.\n",
    "- **Format**: `userId,movieId,tag,timestamp`\n",
    "- **Order**: First by `userId`, then by `movieId`.\n",
    "- **Tags**: Typically a single word or short phrase, with meaning determined by the user.\n",
    "- **Timestamps**: Represent seconds since midnight UTC of January 1, 1970.\n",
    "\n",
    "#### Movies Data File Structure (`movies.csv`)\n",
    "\n",
    "- Contains information on movies.\n",
    "- **Format**: `movieId,title,genres`\n",
    "- **Title**: Includes the year of release in parentheses. May contain errors or inconsistencies.\n",
    "- **Genres**: A pipe-separated list, from a predefined set including Action, Comedy, Drama, etc., or \"(no genres listed)\".\n",
    "\n",
    "#### Links Data File Structure (`links.csv`)\n",
    "\n",
    "- Contains identifiers linking to other movie data sources.\n",
    "- **Format**: `movieId,imdbId,tmdbId`\n",
    "- **movieId**: Identifier used by <https://movielens.org>.\n",
    "- **imdbId**: Identifier for movies used by <http://www.imdb.com>.\n",
    "- **tmdbId**: Identifier for movies used by <https://www.themoviedb.org>.\n",
    "\n"
   ]
  },
  {
   "cell_type": "markdown",
   "id": "bfa9b852",
   "metadata": {},
   "source": [
    "## Load Data"
   ]
  },
  {
   "cell_type": "code",
   "execution_count": 13,
   "id": "0d4bdaad",
   "metadata": {},
   "outputs": [],
   "source": [
    "dataset_path = Path('ml-latest-small')\n",
    "\n",
    "tags = pd.read_csv(\n",
    "    dataset_path/\"tags.csv\",\n",
    "    sep=\",\",\n",
    ")\n",
    "ratings = pd.read_csv(\n",
    "    dataset_path/\"ratings.csv\",\n",
    "    sep=\",\",\n",
    ")\n",
    "\n",
    "movies = pd.read_csv(\n",
    "    dataset_path/\"movies.csv\",\n",
    "    sep=\",\"\n",
    ")\n",
    "links = pd.read_csv(\n",
    "    dataset_path/\"links.csv\",\n",
    "    sep=\",\"\n",
    ")"
   ]
  },
  {
   "cell_type": "code",
   "execution_count": 32,
   "id": "8df3ad1f",
   "metadata": {},
   "outputs": [
    {
     "data": {
      "text/html": [
       "<div>\n",
       "<style scoped>\n",
       "    .dataframe tbody tr th:only-of-type {\n",
       "        vertical-align: middle;\n",
       "    }\n",
       "\n",
       "    .dataframe tbody tr th {\n",
       "        vertical-align: top;\n",
       "    }\n",
       "\n",
       "    .dataframe thead th {\n",
       "        text-align: right;\n",
       "    }\n",
       "</style>\n",
       "<table border=\"1\" class=\"dataframe\">\n",
       "  <thead>\n",
       "    <tr style=\"text-align: right;\">\n",
       "      <th></th>\n",
       "      <th>movieId</th>\n",
       "      <th>imdbId</th>\n",
       "      <th>tmdbId</th>\n",
       "    </tr>\n",
       "  </thead>\n",
       "  <tbody>\n",
       "    <tr>\n",
       "      <th>0</th>\n",
       "      <td>1</td>\n",
       "      <td>114709</td>\n",
       "      <td>862.0</td>\n",
       "    </tr>\n",
       "    <tr>\n",
       "      <th>1</th>\n",
       "      <td>2</td>\n",
       "      <td>113497</td>\n",
       "      <td>8844.0</td>\n",
       "    </tr>\n",
       "    <tr>\n",
       "      <th>2</th>\n",
       "      <td>3</td>\n",
       "      <td>113228</td>\n",
       "      <td>15602.0</td>\n",
       "    </tr>\n",
       "    <tr>\n",
       "      <th>3</th>\n",
       "      <td>4</td>\n",
       "      <td>114885</td>\n",
       "      <td>31357.0</td>\n",
       "    </tr>\n",
       "    <tr>\n",
       "      <th>4</th>\n",
       "      <td>5</td>\n",
       "      <td>113041</td>\n",
       "      <td>11862.0</td>\n",
       "    </tr>\n",
       "    <tr>\n",
       "      <th>...</th>\n",
       "      <td>...</td>\n",
       "      <td>...</td>\n",
       "      <td>...</td>\n",
       "    </tr>\n",
       "    <tr>\n",
       "      <th>9737</th>\n",
       "      <td>193581</td>\n",
       "      <td>5476944</td>\n",
       "      <td>432131.0</td>\n",
       "    </tr>\n",
       "    <tr>\n",
       "      <th>9738</th>\n",
       "      <td>193583</td>\n",
       "      <td>5914996</td>\n",
       "      <td>445030.0</td>\n",
       "    </tr>\n",
       "    <tr>\n",
       "      <th>9739</th>\n",
       "      <td>193585</td>\n",
       "      <td>6397426</td>\n",
       "      <td>479308.0</td>\n",
       "    </tr>\n",
       "    <tr>\n",
       "      <th>9740</th>\n",
       "      <td>193587</td>\n",
       "      <td>8391976</td>\n",
       "      <td>483455.0</td>\n",
       "    </tr>\n",
       "    <tr>\n",
       "      <th>9741</th>\n",
       "      <td>193609</td>\n",
       "      <td>101726</td>\n",
       "      <td>37891.0</td>\n",
       "    </tr>\n",
       "  </tbody>\n",
       "</table>\n",
       "<p>9742 rows × 3 columns</p>\n",
       "</div>"
      ],
      "text/plain": [
       "      movieId   imdbId    tmdbId\n",
       "0           1   114709     862.0\n",
       "1           2   113497    8844.0\n",
       "2           3   113228   15602.0\n",
       "3           4   114885   31357.0\n",
       "4           5   113041   11862.0\n",
       "...       ...      ...       ...\n",
       "9737   193581  5476944  432131.0\n",
       "9738   193583  5914996  445030.0\n",
       "9739   193585  6397426  479308.0\n",
       "9740   193587  8391976  483455.0\n",
       "9741   193609   101726   37891.0\n",
       "\n",
       "[9742 rows x 3 columns]"
      ]
     },
     "execution_count": 32,
     "metadata": {},
     "output_type": "execute_result"
    }
   ],
   "source": [
    "links"
   ]
  },
  {
   "cell_type": "code",
   "execution_count": 33,
   "id": "8730072b",
   "metadata": {},
   "outputs": [
    {
     "data": {
      "text/html": [
       "<div>\n",
       "<style scoped>\n",
       "    .dataframe tbody tr th:only-of-type {\n",
       "        vertical-align: middle;\n",
       "    }\n",
       "\n",
       "    .dataframe tbody tr th {\n",
       "        vertical-align: top;\n",
       "    }\n",
       "\n",
       "    .dataframe thead th {\n",
       "        text-align: right;\n",
       "    }\n",
       "</style>\n",
       "<table border=\"1\" class=\"dataframe\">\n",
       "  <thead>\n",
       "    <tr style=\"text-align: right;\">\n",
       "      <th></th>\n",
       "      <th>userId</th>\n",
       "      <th>movieId</th>\n",
       "      <th>tag</th>\n",
       "      <th>timestamp</th>\n",
       "    </tr>\n",
       "  </thead>\n",
       "  <tbody>\n",
       "    <tr>\n",
       "      <th>0</th>\n",
       "      <td>2</td>\n",
       "      <td>60756</td>\n",
       "      <td>funny</td>\n",
       "      <td>1445714994</td>\n",
       "    </tr>\n",
       "    <tr>\n",
       "      <th>1</th>\n",
       "      <td>2</td>\n",
       "      <td>60756</td>\n",
       "      <td>Highly quotable</td>\n",
       "      <td>1445714996</td>\n",
       "    </tr>\n",
       "    <tr>\n",
       "      <th>2</th>\n",
       "      <td>2</td>\n",
       "      <td>60756</td>\n",
       "      <td>will ferrell</td>\n",
       "      <td>1445714992</td>\n",
       "    </tr>\n",
       "    <tr>\n",
       "      <th>3</th>\n",
       "      <td>2</td>\n",
       "      <td>89774</td>\n",
       "      <td>Boxing story</td>\n",
       "      <td>1445715207</td>\n",
       "    </tr>\n",
       "    <tr>\n",
       "      <th>4</th>\n",
       "      <td>2</td>\n",
       "      <td>89774</td>\n",
       "      <td>MMA</td>\n",
       "      <td>1445715200</td>\n",
       "    </tr>\n",
       "    <tr>\n",
       "      <th>...</th>\n",
       "      <td>...</td>\n",
       "      <td>...</td>\n",
       "      <td>...</td>\n",
       "      <td>...</td>\n",
       "    </tr>\n",
       "    <tr>\n",
       "      <th>3678</th>\n",
       "      <td>606</td>\n",
       "      <td>7382</td>\n",
       "      <td>for katie</td>\n",
       "      <td>1171234019</td>\n",
       "    </tr>\n",
       "    <tr>\n",
       "      <th>3679</th>\n",
       "      <td>606</td>\n",
       "      <td>7936</td>\n",
       "      <td>austere</td>\n",
       "      <td>1173392334</td>\n",
       "    </tr>\n",
       "    <tr>\n",
       "      <th>3680</th>\n",
       "      <td>610</td>\n",
       "      <td>3265</td>\n",
       "      <td>gun fu</td>\n",
       "      <td>1493843984</td>\n",
       "    </tr>\n",
       "    <tr>\n",
       "      <th>3681</th>\n",
       "      <td>610</td>\n",
       "      <td>3265</td>\n",
       "      <td>heroic bloodshed</td>\n",
       "      <td>1493843978</td>\n",
       "    </tr>\n",
       "    <tr>\n",
       "      <th>3682</th>\n",
       "      <td>610</td>\n",
       "      <td>168248</td>\n",
       "      <td>Heroic Bloodshed</td>\n",
       "      <td>1493844270</td>\n",
       "    </tr>\n",
       "  </tbody>\n",
       "</table>\n",
       "<p>3683 rows × 4 columns</p>\n",
       "</div>"
      ],
      "text/plain": [
       "      userId  movieId               tag   timestamp\n",
       "0          2    60756             funny  1445714994\n",
       "1          2    60756   Highly quotable  1445714996\n",
       "2          2    60756      will ferrell  1445714992\n",
       "3          2    89774      Boxing story  1445715207\n",
       "4          2    89774               MMA  1445715200\n",
       "...      ...      ...               ...         ...\n",
       "3678     606     7382         for katie  1171234019\n",
       "3679     606     7936           austere  1173392334\n",
       "3680     610     3265            gun fu  1493843984\n",
       "3681     610     3265  heroic bloodshed  1493843978\n",
       "3682     610   168248  Heroic Bloodshed  1493844270\n",
       "\n",
       "[3683 rows x 4 columns]"
      ]
     },
     "execution_count": 33,
     "metadata": {},
     "output_type": "execute_result"
    }
   ],
   "source": [
    "tags"
   ]
  },
  {
   "cell_type": "code",
   "execution_count": 34,
   "id": "c78f339b",
   "metadata": {},
   "outputs": [
    {
     "data": {
      "text/html": [
       "<div>\n",
       "<style scoped>\n",
       "    .dataframe tbody tr th:only-of-type {\n",
       "        vertical-align: middle;\n",
       "    }\n",
       "\n",
       "    .dataframe tbody tr th {\n",
       "        vertical-align: top;\n",
       "    }\n",
       "\n",
       "    .dataframe thead th {\n",
       "        text-align: right;\n",
       "    }\n",
       "</style>\n",
       "<table border=\"1\" class=\"dataframe\">\n",
       "  <thead>\n",
       "    <tr style=\"text-align: right;\">\n",
       "      <th></th>\n",
       "      <th>movieId</th>\n",
       "      <th>title</th>\n",
       "      <th>genres</th>\n",
       "    </tr>\n",
       "  </thead>\n",
       "  <tbody>\n",
       "    <tr>\n",
       "      <th>0</th>\n",
       "      <td>1</td>\n",
       "      <td>Toy Story (1995)</td>\n",
       "      <td>Adventure|Animation|Children|Comedy|Fantasy</td>\n",
       "    </tr>\n",
       "    <tr>\n",
       "      <th>1</th>\n",
       "      <td>2</td>\n",
       "      <td>Jumanji (1995)</td>\n",
       "      <td>Adventure|Children|Fantasy</td>\n",
       "    </tr>\n",
       "    <tr>\n",
       "      <th>2</th>\n",
       "      <td>3</td>\n",
       "      <td>Grumpier Old Men (1995)</td>\n",
       "      <td>Comedy|Romance</td>\n",
       "    </tr>\n",
       "    <tr>\n",
       "      <th>3</th>\n",
       "      <td>4</td>\n",
       "      <td>Waiting to Exhale (1995)</td>\n",
       "      <td>Comedy|Drama|Romance</td>\n",
       "    </tr>\n",
       "    <tr>\n",
       "      <th>4</th>\n",
       "      <td>5</td>\n",
       "      <td>Father of the Bride Part II (1995)</td>\n",
       "      <td>Comedy</td>\n",
       "    </tr>\n",
       "    <tr>\n",
       "      <th>...</th>\n",
       "      <td>...</td>\n",
       "      <td>...</td>\n",
       "      <td>...</td>\n",
       "    </tr>\n",
       "    <tr>\n",
       "      <th>9737</th>\n",
       "      <td>193581</td>\n",
       "      <td>Black Butler: Book of the Atlantic (2017)</td>\n",
       "      <td>Action|Animation|Comedy|Fantasy</td>\n",
       "    </tr>\n",
       "    <tr>\n",
       "      <th>9738</th>\n",
       "      <td>193583</td>\n",
       "      <td>No Game No Life: Zero (2017)</td>\n",
       "      <td>Animation|Comedy|Fantasy</td>\n",
       "    </tr>\n",
       "    <tr>\n",
       "      <th>9739</th>\n",
       "      <td>193585</td>\n",
       "      <td>Flint (2017)</td>\n",
       "      <td>Drama</td>\n",
       "    </tr>\n",
       "    <tr>\n",
       "      <th>9740</th>\n",
       "      <td>193587</td>\n",
       "      <td>Bungo Stray Dogs: Dead Apple (2018)</td>\n",
       "      <td>Action|Animation</td>\n",
       "    </tr>\n",
       "    <tr>\n",
       "      <th>9741</th>\n",
       "      <td>193609</td>\n",
       "      <td>Andrew Dice Clay: Dice Rules (1991)</td>\n",
       "      <td>Comedy</td>\n",
       "    </tr>\n",
       "  </tbody>\n",
       "</table>\n",
       "<p>9742 rows × 3 columns</p>\n",
       "</div>"
      ],
      "text/plain": [
       "      movieId                                      title  \\\n",
       "0           1                           Toy Story (1995)   \n",
       "1           2                             Jumanji (1995)   \n",
       "2           3                    Grumpier Old Men (1995)   \n",
       "3           4                   Waiting to Exhale (1995)   \n",
       "4           5         Father of the Bride Part II (1995)   \n",
       "...       ...                                        ...   \n",
       "9737   193581  Black Butler: Book of the Atlantic (2017)   \n",
       "9738   193583               No Game No Life: Zero (2017)   \n",
       "9739   193585                               Flint (2017)   \n",
       "9740   193587        Bungo Stray Dogs: Dead Apple (2018)   \n",
       "9741   193609        Andrew Dice Clay: Dice Rules (1991)   \n",
       "\n",
       "                                           genres  \n",
       "0     Adventure|Animation|Children|Comedy|Fantasy  \n",
       "1                      Adventure|Children|Fantasy  \n",
       "2                                  Comedy|Romance  \n",
       "3                            Comedy|Drama|Romance  \n",
       "4                                          Comedy  \n",
       "...                                           ...  \n",
       "9737              Action|Animation|Comedy|Fantasy  \n",
       "9738                     Animation|Comedy|Fantasy  \n",
       "9739                                        Drama  \n",
       "9740                             Action|Animation  \n",
       "9741                                       Comedy  \n",
       "\n",
       "[9742 rows x 3 columns]"
      ]
     },
     "execution_count": 34,
     "metadata": {},
     "output_type": "execute_result"
    }
   ],
   "source": [
    "movies"
   ]
  },
  {
   "cell_type": "code",
   "execution_count": 35,
   "id": "df3798b8",
   "metadata": {},
   "outputs": [
    {
     "data": {
      "text/html": [
       "<div>\n",
       "<style scoped>\n",
       "    .dataframe tbody tr th:only-of-type {\n",
       "        vertical-align: middle;\n",
       "    }\n",
       "\n",
       "    .dataframe tbody tr th {\n",
       "        vertical-align: top;\n",
       "    }\n",
       "\n",
       "    .dataframe thead th {\n",
       "        text-align: right;\n",
       "    }\n",
       "</style>\n",
       "<table border=\"1\" class=\"dataframe\">\n",
       "  <thead>\n",
       "    <tr style=\"text-align: right;\">\n",
       "      <th></th>\n",
       "      <th>userId</th>\n",
       "      <th>movieId</th>\n",
       "      <th>rating</th>\n",
       "      <th>timestamp</th>\n",
       "    </tr>\n",
       "  </thead>\n",
       "  <tbody>\n",
       "    <tr>\n",
       "      <th>0</th>\n",
       "      <td>1</td>\n",
       "      <td>1</td>\n",
       "      <td>4.0</td>\n",
       "      <td>964982703</td>\n",
       "    </tr>\n",
       "    <tr>\n",
       "      <th>1</th>\n",
       "      <td>1</td>\n",
       "      <td>3</td>\n",
       "      <td>4.0</td>\n",
       "      <td>964981247</td>\n",
       "    </tr>\n",
       "    <tr>\n",
       "      <th>2</th>\n",
       "      <td>1</td>\n",
       "      <td>6</td>\n",
       "      <td>4.0</td>\n",
       "      <td>964982224</td>\n",
       "    </tr>\n",
       "    <tr>\n",
       "      <th>3</th>\n",
       "      <td>1</td>\n",
       "      <td>47</td>\n",
       "      <td>5.0</td>\n",
       "      <td>964983815</td>\n",
       "    </tr>\n",
       "    <tr>\n",
       "      <th>4</th>\n",
       "      <td>1</td>\n",
       "      <td>50</td>\n",
       "      <td>5.0</td>\n",
       "      <td>964982931</td>\n",
       "    </tr>\n",
       "    <tr>\n",
       "      <th>...</th>\n",
       "      <td>...</td>\n",
       "      <td>...</td>\n",
       "      <td>...</td>\n",
       "      <td>...</td>\n",
       "    </tr>\n",
       "    <tr>\n",
       "      <th>100831</th>\n",
       "      <td>610</td>\n",
       "      <td>166534</td>\n",
       "      <td>4.0</td>\n",
       "      <td>1493848402</td>\n",
       "    </tr>\n",
       "    <tr>\n",
       "      <th>100832</th>\n",
       "      <td>610</td>\n",
       "      <td>168248</td>\n",
       "      <td>5.0</td>\n",
       "      <td>1493850091</td>\n",
       "    </tr>\n",
       "    <tr>\n",
       "      <th>100833</th>\n",
       "      <td>610</td>\n",
       "      <td>168250</td>\n",
       "      <td>5.0</td>\n",
       "      <td>1494273047</td>\n",
       "    </tr>\n",
       "    <tr>\n",
       "      <th>100834</th>\n",
       "      <td>610</td>\n",
       "      <td>168252</td>\n",
       "      <td>5.0</td>\n",
       "      <td>1493846352</td>\n",
       "    </tr>\n",
       "    <tr>\n",
       "      <th>100835</th>\n",
       "      <td>610</td>\n",
       "      <td>170875</td>\n",
       "      <td>3.0</td>\n",
       "      <td>1493846415</td>\n",
       "    </tr>\n",
       "  </tbody>\n",
       "</table>\n",
       "<p>100836 rows × 4 columns</p>\n",
       "</div>"
      ],
      "text/plain": [
       "        userId  movieId  rating   timestamp\n",
       "0            1        1     4.0   964982703\n",
       "1            1        3     4.0   964981247\n",
       "2            1        6     4.0   964982224\n",
       "3            1       47     5.0   964983815\n",
       "4            1       50     5.0   964982931\n",
       "...        ...      ...     ...         ...\n",
       "100831     610   166534     4.0  1493848402\n",
       "100832     610   168248     5.0  1493850091\n",
       "100833     610   168250     5.0  1494273047\n",
       "100834     610   168252     5.0  1493846352\n",
       "100835     610   170875     3.0  1493846415\n",
       "\n",
       "[100836 rows x 4 columns]"
      ]
     },
     "execution_count": 35,
     "metadata": {},
     "output_type": "execute_result"
    }
   ],
   "source": [
    "ratings"
   ]
  },
  {
   "cell_type": "code",
   "execution_count": 17,
   "id": "ec8a279e",
   "metadata": {},
   "outputs": [],
   "source": [
    "ratings_df = pd.merge(ratings, movies)[['user_id', 'title', 'rating', 'unix_timestamp']]"
   ]
  },
  {
   "cell_type": "code",
   "execution_count": 18,
   "id": "6a1c658e-aa8f-4a56-8351-91ad53d6791a",
   "metadata": {},
   "outputs": [
    {
     "data": {
      "text/html": [
       "<div>\n",
       "<style scoped>\n",
       "    .dataframe tbody tr th:only-of-type {\n",
       "        vertical-align: middle;\n",
       "    }\n",
       "\n",
       "    .dataframe tbody tr th {\n",
       "        vertical-align: top;\n",
       "    }\n",
       "\n",
       "    .dataframe thead th {\n",
       "        text-align: right;\n",
       "    }\n",
       "</style>\n",
       "<table border=\"1\" class=\"dataframe\">\n",
       "  <thead>\n",
       "    <tr style=\"text-align: right;\">\n",
       "      <th></th>\n",
       "      <th>user_id</th>\n",
       "      <th>title</th>\n",
       "      <th>rating</th>\n",
       "      <th>unix_timestamp</th>\n",
       "    </tr>\n",
       "  </thead>\n",
       "  <tbody>\n",
       "    <tr>\n",
       "      <th>0</th>\n",
       "      <td>1</td>\n",
       "      <td>One Flew Over the Cuckoo's Nest (1975)</td>\n",
       "      <td>5</td>\n",
       "      <td>978300760</td>\n",
       "    </tr>\n",
       "  </tbody>\n",
       "</table>\n",
       "</div>"
      ],
      "text/plain": [
       "   user_id                                   title  rating  unix_timestamp\n",
       "0        1  One Flew Over the Cuckoo's Nest (1975)       5       978300760"
      ]
     },
     "execution_count": 18,
     "metadata": {},
     "output_type": "execute_result"
    }
   ],
   "source": [
    "ratings_df.head(1)"
   ]
  },
  {
   "cell_type": "code",
   "execution_count": 19,
   "id": "49366327",
   "metadata": {},
   "outputs": [],
   "source": [
    "ratings_df[\"user_id\"] = ratings_df[\"user_id\"].astype(str)"
   ]
  },
  {
   "cell_type": "code",
   "execution_count": 20,
   "id": "aba085d9-4395-46ae-bd42-7ae2f8df494c",
   "metadata": {},
   "outputs": [
    {
     "data": {
      "text/html": [
       "<div>\n",
       "<style scoped>\n",
       "    .dataframe tbody tr th:only-of-type {\n",
       "        vertical-align: middle;\n",
       "    }\n",
       "\n",
       "    .dataframe tbody tr th {\n",
       "        vertical-align: top;\n",
       "    }\n",
       "\n",
       "    .dataframe thead th {\n",
       "        text-align: right;\n",
       "    }\n",
       "</style>\n",
       "<table border=\"1\" class=\"dataframe\">\n",
       "  <thead>\n",
       "    <tr style=\"text-align: right;\">\n",
       "      <th></th>\n",
       "      <th>user_id</th>\n",
       "      <th>title</th>\n",
       "      <th>rating</th>\n",
       "      <th>unix_timestamp</th>\n",
       "    </tr>\n",
       "  </thead>\n",
       "  <tbody>\n",
       "    <tr>\n",
       "      <th>0</th>\n",
       "      <td>1</td>\n",
       "      <td>One Flew Over the Cuckoo's Nest (1975)</td>\n",
       "      <td>5</td>\n",
       "      <td>978300760</td>\n",
       "    </tr>\n",
       "    <tr>\n",
       "      <th>1</th>\n",
       "      <td>2</td>\n",
       "      <td>One Flew Over the Cuckoo's Nest (1975)</td>\n",
       "      <td>5</td>\n",
       "      <td>978298413</td>\n",
       "    </tr>\n",
       "    <tr>\n",
       "      <th>2</th>\n",
       "      <td>12</td>\n",
       "      <td>One Flew Over the Cuckoo's Nest (1975)</td>\n",
       "      <td>4</td>\n",
       "      <td>978220179</td>\n",
       "    </tr>\n",
       "  </tbody>\n",
       "</table>\n",
       "</div>"
      ],
      "text/plain": [
       "  user_id                                   title  rating  unix_timestamp\n",
       "0       1  One Flew Over the Cuckoo's Nest (1975)       5       978300760\n",
       "1       2  One Flew Over the Cuckoo's Nest (1975)       5       978298413\n",
       "2      12  One Flew Over the Cuckoo's Nest (1975)       4       978220179"
      ]
     },
     "execution_count": 20,
     "metadata": {},
     "output_type": "execute_result"
    }
   ],
   "source": [
    "ratings_df.head(3)"
   ]
  },
  {
   "cell_type": "code",
   "execution_count": 21,
   "id": "68f2e7ce-8b95-4a10-bd67-105cabc4d2c2",
   "metadata": {},
   "outputs": [
    {
     "data": {
      "text/plain": [
       "user_id           object\n",
       "title             object\n",
       "rating             int64\n",
       "unix_timestamp     int64\n",
       "dtype: object"
      ]
     },
     "execution_count": 21,
     "metadata": {},
     "output_type": "execute_result"
    }
   ],
   "source": [
    "ratings_df.dtypes"
   ]
  },
  {
   "cell_type": "markdown",
   "id": "5d65def1",
   "metadata": {},
   "source": [
    "Using pandas, we can print some high-level statistics about the dataset, which may be useful to us."
   ]
  },
  {
   "cell_type": "code",
   "execution_count": 22,
   "id": "8a7d9450",
   "metadata": {},
   "outputs": [
    {
     "name": "stdout",
     "output_type": "stream",
     "text": [
      "Total No. of users: 6040\n",
      "Total No. of items: 3706\n",
      "\n",
      "\n",
      "Max observed rating: 5\n",
      "Min observed rating: 1\n",
      "\n",
      "\n",
      "Max no. of user ratings: 2314\n",
      "Min no. of user ratings: 20\n",
      "Median no. of ratings per user: 96.0\n",
      "\n",
      "\n",
      "Max no. of item ratings: 3428\n",
      "Min no. of item ratings: 1\n",
      "Median no. of ratings per item: 123.5\n"
     ]
    }
   ],
   "source": [
    "ratings_per_user = ratings_df.groupby('user_id').rating.count()\n",
    "ratings_per_item = ratings_df.groupby('title').rating.count()\n",
    "\n",
    "print(f\"Total No. of users: {len(ratings_df.user_id.unique())}\")\n",
    "print(f\"Total No. of items: {len(ratings_df.title.unique())}\")\n",
    "print(\"\\n\")\n",
    "\n",
    "print(f\"Max observed rating: {ratings_df.rating.max()}\")\n",
    "print(f\"Min observed rating: {ratings_df.rating.min()}\")\n",
    "print(\"\\n\")\n",
    "\n",
    "print(f\"Max no. of user ratings: {ratings_per_user.max()}\")\n",
    "print(f\"Min no. of user ratings: {ratings_per_user.min()}\")\n",
    "print(f\"Median no. of ratings per user: {ratings_per_user.median()}\")\n",
    "print(\"\\n\")\n",
    "\n",
    "print(f\"Max no. of item ratings: {ratings_per_item.max()}\")\n",
    "print(f\"Min no. of item ratings: {ratings_per_item.min()}\")\n",
    "print(f\"Median no. of ratings per item: {ratings_per_item.median()}\")\n"
   ]
  },
  {
   "cell_type": "markdown",
   "id": "bbfe4077",
   "metadata": {},
   "source": [
    "### Splitting into training and validation sets"
   ]
  },
  {
   "cell_type": "code",
   "execution_count": 23,
   "id": "10ad3808",
   "metadata": {},
   "outputs": [],
   "source": [
    "def get_last_n_ratings_by_user(\n",
    "    df, n, min_ratings_per_user=1, user_colname=\"user_id\", timestamp_colname=\"unix_timestamp\"\n",
    "):\n",
    "    return (\n",
    "        df.groupby(user_colname)\n",
    "        .filter(lambda x: len(x) >= min_ratings_per_user)\n",
    "        .sort_values(timestamp_colname)\n",
    "        .groupby(user_colname)\n",
    "        .tail(n)\n",
    "        .sort_values(user_colname)\n",
    "    )"
   ]
  },
  {
   "cell_type": "code",
   "execution_count": 24,
   "id": "4e001e4d",
   "metadata": {},
   "outputs": [
    {
     "data": {
      "text/html": [
       "<div>\n",
       "<style scoped>\n",
       "    .dataframe tbody tr th:only-of-type {\n",
       "        vertical-align: middle;\n",
       "    }\n",
       "\n",
       "    .dataframe tbody tr th {\n",
       "        vertical-align: top;\n",
       "    }\n",
       "\n",
       "    .dataframe thead th {\n",
       "        text-align: right;\n",
       "    }\n",
       "</style>\n",
       "<table border=\"1\" class=\"dataframe\">\n",
       "  <thead>\n",
       "    <tr style=\"text-align: right;\">\n",
       "      <th></th>\n",
       "      <th>user_id</th>\n",
       "      <th>title</th>\n",
       "      <th>rating</th>\n",
       "      <th>unix_timestamp</th>\n",
       "    </tr>\n",
       "  </thead>\n",
       "  <tbody>\n",
       "    <tr>\n",
       "      <th>28501</th>\n",
       "      <td>1</td>\n",
       "      <td>Pocahontas (1995)</td>\n",
       "      <td>5</td>\n",
       "      <td>978824351</td>\n",
       "    </tr>\n",
       "    <tr>\n",
       "      <th>482398</th>\n",
       "      <td>10</td>\n",
       "      <td>Hero (1992)</td>\n",
       "      <td>5</td>\n",
       "      <td>980638688</td>\n",
       "    </tr>\n",
       "    <tr>\n",
       "      <th>800008</th>\n",
       "      <td>100</td>\n",
       "      <td>Apocalypse Now (1979)</td>\n",
       "      <td>2</td>\n",
       "      <td>977594963</td>\n",
       "    </tr>\n",
       "    <tr>\n",
       "      <th>496041</th>\n",
       "      <td>1000</td>\n",
       "      <td>Streetcar Named Desire, A (1951)</td>\n",
       "      <td>5</td>\n",
       "      <td>975042421</td>\n",
       "    </tr>\n",
       "    <tr>\n",
       "      <th>305563</th>\n",
       "      <td>1001</td>\n",
       "      <td>Austin Powers: The Spy Who Shagged Me (1999)</td>\n",
       "      <td>2</td>\n",
       "      <td>1028605534</td>\n",
       "    </tr>\n",
       "    <tr>\n",
       "      <th>...</th>\n",
       "      <td>...</td>\n",
       "      <td>...</td>\n",
       "      <td>...</td>\n",
       "      <td>...</td>\n",
       "    </tr>\n",
       "    <tr>\n",
       "      <th>767773</th>\n",
       "      <td>995</td>\n",
       "      <td>French Kiss (1995)</td>\n",
       "      <td>3</td>\n",
       "      <td>975099776</td>\n",
       "    </tr>\n",
       "    <tr>\n",
       "      <th>573889</th>\n",
       "      <td>996</td>\n",
       "      <td>Almost Famous (2000)</td>\n",
       "      <td>5</td>\n",
       "      <td>1001227064</td>\n",
       "    </tr>\n",
       "    <tr>\n",
       "      <th>76463</th>\n",
       "      <td>997</td>\n",
       "      <td>Gladiator (2000)</td>\n",
       "      <td>4</td>\n",
       "      <td>978915132</td>\n",
       "    </tr>\n",
       "    <tr>\n",
       "      <th>998801</th>\n",
       "      <td>998</td>\n",
       "      <td>See the Sea (Regarde la mer) (1997)</td>\n",
       "      <td>5</td>\n",
       "      <td>975192573</td>\n",
       "    </tr>\n",
       "    <tr>\n",
       "      <th>784436</th>\n",
       "      <td>999</td>\n",
       "      <td>Free Willy (1993)</td>\n",
       "      <td>2</td>\n",
       "      <td>975364891</td>\n",
       "    </tr>\n",
       "  </tbody>\n",
       "</table>\n",
       "<p>6040 rows × 4 columns</p>\n",
       "</div>"
      ],
      "text/plain": [
       "       user_id                                         title  rating  \\\n",
       "28501        1                             Pocahontas (1995)       5   \n",
       "482398      10                                   Hero (1992)       5   \n",
       "800008     100                         Apocalypse Now (1979)       2   \n",
       "496041    1000              Streetcar Named Desire, A (1951)       5   \n",
       "305563    1001  Austin Powers: The Spy Who Shagged Me (1999)       2   \n",
       "...        ...                                           ...     ...   \n",
       "767773     995                            French Kiss (1995)       3   \n",
       "573889     996                          Almost Famous (2000)       5   \n",
       "76463      997                              Gladiator (2000)       4   \n",
       "998801     998           See the Sea (Regarde la mer) (1997)       5   \n",
       "784436     999                             Free Willy (1993)       2   \n",
       "\n",
       "        unix_timestamp  \n",
       "28501        978824351  \n",
       "482398       980638688  \n",
       "800008       977594963  \n",
       "496041       975042421  \n",
       "305563      1028605534  \n",
       "...                ...  \n",
       "767773       975099776  \n",
       "573889      1001227064  \n",
       "76463        978915132  \n",
       "998801       975192573  \n",
       "784436       975364891  \n",
       "\n",
       "[6040 rows x 4 columns]"
      ]
     },
     "execution_count": 24,
     "metadata": {},
     "output_type": "execute_result"
    }
   ],
   "source": [
    "get_last_n_ratings_by_user(ratings_df, 1)"
   ]
  },
  {
   "cell_type": "code",
   "execution_count": 25,
   "id": "843f350c",
   "metadata": {},
   "outputs": [],
   "source": [
    "def mark_last_n_ratings_as_validation_set(\n",
    "    df, n, min_ratings=1, user_colname=\"user_id\", timestamp_colname=\"unix_timestamp\"\n",
    "):\n",
    "    \"\"\"\n",
    "    Mark the chronologically last n ratings as the validation set.\n",
    "    This is done by adding the additional 'is_valid' column to the df.\n",
    "    :param df: a DataFrame containing user item ratings\n",
    "    :param n: the number of ratings to include in the validation set\n",
    "    :param min_ratings: only include users with more than this many ratings\n",
    "    :param user_id_colname: the name of the column containing user ids\n",
    "    :param timestamp_colname: the name of the column containing the imestamps\n",
    "    :return: the same df with the additional 'is_valid' column added\n",
    "    \"\"\"\n",
    "    df[\"is_valid\"] = False\n",
    "    df.loc[\n",
    "        get_last_n_ratings_by_user(\n",
    "            df,\n",
    "            n,\n",
    "            min_ratings,\n",
    "            user_colname=user_colname,\n",
    "            timestamp_colname=timestamp_colname,\n",
    "        ).index,\n",
    "        \"is_valid\",\n",
    "    ] = True\n",
    "\n",
    "    return df"
   ]
  },
  {
   "cell_type": "markdown",
   "id": "b484e0d4-1eec-4f40-9fea-39aaf24d7883",
   "metadata": {},
   "source": [
    "Last two ratings by a user"
   ]
  },
  {
   "cell_type": "code",
   "execution_count": 26,
   "id": "4e7bf5ce",
   "metadata": {},
   "outputs": [
    {
     "data": {
      "text/html": [
       "<div>\n",
       "<style scoped>\n",
       "    .dataframe tbody tr th:only-of-type {\n",
       "        vertical-align: middle;\n",
       "    }\n",
       "\n",
       "    .dataframe tbody tr th {\n",
       "        vertical-align: top;\n",
       "    }\n",
       "\n",
       "    .dataframe thead th {\n",
       "        text-align: right;\n",
       "    }\n",
       "</style>\n",
       "<table border=\"1\" class=\"dataframe\">\n",
       "  <thead>\n",
       "    <tr style=\"text-align: right;\">\n",
       "      <th></th>\n",
       "      <th>user_id</th>\n",
       "      <th>title</th>\n",
       "      <th>rating</th>\n",
       "      <th>unix_timestamp</th>\n",
       "      <th>is_valid</th>\n",
       "    </tr>\n",
       "  </thead>\n",
       "  <tbody>\n",
       "    <tr>\n",
       "      <th>0</th>\n",
       "      <td>1</td>\n",
       "      <td>One Flew Over the Cuckoo's Nest (1975)</td>\n",
       "      <td>5</td>\n",
       "      <td>978300760</td>\n",
       "      <td>False</td>\n",
       "    </tr>\n",
       "    <tr>\n",
       "      <th>1</th>\n",
       "      <td>2</td>\n",
       "      <td>One Flew Over the Cuckoo's Nest (1975)</td>\n",
       "      <td>5</td>\n",
       "      <td>978298413</td>\n",
       "      <td>False</td>\n",
       "    </tr>\n",
       "    <tr>\n",
       "      <th>2</th>\n",
       "      <td>12</td>\n",
       "      <td>One Flew Over the Cuckoo's Nest (1975)</td>\n",
       "      <td>4</td>\n",
       "      <td>978220179</td>\n",
       "      <td>False</td>\n",
       "    </tr>\n",
       "    <tr>\n",
       "      <th>3</th>\n",
       "      <td>15</td>\n",
       "      <td>One Flew Over the Cuckoo's Nest (1975)</td>\n",
       "      <td>4</td>\n",
       "      <td>978199279</td>\n",
       "      <td>False</td>\n",
       "    </tr>\n",
       "    <tr>\n",
       "      <th>4</th>\n",
       "      <td>17</td>\n",
       "      <td>One Flew Over the Cuckoo's Nest (1975)</td>\n",
       "      <td>5</td>\n",
       "      <td>978158471</td>\n",
       "      <td>False</td>\n",
       "    </tr>\n",
       "    <tr>\n",
       "      <th>...</th>\n",
       "      <td>...</td>\n",
       "      <td>...</td>\n",
       "      <td>...</td>\n",
       "      <td>...</td>\n",
       "      <td>...</td>\n",
       "    </tr>\n",
       "    <tr>\n",
       "      <th>1000204</th>\n",
       "      <td>5949</td>\n",
       "      <td>Modulations (1998)</td>\n",
       "      <td>5</td>\n",
       "      <td>958846401</td>\n",
       "      <td>False</td>\n",
       "    </tr>\n",
       "    <tr>\n",
       "      <th>1000205</th>\n",
       "      <td>5675</td>\n",
       "      <td>Broken Vessels (1998)</td>\n",
       "      <td>3</td>\n",
       "      <td>976029116</td>\n",
       "      <td>False</td>\n",
       "    </tr>\n",
       "    <tr>\n",
       "      <th>1000206</th>\n",
       "      <td>5780</td>\n",
       "      <td>White Boys (1999)</td>\n",
       "      <td>1</td>\n",
       "      <td>958153068</td>\n",
       "      <td>False</td>\n",
       "    </tr>\n",
       "    <tr>\n",
       "      <th>1000207</th>\n",
       "      <td>5851</td>\n",
       "      <td>One Little Indian (1973)</td>\n",
       "      <td>5</td>\n",
       "      <td>957756608</td>\n",
       "      <td>False</td>\n",
       "    </tr>\n",
       "    <tr>\n",
       "      <th>1000208</th>\n",
       "      <td>5938</td>\n",
       "      <td>Five Wives, Three Secretaries and Me (1998)</td>\n",
       "      <td>4</td>\n",
       "      <td>957273353</td>\n",
       "      <td>False</td>\n",
       "    </tr>\n",
       "  </tbody>\n",
       "</table>\n",
       "<p>1000209 rows × 5 columns</p>\n",
       "</div>"
      ],
      "text/plain": [
       "        user_id                                        title  rating  \\\n",
       "0             1       One Flew Over the Cuckoo's Nest (1975)       5   \n",
       "1             2       One Flew Over the Cuckoo's Nest (1975)       5   \n",
       "2            12       One Flew Over the Cuckoo's Nest (1975)       4   \n",
       "3            15       One Flew Over the Cuckoo's Nest (1975)       4   \n",
       "4            17       One Flew Over the Cuckoo's Nest (1975)       5   \n",
       "...         ...                                          ...     ...   \n",
       "1000204    5949                           Modulations (1998)       5   \n",
       "1000205    5675                        Broken Vessels (1998)       3   \n",
       "1000206    5780                            White Boys (1999)       1   \n",
       "1000207    5851                     One Little Indian (1973)       5   \n",
       "1000208    5938  Five Wives, Three Secretaries and Me (1998)       4   \n",
       "\n",
       "         unix_timestamp  is_valid  \n",
       "0             978300760     False  \n",
       "1             978298413     False  \n",
       "2             978220179     False  \n",
       "3             978199279     False  \n",
       "4             978158471     False  \n",
       "...                 ...       ...  \n",
       "1000204       958846401     False  \n",
       "1000205       976029116     False  \n",
       "1000206       958153068     False  \n",
       "1000207       957756608     False  \n",
       "1000208       957273353     False  \n",
       "\n",
       "[1000209 rows x 5 columns]"
      ]
     },
     "execution_count": 26,
     "metadata": {},
     "output_type": "execute_result"
    }
   ],
   "source": [
    "mark_last_n_ratings_as_validation_set(ratings_df, 2)"
   ]
  },
  {
   "cell_type": "code",
   "execution_count": 27,
   "id": "0b6af516-349c-42aa-8e7e-a285334f5ce3",
   "metadata": {},
   "outputs": [
    {
     "data": {
      "text/html": [
       "<div>\n",
       "<style scoped>\n",
       "    .dataframe tbody tr th:only-of-type {\n",
       "        vertical-align: middle;\n",
       "    }\n",
       "\n",
       "    .dataframe tbody tr th {\n",
       "        vertical-align: top;\n",
       "    }\n",
       "\n",
       "    .dataframe thead th {\n",
       "        text-align: right;\n",
       "    }\n",
       "</style>\n",
       "<table border=\"1\" class=\"dataframe\">\n",
       "  <thead>\n",
       "    <tr style=\"text-align: right;\">\n",
       "      <th></th>\n",
       "      <th>user_id</th>\n",
       "      <th>title</th>\n",
       "      <th>rating</th>\n",
       "      <th>unix_timestamp</th>\n",
       "      <th>is_valid</th>\n",
       "    </tr>\n",
       "  </thead>\n",
       "  <tbody>\n",
       "    <tr>\n",
       "      <th>0</th>\n",
       "      <td>1</td>\n",
       "      <td>One Flew Over the Cuckoo's Nest (1975)</td>\n",
       "      <td>5</td>\n",
       "      <td>978300760</td>\n",
       "      <td>False</td>\n",
       "    </tr>\n",
       "    <tr>\n",
       "      <th>1</th>\n",
       "      <td>2</td>\n",
       "      <td>One Flew Over the Cuckoo's Nest (1975)</td>\n",
       "      <td>5</td>\n",
       "      <td>978298413</td>\n",
       "      <td>False</td>\n",
       "    </tr>\n",
       "    <tr>\n",
       "      <th>2</th>\n",
       "      <td>12</td>\n",
       "      <td>One Flew Over the Cuckoo's Nest (1975)</td>\n",
       "      <td>4</td>\n",
       "      <td>978220179</td>\n",
       "      <td>False</td>\n",
       "    </tr>\n",
       "  </tbody>\n",
       "</table>\n",
       "</div>"
      ],
      "text/plain": [
       "  user_id                                   title  rating  unix_timestamp  \\\n",
       "0       1  One Flew Over the Cuckoo's Nest (1975)       5       978300760   \n",
       "1       2  One Flew Over the Cuckoo's Nest (1975)       5       978298413   \n",
       "2      12  One Flew Over the Cuckoo's Nest (1975)       4       978220179   \n",
       "\n",
       "   is_valid  \n",
       "0     False  \n",
       "1     False  \n",
       "2     False  "
      ]
     },
     "execution_count": 27,
     "metadata": {},
     "output_type": "execute_result"
    }
   ],
   "source": [
    "ratings_df.head(3)"
   ]
  },
  {
   "cell_type": "code",
   "execution_count": 28,
   "id": "b4a5fab0",
   "metadata": {},
   "outputs": [],
   "source": [
    "train_df = ratings_df[ratings_df.is_valid==False]\n",
    "valid_df = ratings_df[ratings_df.is_valid==True]"
   ]
  },
  {
   "cell_type": "code",
   "execution_count": 29,
   "id": "9e3e3988",
   "metadata": {},
   "outputs": [
    {
     "data": {
      "text/plain": [
       "12080"
      ]
     },
     "execution_count": 29,
     "metadata": {},
     "output_type": "execute_result"
    }
   ],
   "source": [
    "len(valid_df)"
   ]
  },
  {
   "cell_type": "code",
   "execution_count": 30,
   "id": "5a5f7bc4",
   "metadata": {},
   "outputs": [
    {
     "data": {
      "text/plain": [
       "988129"
      ]
     },
     "execution_count": 30,
     "metadata": {},
     "output_type": "execute_result"
    }
   ],
   "source": [
    "len(train_df)"
   ]
  },
  {
   "cell_type": "markdown",
   "id": "210bd686",
   "metadata": {
    "tags": []
   },
   "source": [
    "## Creating a Baseline Model"
   ]
  },
  {
   "cell_type": "markdown",
   "id": "affa2f3a",
   "metadata": {},
   "source": [
    "Check accuracy with median score dumb model\n"
   ]
  },
  {
   "cell_type": "code",
   "execution_count": 31,
   "id": "7deb5ffe",
   "metadata": {},
   "outputs": [
    {
     "data": {
      "text/plain": [
       "4.0"
      ]
     },
     "execution_count": 31,
     "metadata": {},
     "output_type": "execute_result"
    }
   ],
   "source": [
    "median_rating = train_df.rating.median(); median_rating\n",
    "import math\n",
    "from sklearn.metrics import mean_squared_error, mean_absolute_error\n",
    "\n",
    "predictions = np.array([median_rating]* len(valid_df))\n",
    "\n",
    "mae = mean_absolute_error(valid_df.rating, predictions)\n",
    "mse = mean_squared_error(valid_df.rating, predictions)\n",
    "rmse = math.sqrt(mse)\n",
    "\n",
    "print(f'mae: {mae}')\n",
    "print(f'mse: {mse}')\n",
    "print(f'rmse: {rmse}')"
   ]
  },
  {
   "cell_type": "markdown",
   "id": "238bcf42",
   "metadata": {
    "tags": []
   },
   "source": [
    "## Matrix factorization with bias"
   ]
  },
  {
   "cell_type": "markdown",
   "id": "b07a9942",
   "metadata": {},
   "source": [
    "One very popular approach toward recommendations, both in academia and industry, is matrix factorization.\n",
    "\n",
    "In addition to representing recommendations in a table, such as our DataFrame, an alternative view would be to represent a set of user-item ratings as a matrix. We can visualize this on a sample of our data as presented below:"
   ]
  },
  {
   "cell_type": "code",
   "execution_count": 33,
   "id": "2e20a758",
   "metadata": {},
   "outputs": [
    {
     "data": {
      "text/html": [
       "<div>\n",
       "<style scoped>\n",
       "    .dataframe tbody tr th:only-of-type {\n",
       "        vertical-align: middle;\n",
       "    }\n",
       "\n",
       "    .dataframe tbody tr th {\n",
       "        vertical-align: top;\n",
       "    }\n",
       "\n",
       "    .dataframe thead th {\n",
       "        text-align: right;\n",
       "    }\n",
       "</style>\n",
       "<table border=\"1\" class=\"dataframe\">\n",
       "  <thead>\n",
       "    <tr style=\"text-align: right;\">\n",
       "      <th>title</th>\n",
       "      <th>One Flew Over the Cuckoo's Nest (1975)</th>\n",
       "      <th>Saving Private Ryan (1998)</th>\n",
       "      <th>To Kill a Mockingbird (1962)</th>\n",
       "    </tr>\n",
       "    <tr>\n",
       "      <th>user_id</th>\n",
       "      <th></th>\n",
       "      <th></th>\n",
       "      <th></th>\n",
       "    </tr>\n",
       "  </thead>\n",
       "  <tbody>\n",
       "    <tr>\n",
       "      <th>1</th>\n",
       "      <td>5.0</td>\n",
       "      <td>5.0</td>\n",
       "      <td>4.0</td>\n",
       "    </tr>\n",
       "    <tr>\n",
       "      <th>2</th>\n",
       "      <td>5.0</td>\n",
       "      <td>4.0</td>\n",
       "      <td>4.0</td>\n",
       "    </tr>\n",
       "    <tr>\n",
       "      <th>4</th>\n",
       "      <td>?</td>\n",
       "      <td>5.0</td>\n",
       "      <td>?</td>\n",
       "    </tr>\n",
       "  </tbody>\n",
       "</table>\n",
       "</div>"
      ],
      "text/plain": [
       "title   One Flew Over the Cuckoo's Nest (1975)  Saving Private Ryan (1998)  \\\n",
       "user_id                                                                      \n",
       "1                                          5.0                         5.0   \n",
       "2                                          5.0                         4.0   \n",
       "4                                            ?                         5.0   \n",
       "\n",
       "title   To Kill a Mockingbird (1962)  \n",
       "user_id                               \n",
       "1                                4.0  \n",
       "2                                4.0  \n",
       "4                                  ?  "
      ]
     },
     "execution_count": 33,
     "metadata": {},
     "output_type": "execute_result"
    }
   ],
   "source": [
    "ratings_df[((ratings_df.user_id == '1') | \n",
    "            (ratings_df.user_id == '2')| \n",
    "            (ratings_df.user_id == '4')) \n",
    "           & ((ratings_df.title == \"One Flew Over the Cuckoo's Nest (1975)\") | \n",
    "              (ratings_df.title == \"To Kill a Mockingbird (1962)\")| \n",
    "              (ratings_df.title == \"Saving Private Ryan (1998)\"))].pivot_table('rating', index='user_id', columns='title').fillna('?')"
   ]
  },
  {
   "cell_type": "code",
   "execution_count": 34,
   "id": "27f558e9",
   "metadata": {},
   "outputs": [],
   "source": [
    "user_lookup = {v: i+1 for i, v in enumerate(ratings_df['user_id'].unique())}\n",
    "# summaryrise user_loopu"
   ]
  },
  {
   "cell_type": "code",
   "execution_count": 35,
   "id": "8306449f-5327-412f-bd60-b29c789936e9",
   "metadata": {},
   "outputs": [
    {
     "data": {
      "text/plain": [
       "3093"
      ]
     },
     "execution_count": 35,
     "metadata": {},
     "output_type": "execute_result"
    }
   ],
   "source": [
    "user_lookup.get('1000')"
   ]
  },
  {
   "cell_type": "code",
   "execution_count": 36,
   "id": "5f8fc84e-419c-4ee4-9e6a-0c8702430ff3",
   "metadata": {},
   "outputs": [
    {
     "data": {
      "text/plain": [
       "3629"
      ]
     },
     "execution_count": 36,
     "metadata": {},
     "output_type": "execute_result"
    }
   ],
   "source": [
    "user_lookup.get('100')"
   ]
  },
  {
   "cell_type": "code",
   "execution_count": 37,
   "id": "44f086b0-47c9-4bc7-b4a9-c6046c40efa8",
   "metadata": {},
   "outputs": [
    {
     "data": {
      "text/plain": [
       "array(['1', '2', '12', ..., '2982', '3893', '4211'], dtype=object)"
      ]
     },
     "execution_count": 37,
     "metadata": {},
     "output_type": "execute_result"
    }
   ],
   "source": [
    "ratings_df['user_id'].unique()"
   ]
  },
  {
   "cell_type": "code",
   "execution_count": 38,
   "id": "2859ab43-f6de-4610-8601-3d22c6a74f11",
   "metadata": {},
   "outputs": [
    {
     "data": {
      "text/plain": [
       "array(['1', '2', '12', ..., '2982', '3893', '4211'], dtype=object)"
      ]
     },
     "execution_count": 38,
     "metadata": {},
     "output_type": "execute_result"
    }
   ],
   "source": [
    "ratings_df['user_id'].unique()"
   ]
  },
  {
   "cell_type": "code",
   "execution_count": 39,
   "id": "9d02a5d5",
   "metadata": {},
   "outputs": [],
   "source": [
    "movie_lookup = {v: i+1 for i, v in enumerate(ratings_df['title'].unique())}"
   ]
  },
  {
   "cell_type": "code",
   "execution_count": 40,
   "id": "db507373-ca4d-4de5-a6cd-0b4f4db6ced7",
   "metadata": {},
   "outputs": [
    {
     "data": {
      "text/plain": [
       "[\"One Flew Over the Cuckoo's Nest (1975)\",\n",
       " 'James and the Giant Peach (1996)',\n",
       " 'My Fair Lady (1964)',\n",
       " 'Erin Brockovich (2000)',\n",
       " \"Bug's Life, A (1998)\"]"
      ]
     },
     "execution_count": 40,
     "metadata": {},
     "output_type": "execute_result"
    }
   ],
   "source": [
    "list(movie_lookup.keys())[:5]"
   ]
  },
  {
   "cell_type": "code",
   "execution_count": 41,
   "id": "dd52675f-2d0f-437a-b316-93fae23127e7",
   "metadata": {},
   "outputs": [
    {
     "data": {
      "text/plain": [
       "5"
      ]
     },
     "execution_count": 41,
     "metadata": {},
     "output_type": "execute_result"
    }
   ],
   "source": [
    "movie_lookup.get(\"Bug's Life, A (1998)\")"
   ]
  },
  {
   "cell_type": "markdown",
   "id": "ddfab130",
   "metadata": {},
   "source": [
    "Now that we can encode our features, as we are using PyTorch, we need to define a Dataset to wrap our DataFrame and return the user-item ratings."
   ]
  },
  {
   "cell_type": "code",
   "execution_count": 42,
   "id": "10fec863",
   "metadata": {},
   "outputs": [],
   "source": [
    "from torch.utils.data import Dataset\n",
    "class UserItemRatingDataset(Dataset):\n",
    "    def __init__(self, df, movie_lookup, user_lookup):\n",
    "        self.df = df\n",
    "        self.movie_lookup = movie_lookup\n",
    "        self.user_lookup = user_lookup\n",
    "\n",
    "    def __getitem__(self, index):\n",
    "        row = self.df.iloc[index]\n",
    "        user_id = self.user_lookup[row.user_id]\n",
    "        movie_id = self.movie_lookup[row.title]\n",
    "        \n",
    "        rating = torch.tensor(row.rating, dtype=torch.float32)\n",
    "        \n",
    "        return (user_id, movie_id), rating\n",
    "\n",
    "    def __len__(self):\n",
    "        return len(self.df)"
   ]
  },
  {
   "cell_type": "code",
   "execution_count": 43,
   "id": "1e69ccbb-8e39-4b7e-ab19-92e4ba3d2fa6",
   "metadata": {},
   "outputs": [
    {
     "data": {
      "text/html": [
       "<div>\n",
       "<style scoped>\n",
       "    .dataframe tbody tr th:only-of-type {\n",
       "        vertical-align: middle;\n",
       "    }\n",
       "\n",
       "    .dataframe tbody tr th {\n",
       "        vertical-align: top;\n",
       "    }\n",
       "\n",
       "    .dataframe thead th {\n",
       "        text-align: right;\n",
       "    }\n",
       "</style>\n",
       "<table border=\"1\" class=\"dataframe\">\n",
       "  <thead>\n",
       "    <tr style=\"text-align: right;\">\n",
       "      <th></th>\n",
       "      <th>user_id</th>\n",
       "      <th>title</th>\n",
       "      <th>rating</th>\n",
       "      <th>unix_timestamp</th>\n",
       "      <th>is_valid</th>\n",
       "    </tr>\n",
       "  </thead>\n",
       "  <tbody>\n",
       "    <tr>\n",
       "      <th>0</th>\n",
       "      <td>1</td>\n",
       "      <td>One Flew Over the Cuckoo's Nest (1975)</td>\n",
       "      <td>5</td>\n",
       "      <td>978300760</td>\n",
       "      <td>False</td>\n",
       "    </tr>\n",
       "    <tr>\n",
       "      <th>1</th>\n",
       "      <td>2</td>\n",
       "      <td>One Flew Over the Cuckoo's Nest (1975)</td>\n",
       "      <td>5</td>\n",
       "      <td>978298413</td>\n",
       "      <td>False</td>\n",
       "    </tr>\n",
       "  </tbody>\n",
       "</table>\n",
       "</div>"
      ],
      "text/plain": [
       "  user_id                                   title  rating  unix_timestamp  \\\n",
       "0       1  One Flew Over the Cuckoo's Nest (1975)       5       978300760   \n",
       "1       2  One Flew Over the Cuckoo's Nest (1975)       5       978298413   \n",
       "\n",
       "   is_valid  \n",
       "0     False  \n",
       "1     False  "
      ]
     },
     "execution_count": 43,
     "metadata": {},
     "output_type": "execute_result"
    }
   ],
   "source": [
    "train_df.head(2)"
   ]
  },
  {
   "cell_type": "markdown",
   "id": "2b529038",
   "metadata": {},
   "source": [
    "We can now use this to create our training and validation datasets:"
   ]
  },
  {
   "cell_type": "code",
   "execution_count": 44,
   "id": "9e8601ac",
   "metadata": {},
   "outputs": [],
   "source": [
    "train_dataset = UserItemRatingDataset(train_df, movie_lookup, user_lookup)\n",
    "valid_dataset = UserItemRatingDataset(valid_df, movie_lookup, user_lookup)"
   ]
  },
  {
   "cell_type": "code",
   "execution_count": 45,
   "id": "12b982a1-81e6-4b85-bd9a-86ade562115b",
   "metadata": {},
   "outputs": [
    {
     "data": {
      "text/plain": [
       "988129"
      ]
     },
     "execution_count": 45,
     "metadata": {},
     "output_type": "execute_result"
    }
   ],
   "source": [
    "len(train_dataset)"
   ]
  },
  {
   "cell_type": "code",
   "execution_count": 46,
   "id": "69d662a3-4d67-45cb-a937-f8f24c181381",
   "metadata": {},
   "outputs": [
    {
     "data": {
      "text/plain": [
       "12080"
      ]
     },
     "execution_count": 46,
     "metadata": {},
     "output_type": "execute_result"
    }
   ],
   "source": [
    "len(valid_dataset)"
   ]
  },
  {
   "cell_type": "code",
   "execution_count": 47,
   "id": "5117fdf1-58a6-4e92-90a6-04404db0c9ac",
   "metadata": {},
   "outputs": [
    {
     "data": {
      "text/plain": [
       "((1, 1), tensor(5.))"
      ]
     },
     "execution_count": 47,
     "metadata": {},
     "output_type": "execute_result"
    }
   ],
   "source": [
    "train_dataset[0]"
   ]
  },
  {
   "cell_type": "markdown",
   "id": "20e65dc0",
   "metadata": {},
   "source": [
    "Next, let's define the model."
   ]
  },
  {
   "cell_type": "code",
   "execution_count": 48,
   "id": "6e8e2767",
   "metadata": {},
   "outputs": [],
   "source": [
    "class MfDotBias(nn.Module):\n",
    "\n",
    "    def __init__(\n",
    "        self, n_factors, n_users, n_items, ratings_range=None, use_biases=True\n",
    "    ):\n",
    "        super().__init__()\n",
    "        self.bias = use_biases\n",
    "        self.y_range = ratings_range\n",
    "        self.user_embedding = nn.Embedding(n_users+1, n_factors, padding_idx=0)\n",
    "        self.item_embedding = nn.Embedding(n_items+1, n_factors, padding_idx=0)\n",
    "\n",
    "        if use_biases:\n",
    "            self.user_bias = nn.Embedding(n_users+1, 1, padding_idx=0)\n",
    "            self.item_bias = nn.Embedding(n_items+1, 1, padding_idx=0)\n",
    "\n",
    "    def forward(self, inputs):\n",
    "        users, items = inputs\n",
    "        dot = self.user_embedding(users) * self.item_embedding(items)\n",
    "        result = dot.sum(1)\n",
    "        if self.bias:\n",
    "            result = (\n",
    "                result + self.user_bias(users).squeeze() + self.item_bias(items).squeeze()\n",
    "            )\n",
    "\n",
    "        if self.y_range is None:\n",
    "            return result\n",
    "        else:\n",
    "            return (\n",
    "                torch.sigmoid(result) * (self.y_range[1] - self.y_range[0]) \n",
    "                # \"(sigmoid has formula below)\n",
    "                + self.y_range[0]\n",
    "            )\n",
    "        \n"
   ]
  },
  {
   "cell_type": "markdown",
   "id": "945bb0a8",
   "metadata": {},
   "source": [
    "$$ out_i = \\frac{1}{1 + e^{-input_i}} $$\n",
    "Sigmoid funtion"
   ]
  },
  {
   "cell_type": "markdown",
   "id": "c24f94d9",
   "metadata": {
    "tags": []
   },
   "source": [
    "### Train"
   ]
  },
  {
   "cell_type": "code",
   "execution_count": 49,
   "id": "3c67fc57",
   "metadata": {},
   "outputs": [],
   "source": [
    "from functools import partial\n",
    "\n",
    "from pytorch_accelerated import Trainer, notebook_launcher \n",
    "from pytorch_accelerated.trainer import TrainerPlaceholderValues, DEFAULT_CALLBACKS\n",
    "from pytorch_accelerated.callbacks import EarlyStoppingCallback, SaveBestModelCallback, TrainerCallback, StopTrainingError\n",
    "import torchmetrics"
   ]
  },
  {
   "cell_type": "code",
   "execution_count": 50,
   "id": "98c712e5-a2d8-4534-9f25-f94216098bb3",
   "metadata": {},
   "outputs": [
    {
     "data": {
      "text/plain": [
       "pytorch_accelerated.trainer.Trainer"
      ]
     },
     "execution_count": 50,
     "metadata": {},
     "output_type": "execute_result"
    }
   ],
   "source": [
    "Trainer"
   ]
  },
  {
   "cell_type": "code",
   "execution_count": 51,
   "id": "54052cd3",
   "metadata": {},
   "outputs": [],
   "source": [
    "class RecommenderMetricsCallback(TrainerCallback):\n",
    "    def __init__(self):\n",
    "        self.metrics = torchmetrics.MetricCollection(\n",
    "            {\n",
    "                \"mse\": torchmetrics.MeanSquaredError(),\n",
    "                \"mae\": torchmetrics.MeanAbsoluteError(),\n",
    "            }\n",
    "        )\n",
    "\n",
    "    def _move_to_device(self, trainer):\n",
    "        self.metrics.to(trainer.device)\n",
    "\n",
    "    def on_training_run_start(self, trainer, **kwargs):\n",
    "        self._move_to_device(trainer)\n",
    "\n",
    "    def on_evaluation_run_start(self, trainer, **kwargs):\n",
    "        self._move_to_device(trainer)\n",
    "\n",
    "    def on_eval_step_end(self, trainer, batch, batch_output, **kwargs):\n",
    "        preds = batch_output[\"model_outputs\"]\n",
    "        self.metrics.update(preds, batch[1])\n",
    "\n",
    "    def on_eval_epoch_end(self, trainer, **kwargs):\n",
    "        metrics = self.metrics.compute()\n",
    "        \n",
    "        mse = metrics[\"mse\"].cpu()\n",
    "        trainer.run_history.update_metric(\"mae\", metrics[\"mae\"].cpu())\n",
    "        trainer.run_history.update_metric(\"mse\", mse)\n",
    "        trainer.run_history.update_metric(\"rmse\",  math.sqrt(mse))\n",
    "\n",
    "        self.metrics.reset()"
   ]
  },
  {
   "cell_type": "code",
   "execution_count": 53,
   "id": "54c52973",
   "metadata": {},
   "outputs": [],
   "source": [
    "def train_mf_model():\n",
    "    model = MfDotBias(\n",
    "        120, len(user_lookup), len(movie_lookup), ratings_range=[0.5, 5.5]\n",
    "    )\n",
    "    loss_func = torch.nn.MSELoss()\n",
    "\n",
    "    optimizer = torch.optim.AdamW(model.parameters(), lr=0.01)\n",
    "\n",
    "    create_sched_fn = partial(\n",
    "        torch.optim.lr_scheduler.OneCycleLR,\n",
    "        max_lr=0.01,\n",
    "        epochs=TrainerPlaceholderValues.NUM_EPOCHS,\n",
    "        steps_per_epoch=TrainerPlaceholderValues.NUM_UPDATE_STEPS_PER_EPOCH,\n",
    "    )\n",
    "\n",
    "    trainer = Trainer(\n",
    "        model=model,\n",
    "        loss_func=loss_func,\n",
    "        optimizer=optimizer,\n",
    "        callbacks=(\n",
    "            RecommenderMetricsCallback,\n",
    "            *DEFAULT_CALLBACKS,\n",
    "            SaveBestModelCallback(watch_metric=\"mae\"),\n",
    "            EarlyStoppingCallback(\n",
    "                early_stopping_patience=1,\n",
    "                early_stopping_threshold=0.001,\n",
    "                watch_metric=\"mae\",\n",
    "            ),\n",
    "        ),\n",
    "    )\n",
    "\n",
    "    trainer.train(\n",
    "        train_dataset=train_dataset,\n",
    "        eval_dataset=valid_dataset,\n",
    "        num_epochs=20,\n",
    "        per_device_batch_size=512,\n",
    "        create_scheduler_fn=create_sched_fn,\n",
    "    )\n"
   ]
  },
  {
   "cell_type": "code",
   "execution_count": 54,
   "id": "1a01b59a",
   "metadata": {
    "scrolled": true
   },
   "outputs": [
    {
     "name": "stdout",
     "output_type": "stream",
     "text": [
      "Launching training on one GPU.\n",
      "\n",
      "Starting training run\n",
      "\n",
      "Starting epoch 1\n"
     ]
    },
    {
     "name": "stderr",
     "output_type": "stream",
     "text": [
      "100%|██████████| 1930/1930 [00:48<00:00, 40.16it/s]\n"
     ]
    },
    {
     "name": "stdout",
     "output_type": "stream",
     "text": [
      "\n",
      "train_loss_epoch: 6.900541305541992\n"
     ]
    },
    {
     "name": "stderr",
     "output_type": "stream",
     "text": [
      "100%|██████████| 24/24 [00:01<00:00, 17.49it/s]\n"
     ]
    },
    {
     "name": "stdout",
     "output_type": "stream",
     "text": [
      "\n",
      "mae: 2.2829654216766357\n",
      "\n",
      "rmse: 2.636351609277347\n",
      "\n",
      "mse: 6.950349807739258\n",
      "\n",
      "eval_loss_epoch: 6.950349807739258\n",
      "\n",
      "Starting epoch 2\n"
     ]
    },
    {
     "name": "stderr",
     "output_type": "stream",
     "text": [
      "100%|██████████| 1930/1930 [00:44<00:00, 43.16it/s]\n"
     ]
    },
    {
     "name": "stdout",
     "output_type": "stream",
     "text": [
      "\n",
      "train_loss_epoch: 6.414422512054443\n"
     ]
    },
    {
     "name": "stderr",
     "output_type": "stream",
     "text": [
      "100%|██████████| 24/24 [00:01<00:00, 21.96it/s]\n"
     ]
    },
    {
     "name": "stdout",
     "output_type": "stream",
     "text": [
      "\n",
      "mae: 2.224461793899536\n",
      "\n",
      "rmse: 2.583437907245549\n",
      "\n",
      "mse: 6.674151420593262\n",
      "\n",
      "eval_loss_epoch: 6.6741509437561035\n",
      "\n",
      "Improvement of 0.05850362777709961 observed, resetting counter. \n",
      "Early stopping counter: 0/1\n",
      "\n",
      "Starting epoch 3\n"
     ]
    },
    {
     "name": "stderr",
     "output_type": "stream",
     "text": [
      "100%|██████████| 1930/1930 [00:47<00:00, 40.25it/s]\n"
     ]
    },
    {
     "name": "stdout",
     "output_type": "stream",
     "text": [
      "\n",
      "train_loss_epoch: 5.7183427810668945\n"
     ]
    },
    {
     "name": "stderr",
     "output_type": "stream",
     "text": [
      "100%|██████████| 24/24 [00:01<00:00, 18.63it/s]\n"
     ]
    },
    {
     "name": "stdout",
     "output_type": "stream",
     "text": [
      "\n",
      "mae: 2.1058084964752197\n",
      "\n",
      "rmse: 2.470480686472798\n",
      "\n",
      "mse: 6.103274822235107\n",
      "\n",
      "eval_loss_epoch: 6.103274822235107\n",
      "\n",
      "Improvement of 0.1186532974243164 observed, resetting counter. \n",
      "Early stopping counter: 0/1\n",
      "\n",
      "Starting epoch 4\n"
     ]
    },
    {
     "name": "stderr",
     "output_type": "stream",
     "text": [
      "100%|██████████| 1930/1930 [00:48<00:00, 39.40it/s]\n"
     ]
    },
    {
     "name": "stdout",
     "output_type": "stream",
     "text": [
      "\n",
      "train_loss_epoch: 4.713072776794434\n"
     ]
    },
    {
     "name": "stderr",
     "output_type": "stream",
     "text": [
      "100%|██████████| 24/24 [00:01<00:00, 20.93it/s]\n"
     ]
    },
    {
     "name": "stdout",
     "output_type": "stream",
     "text": [
      "\n",
      "mae: 1.835720181465149\n",
      "\n",
      "rmse: 2.2003604506934935\n",
      "\n",
      "mse: 4.841586112976074\n",
      "\n",
      "eval_loss_epoch: 4.841585636138916\n",
      "\n",
      "Improvement of 0.2700883150100708 observed, resetting counter. \n",
      "Early stopping counter: 0/1\n",
      "\n",
      "Starting epoch 5\n"
     ]
    },
    {
     "name": "stderr",
     "output_type": "stream",
     "text": [
      "100%|██████████| 1930/1930 [00:41<00:00, 46.36it/s]\n"
     ]
    },
    {
     "name": "stdout",
     "output_type": "stream",
     "text": [
      "\n",
      "train_loss_epoch: 3.4956231117248535\n"
     ]
    },
    {
     "name": "stderr",
     "output_type": "stream",
     "text": [
      "100%|██████████| 24/24 [00:01<00:00, 15.06it/s]\n"
     ]
    },
    {
     "name": "stdout",
     "output_type": "stream",
     "text": [
      "\n",
      "mae: 1.6005858182907104\n",
      "\n",
      "rmse: 1.9537655199719464\n",
      "\n",
      "mse: 3.81719970703125\n",
      "\n",
      "eval_loss_epoch: 3.81719970703125\n",
      "\n",
      "Improvement of 0.23513436317443848 observed, resetting counter. \n",
      "Early stopping counter: 0/1\n",
      "\n",
      "Starting epoch 6\n"
     ]
    },
    {
     "name": "stderr",
     "output_type": "stream",
     "text": [
      "100%|██████████| 1930/1930 [00:49<00:00, 38.68it/s]\n"
     ]
    },
    {
     "name": "stdout",
     "output_type": "stream",
     "text": [
      "\n",
      "train_loss_epoch: 2.4345502853393555\n"
     ]
    },
    {
     "name": "stderr",
     "output_type": "stream",
     "text": [
      "100%|██████████| 24/24 [00:01<00:00, 19.83it/s]\n"
     ]
    },
    {
     "name": "stdout",
     "output_type": "stream",
     "text": [
      "\n",
      "mae: 1.3266347646713257\n",
      "\n",
      "rmse: 1.6710259964642606\n",
      "\n",
      "mse: 2.792327880859375\n",
      "\n",
      "eval_loss_epoch: 2.792328119277954\n",
      "\n",
      "Improvement of 0.27395105361938477 observed, resetting counter. \n",
      "Early stopping counter: 0/1\n",
      "\n",
      "Starting epoch 7\n"
     ]
    },
    {
     "name": "stderr",
     "output_type": "stream",
     "text": [
      "100%|██████████| 1930/1930 [00:47<00:00, 40.64it/s]\n"
     ]
    },
    {
     "name": "stdout",
     "output_type": "stream",
     "text": [
      "\n",
      "train_loss_epoch: 1.4527050256729126\n"
     ]
    },
    {
     "name": "stderr",
     "output_type": "stream",
     "text": [
      "100%|██████████| 24/24 [00:01<00:00, 19.99it/s]\n"
     ]
    },
    {
     "name": "stdout",
     "output_type": "stream",
     "text": [
      "\n",
      "mae: 1.086105465888977\n",
      "\n",
      "rmse: 1.4066936640762648\n",
      "\n",
      "mse: 1.9787870645523071\n",
      "\n",
      "eval_loss_epoch: 1.9787873029708862\n",
      "\n",
      "Improvement of 0.24052929878234863 observed, resetting counter. \n",
      "Early stopping counter: 0/1\n",
      "\n",
      "Starting epoch 8\n"
     ]
    },
    {
     "name": "stderr",
     "output_type": "stream",
     "text": [
      "100%|██████████| 1930/1930 [00:49<00:00, 38.65it/s]\n"
     ]
    },
    {
     "name": "stdout",
     "output_type": "stream",
     "text": [
      "\n",
      "train_loss_epoch: 1.013391137123108\n"
     ]
    },
    {
     "name": "stderr",
     "output_type": "stream",
     "text": [
      "100%|██████████| 24/24 [00:01<00:00, 19.34it/s]\n"
     ]
    },
    {
     "name": "stdout",
     "output_type": "stream",
     "text": [
      "\n",
      "mae: 0.9966462254524231\n",
      "\n",
      "rmse: 1.3007130647951188\n",
      "\n",
      "mse: 1.691854476928711\n",
      "\n",
      "eval_loss_epoch: 1.6918545961380005\n",
      "\n",
      "Improvement of 0.08945924043655396 observed, resetting counter. \n",
      "Early stopping counter: 0/1\n",
      "\n",
      "Starting epoch 9\n"
     ]
    },
    {
     "name": "stderr",
     "output_type": "stream",
     "text": [
      "100%|██████████| 1930/1930 [00:50<00:00, 38.23it/s]\n"
     ]
    },
    {
     "name": "stdout",
     "output_type": "stream",
     "text": [
      "\n",
      "train_loss_epoch: 0.8693548440933228\n"
     ]
    },
    {
     "name": "stderr",
     "output_type": "stream",
     "text": [
      "100%|██████████| 24/24 [00:01<00:00, 17.82it/s]\n"
     ]
    },
    {
     "name": "stdout",
     "output_type": "stream",
     "text": [
      "\n",
      "mae: 0.9598191976547241\n",
      "\n",
      "rmse: 1.2529181273975913\n",
      "\n",
      "mse: 1.5698038339614868\n",
      "\n",
      "eval_loss_epoch: 1.5698038339614868\n",
      "\n",
      "Improvement of 0.036827027797698975 observed, resetting counter. \n",
      "Early stopping counter: 0/1\n",
      "\n",
      "Starting epoch 10\n"
     ]
    },
    {
     "name": "stderr",
     "output_type": "stream",
     "text": [
      "100%|██████████| 1930/1930 [00:49<00:00, 38.88it/s]\n"
     ]
    },
    {
     "name": "stdout",
     "output_type": "stream",
     "text": [
      "\n",
      "train_loss_epoch: 0.7818276286125183\n"
     ]
    },
    {
     "name": "stderr",
     "output_type": "stream",
     "text": [
      "100%|██████████| 24/24 [00:01<00:00, 16.68it/s]\n"
     ]
    },
    {
     "name": "stdout",
     "output_type": "stream",
     "text": [
      "\n",
      "mae: 0.9281371235847473\n",
      "\n",
      "rmse: 1.204053842259479\n",
      "\n",
      "mse: 1.4497456550598145\n",
      "\n",
      "eval_loss_epoch: 1.449745535850525\n",
      "\n",
      "Improvement of 0.03168207406997681 observed, resetting counter. \n",
      "Early stopping counter: 0/1\n",
      "\n",
      "Starting epoch 11\n"
     ]
    },
    {
     "name": "stderr",
     "output_type": "stream",
     "text": [
      "100%|██████████| 1930/1930 [00:50<00:00, 38.25it/s]\n"
     ]
    },
    {
     "name": "stdout",
     "output_type": "stream",
     "text": [
      "\n",
      "train_loss_epoch: 0.6833054423332214\n"
     ]
    },
    {
     "name": "stderr",
     "output_type": "stream",
     "text": [
      "100%|██████████| 24/24 [00:01<00:00, 17.29it/s]\n"
     ]
    },
    {
     "name": "stdout",
     "output_type": "stream",
     "text": [
      "\n",
      "mae: 0.9005589485168457\n",
      "\n",
      "rmse: 1.1742487453708195\n",
      "\n",
      "mse: 1.3788601160049438\n",
      "\n",
      "eval_loss_epoch: 1.3788601160049438\n",
      "\n",
      "Improvement of 0.02757817506790161 observed, resetting counter. \n",
      "Early stopping counter: 0/1\n",
      "\n",
      "Starting epoch 12\n"
     ]
    },
    {
     "name": "stderr",
     "output_type": "stream",
     "text": [
      "100%|██████████| 1930/1930 [00:55<00:00, 34.93it/s]\n"
     ]
    },
    {
     "name": "stdout",
     "output_type": "stream",
     "text": [
      "\n",
      "train_loss_epoch: 0.5848037004470825\n"
     ]
    },
    {
     "name": "stderr",
     "output_type": "stream",
     "text": [
      "100%|██████████| 24/24 [00:01<00:00, 17.37it/s]\n"
     ]
    },
    {
     "name": "stdout",
     "output_type": "stream",
     "text": [
      "\n",
      "mae: 0.8754093647003174\n",
      "\n",
      "rmse: 1.1397823199529993\n",
      "\n",
      "mse: 1.2991037368774414\n",
      "\n",
      "eval_loss_epoch: 1.2991037368774414\n",
      "\n",
      "Improvement of 0.02514958381652832 observed, resetting counter. \n",
      "Early stopping counter: 0/1\n",
      "\n",
      "Starting epoch 13\n"
     ]
    },
    {
     "name": "stderr",
     "output_type": "stream",
     "text": [
      "100%|██████████| 1930/1930 [00:49<00:00, 39.15it/s]\n"
     ]
    },
    {
     "name": "stdout",
     "output_type": "stream",
     "text": [
      "\n",
      "train_loss_epoch: 0.4860416650772095\n"
     ]
    },
    {
     "name": "stderr",
     "output_type": "stream",
     "text": [
      "100%|██████████| 24/24 [00:01<00:00, 16.67it/s]\n"
     ]
    },
    {
     "name": "stdout",
     "output_type": "stream",
     "text": [
      "\n",
      "mae: 0.8570231795310974\n",
      "\n",
      "rmse: 1.1097128447697562\n",
      "\n",
      "mse: 1.2314625978469849\n",
      "\n",
      "eval_loss_epoch: 1.2314624786376953\n",
      "\n",
      "Improvement of 0.01838618516921997 observed, resetting counter. \n",
      "Early stopping counter: 0/1\n",
      "\n",
      "Starting epoch 14\n"
     ]
    },
    {
     "name": "stderr",
     "output_type": "stream",
     "text": [
      "100%|██████████| 1930/1930 [00:49<00:00, 39.22it/s]\n"
     ]
    },
    {
     "name": "stdout",
     "output_type": "stream",
     "text": [
      "\n",
      "train_loss_epoch: 0.3910124599933624\n"
     ]
    },
    {
     "name": "stderr",
     "output_type": "stream",
     "text": [
      "100%|██████████| 24/24 [00:01<00:00, 19.12it/s]\n"
     ]
    },
    {
     "name": "stdout",
     "output_type": "stream",
     "text": [
      "\n",
      "mae: 0.8421646356582642\n",
      "\n",
      "rmse: 1.0928716675054062\n",
      "\n",
      "mse: 1.1943684816360474\n",
      "\n",
      "eval_loss_epoch: 1.194368600845337\n",
      "\n",
      "Improvement of 0.014858543872833252 observed, resetting counter. \n",
      "Early stopping counter: 0/1\n",
      "\n",
      "Starting epoch 15\n"
     ]
    },
    {
     "name": "stderr",
     "output_type": "stream",
     "text": [
      "100%|██████████| 1930/1930 [00:49<00:00, 38.86it/s]\n"
     ]
    },
    {
     "name": "stdout",
     "output_type": "stream",
     "text": [
      "\n",
      "train_loss_epoch: 0.30612730979919434\n"
     ]
    },
    {
     "name": "stderr",
     "output_type": "stream",
     "text": [
      "100%|██████████| 24/24 [00:01<00:00, 16.07it/s]\n"
     ]
    },
    {
     "name": "stdout",
     "output_type": "stream",
     "text": [
      "\n",
      "mae: 0.8347188830375671\n",
      "\n",
      "rmse: 1.0777848854409553\n",
      "\n",
      "mse: 1.1616202592849731\n",
      "\n",
      "eval_loss_epoch: 1.1616202592849731\n",
      "\n",
      "Improvement of 0.0074457526206970215 observed, resetting counter. \n",
      "Early stopping counter: 0/1\n",
      "\n",
      "Starting epoch 16\n"
     ]
    },
    {
     "name": "stderr",
     "output_type": "stream",
     "text": [
      "100%|██████████| 1930/1930 [00:51<00:00, 37.29it/s]\n"
     ]
    },
    {
     "name": "stdout",
     "output_type": "stream",
     "text": [
      "\n",
      "train_loss_epoch: 0.23469701409339905\n"
     ]
    },
    {
     "name": "stderr",
     "output_type": "stream",
     "text": [
      "100%|██████████| 24/24 [00:01<00:00, 17.87it/s]\n"
     ]
    },
    {
     "name": "stdout",
     "output_type": "stream",
     "text": [
      "\n",
      "mae: 0.8328484892845154\n",
      "\n",
      "rmse: 1.0766420531535035\n",
      "\n",
      "mse: 1.1591581106185913\n",
      "\n",
      "eval_loss_epoch: 1.1591581106185913\n",
      "\n",
      "Improvement of 0.0018703937530517578 observed, resetting counter. \n",
      "Early stopping counter: 0/1\n",
      "\n",
      "Starting epoch 17\n"
     ]
    },
    {
     "name": "stderr",
     "output_type": "stream",
     "text": [
      "100%|██████████| 1930/1930 [00:50<00:00, 38.46it/s]\n"
     ]
    },
    {
     "name": "stdout",
     "output_type": "stream",
     "text": [
      "\n",
      "train_loss_epoch: 0.17985893785953522\n"
     ]
    },
    {
     "name": "stderr",
     "output_type": "stream",
     "text": [
      "100%|██████████| 24/24 [00:01<00:00, 19.54it/s]"
     ]
    },
    {
     "name": "stdout",
     "output_type": "stream",
     "text": [
      "\n",
      "mae: 0.8370133638381958\n",
      "\n",
      "rmse: 1.0813726080027004\n",
      "\n",
      "mse: 1.169366717338562\n",
      "\n",
      "eval_loss_epoch: 1.169366717338562\n",
      "No improvement above threshold observed, incrementing counter. \n",
      "Early stopping counter: 1/1\n",
      "Stopping training due to no improvement after 1 epochs\n",
      "Finishing training run\n",
      "Loading checkpoint with mae: 0.8328484892845154 from epoch 16\n"
     ]
    },
    {
     "name": "stderr",
     "output_type": "stream",
     "text": [
      "\n"
     ]
    }
   ],
   "source": [
    "notebook_launcher(train_mf_model, num_processes=1)"
   ]
  },
  {
   "cell_type": "markdown",
   "id": "9d29e69c",
   "metadata": {},
   "source": [
    "Comparing this to our baseline, we can see that there is an improvement!"
   ]
  },
  {
   "cell_type": "markdown",
   "id": "2e50d297",
   "metadata": {
    "tags": []
   },
   "source": [
    "## Sequential recommendations using a transformer"
   ]
  },
  {
   "cell_type": "markdown",
   "id": "4839ea24",
   "metadata": {},
   "source": [
    "Using matrix factorization, we are treating each rating as being independent from the ratings around it; however, incorporating information about other movies that a user recently rated could provide an additional signal that could boost performance. For example, suppose that a user is watching a trilogy of films; if they have rated the first two instalments highly, it is likely that they may do the same for the finale!\n",
    "\n",
    "One way that we can approach this is to use a transformer network, specifically the encoder portion, to encode additional context into the learned embeddings for each movie, and then using a fully connected neural network to make the rating predictions."
   ]
  },
  {
   "cell_type": "markdown",
   "id": "c0211d12",
   "metadata": {},
   "source": [
    "### Pre-processing the data"
   ]
  },
  {
   "cell_type": "markdown",
   "id": "3ebf94f9",
   "metadata": {},
   "source": [
    "The first step is to process our data so that we have a time-sorted list of movies for each user. Let's start by grouping all the ratings by user:"
   ]
  },
  {
   "cell_type": "code",
   "execution_count": 90,
   "id": "7c619579",
   "metadata": {},
   "outputs": [],
   "source": [
    "grouped_ratings = ratings_df.sort_values(by='unix_timestamp').groupby('user_id').agg(tuple).reset_index()"
   ]
  },
  {
   "cell_type": "code",
   "execution_count": 92,
   "id": "9ee2cf30",
   "metadata": {},
   "outputs": [
    {
     "data": {
      "text/html": [
       "<div>\n",
       "<style scoped>\n",
       "    .dataframe tbody tr th:only-of-type {\n",
       "        vertical-align: middle;\n",
       "    }\n",
       "\n",
       "    .dataframe tbody tr th {\n",
       "        vertical-align: top;\n",
       "    }\n",
       "\n",
       "    .dataframe thead th {\n",
       "        text-align: right;\n",
       "    }\n",
       "</style>\n",
       "<table border=\"1\" class=\"dataframe\">\n",
       "  <thead>\n",
       "    <tr style=\"text-align: right;\">\n",
       "      <th></th>\n",
       "      <th>user_id</th>\n",
       "      <th>title</th>\n",
       "      <th>rating</th>\n",
       "      <th>unix_timestamp</th>\n",
       "      <th>is_valid</th>\n",
       "    </tr>\n",
       "  </thead>\n",
       "  <tbody>\n",
       "    <tr>\n",
       "      <th>0</th>\n",
       "      <td>1</td>\n",
       "      <td>(Girl, Interrupted (1999), Cinderella (1950), ...</td>\n",
       "      <td>(4, 5, 4, 5, 3, 5, 4, 4, 5, 4, 5, 3, 4, 4, 4, ...</td>\n",
       "      <td>(978300019, 978300055, 978300055, 978300055, 9...</td>\n",
       "      <td>(False, False, False, False, False, False, Fal...</td>\n",
       "    </tr>\n",
       "    <tr>\n",
       "      <th>1</th>\n",
       "      <td>10</td>\n",
       "      <td>(Godfather, The (1972), Pretty Woman (1990), S...</td>\n",
       "      <td>(3, 4, 3, 4, 4, 3, 5, 5, 5, 3, 3, 4, 5, 4, 4, ...</td>\n",
       "      <td>(978224375, 978224375, 978224375, 978224400, 9...</td>\n",
       "      <td>(False, False, False, False, False, False, Fal...</td>\n",
       "    </tr>\n",
       "    <tr>\n",
       "      <th>2</th>\n",
       "      <td>100</td>\n",
       "      <td>(Starship Troopers (1997), Star Wars: Episode ...</td>\n",
       "      <td>(3, 4, 4, 3, 4, 3, 1, 1, 5, 4, 4, 3, 4, 2, 3, ...</td>\n",
       "      <td>(977593595, 977593595, 977593607, 977593624, 9...</td>\n",
       "      <td>(False, False, False, False, False, False, Fal...</td>\n",
       "    </tr>\n",
       "    <tr>\n",
       "      <th>3</th>\n",
       "      <td>1000</td>\n",
       "      <td>(Cat on a Hot Tin Roof (1958), Licence to Kill...</td>\n",
       "      <td>(4, 4, 5, 3, 5, 5, 2, 5, 4, 4, 5, 3, 5, 5, 5, ...</td>\n",
       "      <td>(975040566, 975040566, 975040566, 975040629, 9...</td>\n",
       "      <td>(False, False, False, False, False, False, Fal...</td>\n",
       "    </tr>\n",
       "    <tr>\n",
       "      <th>4</th>\n",
       "      <td>1001</td>\n",
       "      <td>(Raiders of the Lost Ark (1981), Guinevere (19...</td>\n",
       "      <td>(4, 4, 4, 2, 2, 1, 5, 4, 5, 4, 4, 4, 4, 3, 4, ...</td>\n",
       "      <td>(975039591, 975039702, 975039702, 975039898, 9...</td>\n",
       "      <td>(False, False, False, False, False, False, Fal...</td>\n",
       "    </tr>\n",
       "    <tr>\n",
       "      <th>...</th>\n",
       "      <td>...</td>\n",
       "      <td>...</td>\n",
       "      <td>...</td>\n",
       "      <td>...</td>\n",
       "      <td>...</td>\n",
       "    </tr>\n",
       "    <tr>\n",
       "      <th>6035</th>\n",
       "      <td>995</td>\n",
       "      <td>(Six Days Seven Nights (1998), Star Wars: Epis...</td>\n",
       "      <td>(2, 4, 5, 4, 3, 3, 4, 4, 3, 5, 5, 5, 5, 5, 5, ...</td>\n",
       "      <td>(975054785, 975054785, 975054785, 975054853, 9...</td>\n",
       "      <td>(False, False, False, False, False, False, Fal...</td>\n",
       "    </tr>\n",
       "    <tr>\n",
       "      <th>6036</th>\n",
       "      <td>996</td>\n",
       "      <td>(Nightmare on Elm Street, A (1984), St. Elmo's...</td>\n",
       "      <td>(4, 3, 5, 3, 5, 5, 5, 5, 4, 2, 5, 5, 5, 4, 5, ...</td>\n",
       "      <td>(975052132, 975052132, 975052195, 975052284, 9...</td>\n",
       "      <td>(False, False, False, False, False, False, Fal...</td>\n",
       "    </tr>\n",
       "    <tr>\n",
       "      <th>6037</th>\n",
       "      <td>997</td>\n",
       "      <td>(Star Wars: Episode V - The Empire Strikes Bac...</td>\n",
       "      <td>(4, 3, 3, 3, 2, 5, 5, 5, 4, 4, 5, 4, 4, 3, 4, ...</td>\n",
       "      <td>(975044235, 975044425, 975044426, 975044426, 9...</td>\n",
       "      <td>(False, False, False, False, False, False, Fal...</td>\n",
       "    </tr>\n",
       "    <tr>\n",
       "      <th>6038</th>\n",
       "      <td>998</td>\n",
       "      <td>(Butcher's Wife, The (1991), E.T. the Extra-Te...</td>\n",
       "      <td>(3, 5, 4, 5, 3, 4, 4, 3, 4, 4, 4, 4, 4, 5, 4, ...</td>\n",
       "      <td>(975043499, 975043593, 975043593, 975043593, 9...</td>\n",
       "      <td>(False, False, False, False, False, False, Fal...</td>\n",
       "    </tr>\n",
       "    <tr>\n",
       "      <th>6039</th>\n",
       "      <td>999</td>\n",
       "      <td>(Star Wars: Episode V - The Empire Strikes Bac...</td>\n",
       "      <td>(5, 3, 1, 2, 4, 4, 5, 5, 4, 5, 5, 4, 4, 5, 4, ...</td>\n",
       "      <td>(975042787, 975042921, 975043058, 975043058, 9...</td>\n",
       "      <td>(False, False, False, False, False, False, Fal...</td>\n",
       "    </tr>\n",
       "  </tbody>\n",
       "</table>\n",
       "<p>6040 rows × 5 columns</p>\n",
       "</div>"
      ],
      "text/plain": [
       "     user_id                                              title  \\\n",
       "0          1  (Girl, Interrupted (1999), Cinderella (1950), ...   \n",
       "1         10  (Godfather, The (1972), Pretty Woman (1990), S...   \n",
       "2        100  (Starship Troopers (1997), Star Wars: Episode ...   \n",
       "3       1000  (Cat on a Hot Tin Roof (1958), Licence to Kill...   \n",
       "4       1001  (Raiders of the Lost Ark (1981), Guinevere (19...   \n",
       "...      ...                                                ...   \n",
       "6035     995  (Six Days Seven Nights (1998), Star Wars: Epis...   \n",
       "6036     996  (Nightmare on Elm Street, A (1984), St. Elmo's...   \n",
       "6037     997  (Star Wars: Episode V - The Empire Strikes Bac...   \n",
       "6038     998  (Butcher's Wife, The (1991), E.T. the Extra-Te...   \n",
       "6039     999  (Star Wars: Episode V - The Empire Strikes Bac...   \n",
       "\n",
       "                                                 rating  \\\n",
       "0     (4, 5, 4, 5, 3, 5, 4, 4, 5, 4, 5, 3, 4, 4, 4, ...   \n",
       "1     (3, 4, 3, 4, 4, 3, 5, 5, 5, 3, 3, 4, 5, 4, 4, ...   \n",
       "2     (3, 4, 4, 3, 4, 3, 1, 1, 5, 4, 4, 3, 4, 2, 3, ...   \n",
       "3     (4, 4, 5, 3, 5, 5, 2, 5, 4, 4, 5, 3, 5, 5, 5, ...   \n",
       "4     (4, 4, 4, 2, 2, 1, 5, 4, 5, 4, 4, 4, 4, 3, 4, ...   \n",
       "...                                                 ...   \n",
       "6035  (2, 4, 5, 4, 3, 3, 4, 4, 3, 5, 5, 5, 5, 5, 5, ...   \n",
       "6036  (4, 3, 5, 3, 5, 5, 5, 5, 4, 2, 5, 5, 5, 4, 5, ...   \n",
       "6037  (4, 3, 3, 3, 2, 5, 5, 5, 4, 4, 5, 4, 4, 3, 4, ...   \n",
       "6038  (3, 5, 4, 5, 3, 4, 4, 3, 4, 4, 4, 4, 4, 5, 4, ...   \n",
       "6039  (5, 3, 1, 2, 4, 4, 5, 5, 4, 5, 5, 4, 4, 5, 4, ...   \n",
       "\n",
       "                                         unix_timestamp  \\\n",
       "0     (978300019, 978300055, 978300055, 978300055, 9...   \n",
       "1     (978224375, 978224375, 978224375, 978224400, 9...   \n",
       "2     (977593595, 977593595, 977593607, 977593624, 9...   \n",
       "3     (975040566, 975040566, 975040566, 975040629, 9...   \n",
       "4     (975039591, 975039702, 975039702, 975039898, 9...   \n",
       "...                                                 ...   \n",
       "6035  (975054785, 975054785, 975054785, 975054853, 9...   \n",
       "6036  (975052132, 975052132, 975052195, 975052284, 9...   \n",
       "6037  (975044235, 975044425, 975044426, 975044426, 9...   \n",
       "6038  (975043499, 975043593, 975043593, 975043593, 9...   \n",
       "6039  (975042787, 975042921, 975043058, 975043058, 9...   \n",
       "\n",
       "                                               is_valid  \n",
       "0     (False, False, False, False, False, False, Fal...  \n",
       "1     (False, False, False, False, False, False, Fal...  \n",
       "2     (False, False, False, False, False, False, Fal...  \n",
       "3     (False, False, False, False, False, False, Fal...  \n",
       "4     (False, False, False, False, False, False, Fal...  \n",
       "...                                                 ...  \n",
       "6035  (False, False, False, False, False, False, Fal...  \n",
       "6036  (False, False, False, False, False, False, Fal...  \n",
       "6037  (False, False, False, False, False, False, Fal...  \n",
       "6038  (False, False, False, False, False, False, Fal...  \n",
       "6039  (False, False, False, False, False, False, Fal...  \n",
       "\n",
       "[6040 rows x 5 columns]"
      ]
     },
     "execution_count": 92,
     "metadata": {},
     "output_type": "execute_result"
    }
   ],
   "source": [
    "grouped_ratings"
   ]
  },
  {
   "cell_type": "markdown",
   "id": "44a62e3f",
   "metadata": {},
   "source": [
    "Now that we have grouped by user, we can create an additional column so that we can see the number of events associated with each user"
   ]
  },
  {
   "cell_type": "code",
   "execution_count": 94,
   "id": "a8ad55ba",
   "metadata": {},
   "outputs": [],
   "source": [
    "grouped_ratings['num_ratings'] = grouped_ratings['rating'].apply(lambda row: len(row))"
   ]
  },
  {
   "cell_type": "markdown",
   "id": "10f281e7",
   "metadata": {},
   "source": [
    "Let's take a look at the new dataframe"
   ]
  },
  {
   "cell_type": "code",
   "execution_count": 95,
   "id": "5876a928",
   "metadata": {},
   "outputs": [
    {
     "data": {
      "text/html": [
       "<div>\n",
       "<style scoped>\n",
       "    .dataframe tbody tr th:only-of-type {\n",
       "        vertical-align: middle;\n",
       "    }\n",
       "\n",
       "    .dataframe tbody tr th {\n",
       "        vertical-align: top;\n",
       "    }\n",
       "\n",
       "    .dataframe thead th {\n",
       "        text-align: right;\n",
       "    }\n",
       "</style>\n",
       "<table border=\"1\" class=\"dataframe\">\n",
       "  <thead>\n",
       "    <tr style=\"text-align: right;\">\n",
       "      <th></th>\n",
       "      <th>user_id</th>\n",
       "      <th>title</th>\n",
       "      <th>rating</th>\n",
       "      <th>unix_timestamp</th>\n",
       "      <th>is_valid</th>\n",
       "      <th>num_ratings</th>\n",
       "    </tr>\n",
       "  </thead>\n",
       "  <tbody>\n",
       "    <tr>\n",
       "      <th>0</th>\n",
       "      <td>1</td>\n",
       "      <td>(Girl, Interrupted (1999), Cinderella (1950), ...</td>\n",
       "      <td>(4, 5, 4, 5, 3, 5, 4, 4, 5, 4, 5, 3, 4, 4, 4, ...</td>\n",
       "      <td>(978300019, 978300055, 978300055, 978300055, 9...</td>\n",
       "      <td>(False, False, False, False, False, False, Fal...</td>\n",
       "      <td>53</td>\n",
       "    </tr>\n",
       "    <tr>\n",
       "      <th>1</th>\n",
       "      <td>10</td>\n",
       "      <td>(Godfather, The (1972), Pretty Woman (1990), S...</td>\n",
       "      <td>(3, 4, 3, 4, 4, 3, 5, 5, 5, 3, 3, 4, 5, 4, 4, ...</td>\n",
       "      <td>(978224375, 978224375, 978224375, 978224400, 9...</td>\n",
       "      <td>(False, False, False, False, False, False, Fal...</td>\n",
       "      <td>401</td>\n",
       "    </tr>\n",
       "    <tr>\n",
       "      <th>2</th>\n",
       "      <td>100</td>\n",
       "      <td>(Starship Troopers (1997), Star Wars: Episode ...</td>\n",
       "      <td>(3, 4, 4, 3, 4, 3, 1, 1, 5, 4, 4, 3, 4, 2, 3, ...</td>\n",
       "      <td>(977593595, 977593595, 977593607, 977593624, 9...</td>\n",
       "      <td>(False, False, False, False, False, False, Fal...</td>\n",
       "      <td>76</td>\n",
       "    </tr>\n",
       "    <tr>\n",
       "      <th>3</th>\n",
       "      <td>1000</td>\n",
       "      <td>(Cat on a Hot Tin Roof (1958), Licence to Kill...</td>\n",
       "      <td>(4, 4, 5, 3, 5, 5, 2, 5, 4, 4, 5, 3, 5, 5, 5, ...</td>\n",
       "      <td>(975040566, 975040566, 975040566, 975040629, 9...</td>\n",
       "      <td>(False, False, False, False, False, False, Fal...</td>\n",
       "      <td>84</td>\n",
       "    </tr>\n",
       "    <tr>\n",
       "      <th>4</th>\n",
       "      <td>1001</td>\n",
       "      <td>(Raiders of the Lost Ark (1981), Guinevere (19...</td>\n",
       "      <td>(4, 4, 4, 2, 2, 1, 5, 4, 5, 4, 4, 4, 4, 3, 4, ...</td>\n",
       "      <td>(975039591, 975039702, 975039702, 975039898, 9...</td>\n",
       "      <td>(False, False, False, False, False, False, Fal...</td>\n",
       "      <td>377</td>\n",
       "    </tr>\n",
       "    <tr>\n",
       "      <th>...</th>\n",
       "      <td>...</td>\n",
       "      <td>...</td>\n",
       "      <td>...</td>\n",
       "      <td>...</td>\n",
       "      <td>...</td>\n",
       "      <td>...</td>\n",
       "    </tr>\n",
       "    <tr>\n",
       "      <th>6035</th>\n",
       "      <td>995</td>\n",
       "      <td>(Six Days Seven Nights (1998), Star Wars: Epis...</td>\n",
       "      <td>(2, 4, 5, 4, 3, 3, 4, 4, 3, 5, 5, 5, 5, 5, 5, ...</td>\n",
       "      <td>(975054785, 975054785, 975054785, 975054853, 9...</td>\n",
       "      <td>(False, False, False, False, False, False, Fal...</td>\n",
       "      <td>49</td>\n",
       "    </tr>\n",
       "    <tr>\n",
       "      <th>6036</th>\n",
       "      <td>996</td>\n",
       "      <td>(Nightmare on Elm Street, A (1984), St. Elmo's...</td>\n",
       "      <td>(4, 3, 5, 3, 5, 5, 5, 5, 4, 2, 5, 5, 5, 4, 5, ...</td>\n",
       "      <td>(975052132, 975052132, 975052195, 975052284, 9...</td>\n",
       "      <td>(False, False, False, False, False, False, Fal...</td>\n",
       "      <td>296</td>\n",
       "    </tr>\n",
       "    <tr>\n",
       "      <th>6037</th>\n",
       "      <td>997</td>\n",
       "      <td>(Star Wars: Episode V - The Empire Strikes Bac...</td>\n",
       "      <td>(4, 3, 3, 3, 2, 5, 5, 5, 4, 4, 5, 4, 4, 3, 4, ...</td>\n",
       "      <td>(975044235, 975044425, 975044426, 975044426, 9...</td>\n",
       "      <td>(False, False, False, False, False, False, Fal...</td>\n",
       "      <td>30</td>\n",
       "    </tr>\n",
       "    <tr>\n",
       "      <th>6038</th>\n",
       "      <td>998</td>\n",
       "      <td>(Butcher's Wife, The (1991), E.T. the Extra-Te...</td>\n",
       "      <td>(3, 5, 4, 5, 3, 4, 4, 3, 4, 4, 4, 4, 4, 5, 4, ...</td>\n",
       "      <td>(975043499, 975043593, 975043593, 975043593, 9...</td>\n",
       "      <td>(False, False, False, False, False, False, Fal...</td>\n",
       "      <td>135</td>\n",
       "    </tr>\n",
       "    <tr>\n",
       "      <th>6039</th>\n",
       "      <td>999</td>\n",
       "      <td>(Star Wars: Episode V - The Empire Strikes Bac...</td>\n",
       "      <td>(5, 3, 1, 2, 4, 4, 5, 5, 4, 5, 5, 4, 4, 5, 4, ...</td>\n",
       "      <td>(975042787, 975042921, 975043058, 975043058, 9...</td>\n",
       "      <td>(False, False, False, False, False, False, Fal...</td>\n",
       "      <td>412</td>\n",
       "    </tr>\n",
       "  </tbody>\n",
       "</table>\n",
       "<p>6040 rows × 6 columns</p>\n",
       "</div>"
      ],
      "text/plain": [
       "     user_id                                              title  \\\n",
       "0          1  (Girl, Interrupted (1999), Cinderella (1950), ...   \n",
       "1         10  (Godfather, The (1972), Pretty Woman (1990), S...   \n",
       "2        100  (Starship Troopers (1997), Star Wars: Episode ...   \n",
       "3       1000  (Cat on a Hot Tin Roof (1958), Licence to Kill...   \n",
       "4       1001  (Raiders of the Lost Ark (1981), Guinevere (19...   \n",
       "...      ...                                                ...   \n",
       "6035     995  (Six Days Seven Nights (1998), Star Wars: Epis...   \n",
       "6036     996  (Nightmare on Elm Street, A (1984), St. Elmo's...   \n",
       "6037     997  (Star Wars: Episode V - The Empire Strikes Bac...   \n",
       "6038     998  (Butcher's Wife, The (1991), E.T. the Extra-Te...   \n",
       "6039     999  (Star Wars: Episode V - The Empire Strikes Bac...   \n",
       "\n",
       "                                                 rating  \\\n",
       "0     (4, 5, 4, 5, 3, 5, 4, 4, 5, 4, 5, 3, 4, 4, 4, ...   \n",
       "1     (3, 4, 3, 4, 4, 3, 5, 5, 5, 3, 3, 4, 5, 4, 4, ...   \n",
       "2     (3, 4, 4, 3, 4, 3, 1, 1, 5, 4, 4, 3, 4, 2, 3, ...   \n",
       "3     (4, 4, 5, 3, 5, 5, 2, 5, 4, 4, 5, 3, 5, 5, 5, ...   \n",
       "4     (4, 4, 4, 2, 2, 1, 5, 4, 5, 4, 4, 4, 4, 3, 4, ...   \n",
       "...                                                 ...   \n",
       "6035  (2, 4, 5, 4, 3, 3, 4, 4, 3, 5, 5, 5, 5, 5, 5, ...   \n",
       "6036  (4, 3, 5, 3, 5, 5, 5, 5, 4, 2, 5, 5, 5, 4, 5, ...   \n",
       "6037  (4, 3, 3, 3, 2, 5, 5, 5, 4, 4, 5, 4, 4, 3, 4, ...   \n",
       "6038  (3, 5, 4, 5, 3, 4, 4, 3, 4, 4, 4, 4, 4, 5, 4, ...   \n",
       "6039  (5, 3, 1, 2, 4, 4, 5, 5, 4, 5, 5, 4, 4, 5, 4, ...   \n",
       "\n",
       "                                         unix_timestamp  \\\n",
       "0     (978300019, 978300055, 978300055, 978300055, 9...   \n",
       "1     (978224375, 978224375, 978224375, 978224400, 9...   \n",
       "2     (977593595, 977593595, 977593607, 977593624, 9...   \n",
       "3     (975040566, 975040566, 975040566, 975040629, 9...   \n",
       "4     (975039591, 975039702, 975039702, 975039898, 9...   \n",
       "...                                                 ...   \n",
       "6035  (975054785, 975054785, 975054785, 975054853, 9...   \n",
       "6036  (975052132, 975052132, 975052195, 975052284, 9...   \n",
       "6037  (975044235, 975044425, 975044426, 975044426, 9...   \n",
       "6038  (975043499, 975043593, 975043593, 975043593, 9...   \n",
       "6039  (975042787, 975042921, 975043058, 975043058, 9...   \n",
       "\n",
       "                                               is_valid  num_ratings  \n",
       "0     (False, False, False, False, False, False, Fal...           53  \n",
       "1     (False, False, False, False, False, False, Fal...          401  \n",
       "2     (False, False, False, False, False, False, Fal...           76  \n",
       "3     (False, False, False, False, False, False, Fal...           84  \n",
       "4     (False, False, False, False, False, False, Fal...          377  \n",
       "...                                                 ...          ...  \n",
       "6035  (False, False, False, False, False, False, Fal...           49  \n",
       "6036  (False, False, False, False, False, False, Fal...          296  \n",
       "6037  (False, False, False, False, False, False, Fal...           30  \n",
       "6038  (False, False, False, False, False, False, Fal...          135  \n",
       "6039  (False, False, False, False, False, False, Fal...          412  \n",
       "\n",
       "[6040 rows x 6 columns]"
      ]
     },
     "execution_count": 95,
     "metadata": {},
     "output_type": "execute_result"
    }
   ],
   "source": [
    "grouped_ratings"
   ]
  },
  {
   "cell_type": "markdown",
   "id": "e0e25eb5",
   "metadata": {},
   "source": [
    "Now that we have grouped all the ratings for each user, let's divide these into smaller sequences. To make the most out of the data, we would like the model to have the opportunity to predict a rating for every movie in the training set. To do this, let's specify a sequence length s and use the previous s-1 ratings as our user history.\n",
    "\n",
    "As the model expects each sequence to be a fixed length, we will fill empty spaces with a padding token, so that sequences can be batched and passed to the model. Let's create a function to do this.\n",
    "\n",
    "We are going to arbitrarily choose a length of 10 here."
   ]
  },
  {
   "cell_type": "code",
   "execution_count": 96,
   "id": "bd275d12",
   "metadata": {},
   "outputs": [],
   "source": [
    "sequence_length = 10"
   ]
  },
  {
   "cell_type": "code",
   "execution_count": 97,
   "id": "9fdde749",
   "metadata": {},
   "outputs": [],
   "source": [
    "def create_sequences(values, sequence_length):\n",
    "    sequences = []\n",
    "    for i, v in enumerate(values):\n",
    "        seq = values[:i+1]\n",
    "        if len(seq) > sequence_length:\n",
    "            seq = seq[i-sequence_length+1:i+1]\n",
    "        elif len(seq) < sequence_length:\n",
    "            seq =(*(['[PAD]'] * (sequence_length - len(seq))), *seq)\n",
    "       \n",
    "        sequences.append(seq)\n",
    "    return sequences\n",
    "        "
   ]
  },
  {
   "cell_type": "markdown",
   "id": "26f74910",
   "metadata": {},
   "source": [
    "To visualize how this function works, let's apply it, with a sequence length of 3, to the first 10 movies rated by the first user. These movies are:"
   ]
  },
  {
   "cell_type": "code",
   "execution_count": 98,
   "id": "e80a5ad4",
   "metadata": {},
   "outputs": [
    {
     "data": {
      "text/plain": [
       "('Girl, Interrupted (1999)',\n",
       " 'Cinderella (1950)',\n",
       " 'Titanic (1997)',\n",
       " 'Back to the Future (1985)',\n",
       " 'Meet Joe Black (1998)',\n",
       " 'Last Days of Disco, The (1998)',\n",
       " 'Erin Brockovich (2000)',\n",
       " 'To Kill a Mockingbird (1962)',\n",
       " 'Christmas Story, A (1983)',\n",
       " 'Star Wars: Episode IV - A New Hope (1977)')"
      ]
     },
     "execution_count": 98,
     "metadata": {},
     "output_type": "execute_result"
    }
   ],
   "source": [
    "grouped_ratings.iloc[0]['title'][:10]"
   ]
  },
  {
   "cell_type": "markdown",
   "id": "8babe410",
   "metadata": {},
   "source": [
    "Applying our function, we have:"
   ]
  },
  {
   "cell_type": "code",
   "execution_count": 99,
   "id": "74c6ea6c",
   "metadata": {},
   "outputs": [
    {
     "data": {
      "text/plain": [
       "[('[PAD]', '[PAD]', 'Girl, Interrupted (1999)'),\n",
       " ('[PAD]', 'Girl, Interrupted (1999)', 'Cinderella (1950)'),\n",
       " ('Girl, Interrupted (1999)', 'Cinderella (1950)', 'Titanic (1997)'),\n",
       " ('Cinderella (1950)', 'Titanic (1997)', 'Back to the Future (1985)'),\n",
       " ('Titanic (1997)', 'Back to the Future (1985)', 'Meet Joe Black (1998)'),\n",
       " ('Back to the Future (1985)',\n",
       "  'Meet Joe Black (1998)',\n",
       "  'Last Days of Disco, The (1998)'),\n",
       " ('Meet Joe Black (1998)',\n",
       "  'Last Days of Disco, The (1998)',\n",
       "  'Erin Brockovich (2000)'),\n",
       " ('Last Days of Disco, The (1998)',\n",
       "  'Erin Brockovich (2000)',\n",
       "  'To Kill a Mockingbird (1962)'),\n",
       " ('Erin Brockovich (2000)',\n",
       "  'To Kill a Mockingbird (1962)',\n",
       "  'Christmas Story, A (1983)'),\n",
       " ('To Kill a Mockingbird (1962)',\n",
       "  'Christmas Story, A (1983)',\n",
       "  'Star Wars: Episode IV - A New Hope (1977)')]"
      ]
     },
     "execution_count": 99,
     "metadata": {},
     "output_type": "execute_result"
    }
   ],
   "source": [
    "create_sequences(grouped_ratings.iloc[0]['title'][:10], 3)"
   ]
  },
  {
   "cell_type": "markdown",
   "id": "fcae3631",
   "metadata": {},
   "source": [
    "As we can see, we have 10 sequences of length 3, where the final movie in the sequence is unchanged from the original list."
   ]
  },
  {
   "cell_type": "markdown",
   "id": "c99453e3",
   "metadata": {},
   "source": [
    "Now, let's apply this function to all of the features in our dataframe"
   ]
  },
  {
   "cell_type": "code",
   "execution_count": 100,
   "id": "869db8c1",
   "metadata": {},
   "outputs": [],
   "source": [
    "grouped_cols = ['title', 'rating', 'unix_timestamp', 'is_valid'] \n",
    "for col in grouped_cols:\n",
    "    grouped_ratings[col] = grouped_ratings[col].apply(lambda x: create_sequences(x, sequence_length))"
   ]
  },
  {
   "cell_type": "code",
   "execution_count": 101,
   "id": "b5a5429b",
   "metadata": {},
   "outputs": [
    {
     "data": {
      "text/html": [
       "<div>\n",
       "<style scoped>\n",
       "    .dataframe tbody tr th:only-of-type {\n",
       "        vertical-align: middle;\n",
       "    }\n",
       "\n",
       "    .dataframe tbody tr th {\n",
       "        vertical-align: top;\n",
       "    }\n",
       "\n",
       "    .dataframe thead th {\n",
       "        text-align: right;\n",
       "    }\n",
       "</style>\n",
       "<table border=\"1\" class=\"dataframe\">\n",
       "  <thead>\n",
       "    <tr style=\"text-align: right;\">\n",
       "      <th></th>\n",
       "      <th>user_id</th>\n",
       "      <th>title</th>\n",
       "      <th>rating</th>\n",
       "      <th>unix_timestamp</th>\n",
       "      <th>is_valid</th>\n",
       "      <th>num_ratings</th>\n",
       "    </tr>\n",
       "  </thead>\n",
       "  <tbody>\n",
       "    <tr>\n",
       "      <th>0</th>\n",
       "      <td>1</td>\n",
       "      <td>[([PAD], [PAD], [PAD], [PAD], [PAD], [PAD], [P...</td>\n",
       "      <td>[([PAD], [PAD], [PAD], [PAD], [PAD], [PAD], [P...</td>\n",
       "      <td>[([PAD], [PAD], [PAD], [PAD], [PAD], [PAD], [P...</td>\n",
       "      <td>[([PAD], [PAD], [PAD], [PAD], [PAD], [PAD], [P...</td>\n",
       "      <td>53</td>\n",
       "    </tr>\n",
       "    <tr>\n",
       "      <th>1</th>\n",
       "      <td>10</td>\n",
       "      <td>[([PAD], [PAD], [PAD], [PAD], [PAD], [PAD], [P...</td>\n",
       "      <td>[([PAD], [PAD], [PAD], [PAD], [PAD], [PAD], [P...</td>\n",
       "      <td>[([PAD], [PAD], [PAD], [PAD], [PAD], [PAD], [P...</td>\n",
       "      <td>[([PAD], [PAD], [PAD], [PAD], [PAD], [PAD], [P...</td>\n",
       "      <td>401</td>\n",
       "    </tr>\n",
       "  </tbody>\n",
       "</table>\n",
       "</div>"
      ],
      "text/plain": [
       "  user_id                                              title  \\\n",
       "0       1  [([PAD], [PAD], [PAD], [PAD], [PAD], [PAD], [P...   \n",
       "1      10  [([PAD], [PAD], [PAD], [PAD], [PAD], [PAD], [P...   \n",
       "\n",
       "                                              rating  \\\n",
       "0  [([PAD], [PAD], [PAD], [PAD], [PAD], [PAD], [P...   \n",
       "1  [([PAD], [PAD], [PAD], [PAD], [PAD], [PAD], [P...   \n",
       "\n",
       "                                      unix_timestamp  \\\n",
       "0  [([PAD], [PAD], [PAD], [PAD], [PAD], [PAD], [P...   \n",
       "1  [([PAD], [PAD], [PAD], [PAD], [PAD], [PAD], [P...   \n",
       "\n",
       "                                            is_valid  num_ratings  \n",
       "0  [([PAD], [PAD], [PAD], [PAD], [PAD], [PAD], [P...           53  \n",
       "1  [([PAD], [PAD], [PAD], [PAD], [PAD], [PAD], [P...          401  "
      ]
     },
     "execution_count": 101,
     "metadata": {},
     "output_type": "execute_result"
    }
   ],
   "source": [
    "grouped_ratings.head(2)"
   ]
  },
  {
   "cell_type": "markdown",
   "id": "ae47e864",
   "metadata": {},
   "source": [
    "Currently, we have one row that contains all the sequences for a certain user. However, during training, we would like to create batches made up of sequences from many different users. To do this, we will have to transform the data so that each sequence has its own row, while remaining associated with the user ID. We can use the pandas 'explode' function for each feature, and then aggregate these DataFrames together."
   ]
  },
  {
   "cell_type": "code",
   "execution_count": 102,
   "id": "638214ac",
   "metadata": {},
   "outputs": [],
   "source": [
    "exploded_ratings = grouped_ratings[['user_id', 'title']].explode('title', ignore_index=True)\n",
    "dfs = [grouped_ratings[[col]].explode(col, ignore_index=True) for col in grouped_cols[1:]]\n",
    "seq_df = pd.concat([exploded_ratings, *dfs], axis=1)"
   ]
  },
  {
   "cell_type": "code",
   "execution_count": 103,
   "id": "29f19721",
   "metadata": {},
   "outputs": [
    {
     "data": {
      "text/html": [
       "<div>\n",
       "<style scoped>\n",
       "    .dataframe tbody tr th:only-of-type {\n",
       "        vertical-align: middle;\n",
       "    }\n",
       "\n",
       "    .dataframe tbody tr th {\n",
       "        vertical-align: top;\n",
       "    }\n",
       "\n",
       "    .dataframe thead th {\n",
       "        text-align: right;\n",
       "    }\n",
       "</style>\n",
       "<table border=\"1\" class=\"dataframe\">\n",
       "  <thead>\n",
       "    <tr style=\"text-align: right;\">\n",
       "      <th></th>\n",
       "      <th>user_id</th>\n",
       "      <th>title</th>\n",
       "      <th>rating</th>\n",
       "      <th>unix_timestamp</th>\n",
       "      <th>is_valid</th>\n",
       "    </tr>\n",
       "  </thead>\n",
       "  <tbody>\n",
       "    <tr>\n",
       "      <th>0</th>\n",
       "      <td>1</td>\n",
       "      <td>([PAD], [PAD], [PAD], [PAD], [PAD], [PAD], [PA...</td>\n",
       "      <td>([PAD], [PAD], [PAD], [PAD], [PAD], [PAD], [PA...</td>\n",
       "      <td>([PAD], [PAD], [PAD], [PAD], [PAD], [PAD], [PA...</td>\n",
       "      <td>([PAD], [PAD], [PAD], [PAD], [PAD], [PAD], [PA...</td>\n",
       "    </tr>\n",
       "    <tr>\n",
       "      <th>1</th>\n",
       "      <td>1</td>\n",
       "      <td>([PAD], [PAD], [PAD], [PAD], [PAD], [PAD], [PA...</td>\n",
       "      <td>([PAD], [PAD], [PAD], [PAD], [PAD], [PAD], [PA...</td>\n",
       "      <td>([PAD], [PAD], [PAD], [PAD], [PAD], [PAD], [PA...</td>\n",
       "      <td>([PAD], [PAD], [PAD], [PAD], [PAD], [PAD], [PA...</td>\n",
       "    </tr>\n",
       "    <tr>\n",
       "      <th>2</th>\n",
       "      <td>1</td>\n",
       "      <td>([PAD], [PAD], [PAD], [PAD], [PAD], [PAD], [PA...</td>\n",
       "      <td>([PAD], [PAD], [PAD], [PAD], [PAD], [PAD], [PA...</td>\n",
       "      <td>([PAD], [PAD], [PAD], [PAD], [PAD], [PAD], [PA...</td>\n",
       "      <td>([PAD], [PAD], [PAD], [PAD], [PAD], [PAD], [PA...</td>\n",
       "    </tr>\n",
       "    <tr>\n",
       "      <th>3</th>\n",
       "      <td>1</td>\n",
       "      <td>([PAD], [PAD], [PAD], [PAD], [PAD], [PAD], Gir...</td>\n",
       "      <td>([PAD], [PAD], [PAD], [PAD], [PAD], [PAD], 4, ...</td>\n",
       "      <td>([PAD], [PAD], [PAD], [PAD], [PAD], [PAD], 978...</td>\n",
       "      <td>([PAD], [PAD], [PAD], [PAD], [PAD], [PAD], Fal...</td>\n",
       "    </tr>\n",
       "    <tr>\n",
       "      <th>4</th>\n",
       "      <td>1</td>\n",
       "      <td>([PAD], [PAD], [PAD], [PAD], [PAD], Girl, Inte...</td>\n",
       "      <td>([PAD], [PAD], [PAD], [PAD], [PAD], 4, 5, 4, 5...</td>\n",
       "      <td>([PAD], [PAD], [PAD], [PAD], [PAD], 978300019,...</td>\n",
       "      <td>([PAD], [PAD], [PAD], [PAD], [PAD], False, Fal...</td>\n",
       "    </tr>\n",
       "  </tbody>\n",
       "</table>\n",
       "</div>"
      ],
      "text/plain": [
       "  user_id                                              title  \\\n",
       "0       1  ([PAD], [PAD], [PAD], [PAD], [PAD], [PAD], [PA...   \n",
       "1       1  ([PAD], [PAD], [PAD], [PAD], [PAD], [PAD], [PA...   \n",
       "2       1  ([PAD], [PAD], [PAD], [PAD], [PAD], [PAD], [PA...   \n",
       "3       1  ([PAD], [PAD], [PAD], [PAD], [PAD], [PAD], Gir...   \n",
       "4       1  ([PAD], [PAD], [PAD], [PAD], [PAD], Girl, Inte...   \n",
       "\n",
       "                                              rating  \\\n",
       "0  ([PAD], [PAD], [PAD], [PAD], [PAD], [PAD], [PA...   \n",
       "1  ([PAD], [PAD], [PAD], [PAD], [PAD], [PAD], [PA...   \n",
       "2  ([PAD], [PAD], [PAD], [PAD], [PAD], [PAD], [PA...   \n",
       "3  ([PAD], [PAD], [PAD], [PAD], [PAD], [PAD], 4, ...   \n",
       "4  ([PAD], [PAD], [PAD], [PAD], [PAD], 4, 5, 4, 5...   \n",
       "\n",
       "                                      unix_timestamp  \\\n",
       "0  ([PAD], [PAD], [PAD], [PAD], [PAD], [PAD], [PA...   \n",
       "1  ([PAD], [PAD], [PAD], [PAD], [PAD], [PAD], [PA...   \n",
       "2  ([PAD], [PAD], [PAD], [PAD], [PAD], [PAD], [PA...   \n",
       "3  ([PAD], [PAD], [PAD], [PAD], [PAD], [PAD], 978...   \n",
       "4  ([PAD], [PAD], [PAD], [PAD], [PAD], 978300019,...   \n",
       "\n",
       "                                            is_valid  \n",
       "0  ([PAD], [PAD], [PAD], [PAD], [PAD], [PAD], [PA...  \n",
       "1  ([PAD], [PAD], [PAD], [PAD], [PAD], [PAD], [PA...  \n",
       "2  ([PAD], [PAD], [PAD], [PAD], [PAD], [PAD], [PA...  \n",
       "3  ([PAD], [PAD], [PAD], [PAD], [PAD], [PAD], Fal...  \n",
       "4  ([PAD], [PAD], [PAD], [PAD], [PAD], False, Fal...  "
      ]
     },
     "execution_count": 103,
     "metadata": {},
     "output_type": "execute_result"
    }
   ],
   "source": [
    "seq_df.head()"
   ]
  },
  {
   "cell_type": "markdown",
   "id": "2dd2ac5e",
   "metadata": {},
   "source": [
    "Now, we can see that each sequence has its own row. However, for the is_valid column, we don't care about the whole sequence and only need the last value as this is the movie for which we will be trying to predict the rating. Let's create a function to extract this value and apply it to these columns."
   ]
  },
  {
   "cell_type": "code",
   "execution_count": 104,
   "id": "425c5529",
   "metadata": {},
   "outputs": [],
   "source": [
    "def get_last_entry(sequence):\n",
    "    return sequence[-1]\n",
    "\n",
    "seq_df['is_valid'] = seq_df['is_valid'].apply(get_last_entry)"
   ]
  },
  {
   "cell_type": "code",
   "execution_count": 105,
   "id": "f3a2e751",
   "metadata": {},
   "outputs": [
    {
     "data": {
      "text/html": [
       "<div>\n",
       "<style scoped>\n",
       "    .dataframe tbody tr th:only-of-type {\n",
       "        vertical-align: middle;\n",
       "    }\n",
       "\n",
       "    .dataframe tbody tr th {\n",
       "        vertical-align: top;\n",
       "    }\n",
       "\n",
       "    .dataframe thead th {\n",
       "        text-align: right;\n",
       "    }\n",
       "</style>\n",
       "<table border=\"1\" class=\"dataframe\">\n",
       "  <thead>\n",
       "    <tr style=\"text-align: right;\">\n",
       "      <th></th>\n",
       "      <th>user_id</th>\n",
       "      <th>title</th>\n",
       "      <th>rating</th>\n",
       "      <th>unix_timestamp</th>\n",
       "      <th>is_valid</th>\n",
       "    </tr>\n",
       "  </thead>\n",
       "  <tbody>\n",
       "    <tr>\n",
       "      <th>0</th>\n",
       "      <td>1</td>\n",
       "      <td>([PAD], [PAD], [PAD], [PAD], [PAD], [PAD], [PA...</td>\n",
       "      <td>([PAD], [PAD], [PAD], [PAD], [PAD], [PAD], [PA...</td>\n",
       "      <td>([PAD], [PAD], [PAD], [PAD], [PAD], [PAD], [PA...</td>\n",
       "      <td>False</td>\n",
       "    </tr>\n",
       "    <tr>\n",
       "      <th>1</th>\n",
       "      <td>1</td>\n",
       "      <td>([PAD], [PAD], [PAD], [PAD], [PAD], [PAD], [PA...</td>\n",
       "      <td>([PAD], [PAD], [PAD], [PAD], [PAD], [PAD], [PA...</td>\n",
       "      <td>([PAD], [PAD], [PAD], [PAD], [PAD], [PAD], [PA...</td>\n",
       "      <td>False</td>\n",
       "    </tr>\n",
       "    <tr>\n",
       "      <th>2</th>\n",
       "      <td>1</td>\n",
       "      <td>([PAD], [PAD], [PAD], [PAD], [PAD], [PAD], [PA...</td>\n",
       "      <td>([PAD], [PAD], [PAD], [PAD], [PAD], [PAD], [PA...</td>\n",
       "      <td>([PAD], [PAD], [PAD], [PAD], [PAD], [PAD], [PA...</td>\n",
       "      <td>False</td>\n",
       "    </tr>\n",
       "    <tr>\n",
       "      <th>3</th>\n",
       "      <td>1</td>\n",
       "      <td>([PAD], [PAD], [PAD], [PAD], [PAD], [PAD], Gir...</td>\n",
       "      <td>([PAD], [PAD], [PAD], [PAD], [PAD], [PAD], 4, ...</td>\n",
       "      <td>([PAD], [PAD], [PAD], [PAD], [PAD], [PAD], 978...</td>\n",
       "      <td>False</td>\n",
       "    </tr>\n",
       "    <tr>\n",
       "      <th>4</th>\n",
       "      <td>1</td>\n",
       "      <td>([PAD], [PAD], [PAD], [PAD], [PAD], Girl, Inte...</td>\n",
       "      <td>([PAD], [PAD], [PAD], [PAD], [PAD], 4, 5, 4, 5...</td>\n",
       "      <td>([PAD], [PAD], [PAD], [PAD], [PAD], 978300019,...</td>\n",
       "      <td>False</td>\n",
       "    </tr>\n",
       "    <tr>\n",
       "      <th>...</th>\n",
       "      <td>...</td>\n",
       "      <td>...</td>\n",
       "      <td>...</td>\n",
       "      <td>...</td>\n",
       "      <td>...</td>\n",
       "    </tr>\n",
       "    <tr>\n",
       "      <th>1000204</th>\n",
       "      <td>999</td>\n",
       "      <td>(General's Daughter, The (1999), Powder (1995)...</td>\n",
       "      <td>(3, 3, 2, 1, 3, 2, 3, 2, 4, 3)</td>\n",
       "      <td>(975364681, 975364717, 975364717, 975364717, 9...</td>\n",
       "      <td>False</td>\n",
       "    </tr>\n",
       "    <tr>\n",
       "      <th>1000205</th>\n",
       "      <td>999</td>\n",
       "      <td>(Powder (1995), We're No Angels (1989), Out of...</td>\n",
       "      <td>(3, 2, 1, 3, 2, 3, 2, 4, 3, 3)</td>\n",
       "      <td>(975364717, 975364717, 975364717, 975364743, 9...</td>\n",
       "      <td>False</td>\n",
       "    </tr>\n",
       "    <tr>\n",
       "      <th>1000206</th>\n",
       "      <td>999</td>\n",
       "      <td>(We're No Angels (1989), Out of Africa (1985),...</td>\n",
       "      <td>(2, 1, 3, 2, 3, 2, 4, 3, 3, 3)</td>\n",
       "      <td>(975364717, 975364717, 975364743, 975364743, 9...</td>\n",
       "      <td>False</td>\n",
       "    </tr>\n",
       "    <tr>\n",
       "      <th>1000207</th>\n",
       "      <td>999</td>\n",
       "      <td>(Out of Africa (1985), Instinct (1999), Corrup...</td>\n",
       "      <td>(1, 3, 2, 3, 2, 4, 3, 3, 3, 2)</td>\n",
       "      <td>(975364717, 975364743, 975364743, 975364784, 9...</td>\n",
       "      <td>False</td>\n",
       "    </tr>\n",
       "    <tr>\n",
       "      <th>1000208</th>\n",
       "      <td>999</td>\n",
       "      <td>(Instinct (1999), Corruptor, The (1999), Jack ...</td>\n",
       "      <td>(3, 2, 3, 2, 4, 3, 3, 3, 2, 2)</td>\n",
       "      <td>(975364743, 975364743, 975364784, 975364784, 9...</td>\n",
       "      <td>True</td>\n",
       "    </tr>\n",
       "  </tbody>\n",
       "</table>\n",
       "<p>1000209 rows × 5 columns</p>\n",
       "</div>"
      ],
      "text/plain": [
       "        user_id                                              title  \\\n",
       "0             1  ([PAD], [PAD], [PAD], [PAD], [PAD], [PAD], [PA...   \n",
       "1             1  ([PAD], [PAD], [PAD], [PAD], [PAD], [PAD], [PA...   \n",
       "2             1  ([PAD], [PAD], [PAD], [PAD], [PAD], [PAD], [PA...   \n",
       "3             1  ([PAD], [PAD], [PAD], [PAD], [PAD], [PAD], Gir...   \n",
       "4             1  ([PAD], [PAD], [PAD], [PAD], [PAD], Girl, Inte...   \n",
       "...         ...                                                ...   \n",
       "1000204     999  (General's Daughter, The (1999), Powder (1995)...   \n",
       "1000205     999  (Powder (1995), We're No Angels (1989), Out of...   \n",
       "1000206     999  (We're No Angels (1989), Out of Africa (1985),...   \n",
       "1000207     999  (Out of Africa (1985), Instinct (1999), Corrup...   \n",
       "1000208     999  (Instinct (1999), Corruptor, The (1999), Jack ...   \n",
       "\n",
       "                                                    rating  \\\n",
       "0        ([PAD], [PAD], [PAD], [PAD], [PAD], [PAD], [PA...   \n",
       "1        ([PAD], [PAD], [PAD], [PAD], [PAD], [PAD], [PA...   \n",
       "2        ([PAD], [PAD], [PAD], [PAD], [PAD], [PAD], [PA...   \n",
       "3        ([PAD], [PAD], [PAD], [PAD], [PAD], [PAD], 4, ...   \n",
       "4        ([PAD], [PAD], [PAD], [PAD], [PAD], 4, 5, 4, 5...   \n",
       "...                                                    ...   \n",
       "1000204                     (3, 3, 2, 1, 3, 2, 3, 2, 4, 3)   \n",
       "1000205                     (3, 2, 1, 3, 2, 3, 2, 4, 3, 3)   \n",
       "1000206                     (2, 1, 3, 2, 3, 2, 4, 3, 3, 3)   \n",
       "1000207                     (1, 3, 2, 3, 2, 4, 3, 3, 3, 2)   \n",
       "1000208                     (3, 2, 3, 2, 4, 3, 3, 3, 2, 2)   \n",
       "\n",
       "                                            unix_timestamp  is_valid  \n",
       "0        ([PAD], [PAD], [PAD], [PAD], [PAD], [PAD], [PA...     False  \n",
       "1        ([PAD], [PAD], [PAD], [PAD], [PAD], [PAD], [PA...     False  \n",
       "2        ([PAD], [PAD], [PAD], [PAD], [PAD], [PAD], [PA...     False  \n",
       "3        ([PAD], [PAD], [PAD], [PAD], [PAD], [PAD], 978...     False  \n",
       "4        ([PAD], [PAD], [PAD], [PAD], [PAD], 978300019,...     False  \n",
       "...                                                    ...       ...  \n",
       "1000204  (975364681, 975364717, 975364717, 975364717, 9...     False  \n",
       "1000205  (975364717, 975364717, 975364717, 975364743, 9...     False  \n",
       "1000206  (975364717, 975364717, 975364743, 975364743, 9...     False  \n",
       "1000207  (975364717, 975364743, 975364743, 975364784, 9...     False  \n",
       "1000208  (975364743, 975364743, 975364784, 975364784, 9...      True  \n",
       "\n",
       "[1000209 rows x 5 columns]"
      ]
     },
     "execution_count": 105,
     "metadata": {},
     "output_type": "execute_result"
    }
   ],
   "source": [
    "seq_df"
   ]
  },
  {
   "cell_type": "markdown",
   "id": "146a0823",
   "metadata": {},
   "source": [
    "Also, to make it easy to access the rating that we are trying to predict, let's separate this into its own column."
   ]
  },
  {
   "cell_type": "code",
   "execution_count": 106,
   "id": "bd708dc4",
   "metadata": {},
   "outputs": [],
   "source": [
    "seq_df['target_rating'] = seq_df['rating'].apply(get_last_entry)\n",
    "seq_df['previous_ratings'] = seq_df['rating'].apply(lambda seq: seq[:-1])\n",
    "seq_df.drop(columns=['rating'], inplace=True)"
   ]
  },
  {
   "cell_type": "markdown",
   "id": "0a2654d8",
   "metadata": {},
   "source": [
    "To prevent the model from including padding tokens when calculating attention scores, we can provide an attention mask to the transformer; the mask should be 'True' for a padding token and 'False' otherwise. Let's calculate this for each row, as well as creating a column to show the number of padding tokens present."
   ]
  },
  {
   "cell_type": "code",
   "execution_count": 107,
   "id": "ecde2df5",
   "metadata": {},
   "outputs": [],
   "source": [
    "seq_df['pad_mask'] = seq_df['title'].apply(lambda x: (np.array(x) == '[PAD]'))\n",
    "seq_df['num_pads'] = seq_df['pad_mask'].apply(sum)\n",
    "seq_df['pad_mask'] = seq_df['pad_mask'].apply(lambda x: x.tolist()) # in case we serialize later"
   ]
  },
  {
   "cell_type": "markdown",
   "id": "0122f618",
   "metadata": {},
   "source": [
    "Let's inspect the transformed data"
   ]
  },
  {
   "cell_type": "code",
   "execution_count": 108,
   "id": "878fae01",
   "metadata": {},
   "outputs": [
    {
     "data": {
      "text/html": [
       "<div>\n",
       "<style scoped>\n",
       "    .dataframe tbody tr th:only-of-type {\n",
       "        vertical-align: middle;\n",
       "    }\n",
       "\n",
       "    .dataframe tbody tr th {\n",
       "        vertical-align: top;\n",
       "    }\n",
       "\n",
       "    .dataframe thead th {\n",
       "        text-align: right;\n",
       "    }\n",
       "</style>\n",
       "<table border=\"1\" class=\"dataframe\">\n",
       "  <thead>\n",
       "    <tr style=\"text-align: right;\">\n",
       "      <th></th>\n",
       "      <th>user_id</th>\n",
       "      <th>title</th>\n",
       "      <th>unix_timestamp</th>\n",
       "      <th>is_valid</th>\n",
       "      <th>target_rating</th>\n",
       "      <th>previous_ratings</th>\n",
       "      <th>pad_mask</th>\n",
       "      <th>num_pads</th>\n",
       "    </tr>\n",
       "  </thead>\n",
       "  <tbody>\n",
       "    <tr>\n",
       "      <th>0</th>\n",
       "      <td>1</td>\n",
       "      <td>([PAD], [PAD], [PAD], [PAD], [PAD], [PAD], [PA...</td>\n",
       "      <td>([PAD], [PAD], [PAD], [PAD], [PAD], [PAD], [PA...</td>\n",
       "      <td>False</td>\n",
       "      <td>4</td>\n",
       "      <td>([PAD], [PAD], [PAD], [PAD], [PAD], [PAD], [PA...</td>\n",
       "      <td>[True, True, True, True, True, True, True, Tru...</td>\n",
       "      <td>9</td>\n",
       "    </tr>\n",
       "    <tr>\n",
       "      <th>1</th>\n",
       "      <td>1</td>\n",
       "      <td>([PAD], [PAD], [PAD], [PAD], [PAD], [PAD], [PA...</td>\n",
       "      <td>([PAD], [PAD], [PAD], [PAD], [PAD], [PAD], [PA...</td>\n",
       "      <td>False</td>\n",
       "      <td>5</td>\n",
       "      <td>([PAD], [PAD], [PAD], [PAD], [PAD], [PAD], [PA...</td>\n",
       "      <td>[True, True, True, True, True, True, True, Tru...</td>\n",
       "      <td>8</td>\n",
       "    </tr>\n",
       "    <tr>\n",
       "      <th>2</th>\n",
       "      <td>1</td>\n",
       "      <td>([PAD], [PAD], [PAD], [PAD], [PAD], [PAD], [PA...</td>\n",
       "      <td>([PAD], [PAD], [PAD], [PAD], [PAD], [PAD], [PA...</td>\n",
       "      <td>False</td>\n",
       "      <td>4</td>\n",
       "      <td>([PAD], [PAD], [PAD], [PAD], [PAD], [PAD], [PA...</td>\n",
       "      <td>[True, True, True, True, True, True, True, Fal...</td>\n",
       "      <td>7</td>\n",
       "    </tr>\n",
       "    <tr>\n",
       "      <th>3</th>\n",
       "      <td>1</td>\n",
       "      <td>([PAD], [PAD], [PAD], [PAD], [PAD], [PAD], Gir...</td>\n",
       "      <td>([PAD], [PAD], [PAD], [PAD], [PAD], [PAD], 978...</td>\n",
       "      <td>False</td>\n",
       "      <td>5</td>\n",
       "      <td>([PAD], [PAD], [PAD], [PAD], [PAD], [PAD], 4, ...</td>\n",
       "      <td>[True, True, True, True, True, True, False, Fa...</td>\n",
       "      <td>6</td>\n",
       "    </tr>\n",
       "    <tr>\n",
       "      <th>4</th>\n",
       "      <td>1</td>\n",
       "      <td>([PAD], [PAD], [PAD], [PAD], [PAD], Girl, Inte...</td>\n",
       "      <td>([PAD], [PAD], [PAD], [PAD], [PAD], 978300019,...</td>\n",
       "      <td>False</td>\n",
       "      <td>3</td>\n",
       "      <td>([PAD], [PAD], [PAD], [PAD], [PAD], 4, 5, 4, 5)</td>\n",
       "      <td>[True, True, True, True, True, False, False, F...</td>\n",
       "      <td>5</td>\n",
       "    </tr>\n",
       "    <tr>\n",
       "      <th>...</th>\n",
       "      <td>...</td>\n",
       "      <td>...</td>\n",
       "      <td>...</td>\n",
       "      <td>...</td>\n",
       "      <td>...</td>\n",
       "      <td>...</td>\n",
       "      <td>...</td>\n",
       "      <td>...</td>\n",
       "    </tr>\n",
       "    <tr>\n",
       "      <th>1000204</th>\n",
       "      <td>999</td>\n",
       "      <td>(General's Daughter, The (1999), Powder (1995)...</td>\n",
       "      <td>(975364681, 975364717, 975364717, 975364717, 9...</td>\n",
       "      <td>False</td>\n",
       "      <td>3</td>\n",
       "      <td>(3, 3, 2, 1, 3, 2, 3, 2, 4)</td>\n",
       "      <td>[False, False, False, False, False, False, Fal...</td>\n",
       "      <td>0</td>\n",
       "    </tr>\n",
       "    <tr>\n",
       "      <th>1000205</th>\n",
       "      <td>999</td>\n",
       "      <td>(Powder (1995), We're No Angels (1989), Out of...</td>\n",
       "      <td>(975364717, 975364717, 975364717, 975364743, 9...</td>\n",
       "      <td>False</td>\n",
       "      <td>3</td>\n",
       "      <td>(3, 2, 1, 3, 2, 3, 2, 4, 3)</td>\n",
       "      <td>[False, False, False, False, False, False, Fal...</td>\n",
       "      <td>0</td>\n",
       "    </tr>\n",
       "    <tr>\n",
       "      <th>1000206</th>\n",
       "      <td>999</td>\n",
       "      <td>(We're No Angels (1989), Out of Africa (1985),...</td>\n",
       "      <td>(975364717, 975364717, 975364743, 975364743, 9...</td>\n",
       "      <td>False</td>\n",
       "      <td>3</td>\n",
       "      <td>(2, 1, 3, 2, 3, 2, 4, 3, 3)</td>\n",
       "      <td>[False, False, False, False, False, False, Fal...</td>\n",
       "      <td>0</td>\n",
       "    </tr>\n",
       "    <tr>\n",
       "      <th>1000207</th>\n",
       "      <td>999</td>\n",
       "      <td>(Out of Africa (1985), Instinct (1999), Corrup...</td>\n",
       "      <td>(975364717, 975364743, 975364743, 975364784, 9...</td>\n",
       "      <td>False</td>\n",
       "      <td>2</td>\n",
       "      <td>(1, 3, 2, 3, 2, 4, 3, 3, 3)</td>\n",
       "      <td>[False, False, False, False, False, False, Fal...</td>\n",
       "      <td>0</td>\n",
       "    </tr>\n",
       "    <tr>\n",
       "      <th>1000208</th>\n",
       "      <td>999</td>\n",
       "      <td>(Instinct (1999), Corruptor, The (1999), Jack ...</td>\n",
       "      <td>(975364743, 975364743, 975364784, 975364784, 9...</td>\n",
       "      <td>True</td>\n",
       "      <td>2</td>\n",
       "      <td>(3, 2, 3, 2, 4, 3, 3, 3, 2)</td>\n",
       "      <td>[False, False, False, False, False, False, Fal...</td>\n",
       "      <td>0</td>\n",
       "    </tr>\n",
       "  </tbody>\n",
       "</table>\n",
       "<p>1000209 rows × 8 columns</p>\n",
       "</div>"
      ],
      "text/plain": [
       "        user_id                                              title  \\\n",
       "0             1  ([PAD], [PAD], [PAD], [PAD], [PAD], [PAD], [PA...   \n",
       "1             1  ([PAD], [PAD], [PAD], [PAD], [PAD], [PAD], [PA...   \n",
       "2             1  ([PAD], [PAD], [PAD], [PAD], [PAD], [PAD], [PA...   \n",
       "3             1  ([PAD], [PAD], [PAD], [PAD], [PAD], [PAD], Gir...   \n",
       "4             1  ([PAD], [PAD], [PAD], [PAD], [PAD], Girl, Inte...   \n",
       "...         ...                                                ...   \n",
       "1000204     999  (General's Daughter, The (1999), Powder (1995)...   \n",
       "1000205     999  (Powder (1995), We're No Angels (1989), Out of...   \n",
       "1000206     999  (We're No Angels (1989), Out of Africa (1985),...   \n",
       "1000207     999  (Out of Africa (1985), Instinct (1999), Corrup...   \n",
       "1000208     999  (Instinct (1999), Corruptor, The (1999), Jack ...   \n",
       "\n",
       "                                            unix_timestamp  is_valid  \\\n",
       "0        ([PAD], [PAD], [PAD], [PAD], [PAD], [PAD], [PA...     False   \n",
       "1        ([PAD], [PAD], [PAD], [PAD], [PAD], [PAD], [PA...     False   \n",
       "2        ([PAD], [PAD], [PAD], [PAD], [PAD], [PAD], [PA...     False   \n",
       "3        ([PAD], [PAD], [PAD], [PAD], [PAD], [PAD], 978...     False   \n",
       "4        ([PAD], [PAD], [PAD], [PAD], [PAD], 978300019,...     False   \n",
       "...                                                    ...       ...   \n",
       "1000204  (975364681, 975364717, 975364717, 975364717, 9...     False   \n",
       "1000205  (975364717, 975364717, 975364717, 975364743, 9...     False   \n",
       "1000206  (975364717, 975364717, 975364743, 975364743, 9...     False   \n",
       "1000207  (975364717, 975364743, 975364743, 975364784, 9...     False   \n",
       "1000208  (975364743, 975364743, 975364784, 975364784, 9...      True   \n",
       "\n",
       "         target_rating                                   previous_ratings  \\\n",
       "0                    4  ([PAD], [PAD], [PAD], [PAD], [PAD], [PAD], [PA...   \n",
       "1                    5  ([PAD], [PAD], [PAD], [PAD], [PAD], [PAD], [PA...   \n",
       "2                    4  ([PAD], [PAD], [PAD], [PAD], [PAD], [PAD], [PA...   \n",
       "3                    5  ([PAD], [PAD], [PAD], [PAD], [PAD], [PAD], 4, ...   \n",
       "4                    3    ([PAD], [PAD], [PAD], [PAD], [PAD], 4, 5, 4, 5)   \n",
       "...                ...                                                ...   \n",
       "1000204              3                        (3, 3, 2, 1, 3, 2, 3, 2, 4)   \n",
       "1000205              3                        (3, 2, 1, 3, 2, 3, 2, 4, 3)   \n",
       "1000206              3                        (2, 1, 3, 2, 3, 2, 4, 3, 3)   \n",
       "1000207              2                        (1, 3, 2, 3, 2, 4, 3, 3, 3)   \n",
       "1000208              2                        (3, 2, 3, 2, 4, 3, 3, 3, 2)   \n",
       "\n",
       "                                                  pad_mask  num_pads  \n",
       "0        [True, True, True, True, True, True, True, Tru...         9  \n",
       "1        [True, True, True, True, True, True, True, Tru...         8  \n",
       "2        [True, True, True, True, True, True, True, Fal...         7  \n",
       "3        [True, True, True, True, True, True, False, Fa...         6  \n",
       "4        [True, True, True, True, True, False, False, F...         5  \n",
       "...                                                    ...       ...  \n",
       "1000204  [False, False, False, False, False, False, Fal...         0  \n",
       "1000205  [False, False, False, False, False, False, Fal...         0  \n",
       "1000206  [False, False, False, False, False, False, Fal...         0  \n",
       "1000207  [False, False, False, False, False, False, Fal...         0  \n",
       "1000208  [False, False, False, False, False, False, Fal...         0  \n",
       "\n",
       "[1000209 rows x 8 columns]"
      ]
     },
     "execution_count": 108,
     "metadata": {},
     "output_type": "execute_result"
    }
   ],
   "source": [
    "seq_df"
   ]
  },
  {
   "cell_type": "markdown",
   "id": "9ebc2ec6",
   "metadata": {},
   "source": [
    "All looks as it should! Let's split this into training and validation sets and save this."
   ]
  },
  {
   "cell_type": "code",
   "execution_count": 109,
   "id": "32aa832e",
   "metadata": {},
   "outputs": [],
   "source": [
    "train_seq_df = seq_df[seq_df.is_valid == False]\n",
    "valid_seq_df = seq_df[seq_df.is_valid == True]"
   ]
  },
  {
   "cell_type": "markdown",
   "id": "12781ac4",
   "metadata": {},
   "source": [
    "### Training the model"
   ]
  },
  {
   "cell_type": "markdown",
   "id": "1aab34a4",
   "metadata": {},
   "source": [
    "As we saw previously, before we can feed this data into the model, we need to create lookup tables to encode our movies and users. However, this time, we need to include the padding token in our movie lookup."
   ]
  },
  {
   "cell_type": "code",
   "execution_count": 110,
   "id": "1d4e3703",
   "metadata": {},
   "outputs": [],
   "source": [
    "user_lookup = {v: i+1 for i, v in enumerate(ratings_df['user_id'].unique())}"
   ]
  },
  {
   "cell_type": "code",
   "execution_count": 111,
   "id": "dd85c0fe",
   "metadata": {},
   "outputs": [],
   "source": [
    "def create_feature_lookup(df, feature):\n",
    "    lookup = {v: i+1 for i, v in enumerate(df[feature].unique())}\n",
    "    lookup['[PAD]'] = 0\n",
    "    return lookup"
   ]
  },
  {
   "cell_type": "code",
   "execution_count": 112,
   "id": "f8bbfffe",
   "metadata": {},
   "outputs": [],
   "source": [
    "movie_lookup = create_feature_lookup(ratings_df, 'title')"
   ]
  },
  {
   "cell_type": "markdown",
   "id": "403af8c3",
   "metadata": {},
   "source": [
    "Now, we are dealing with sequences of ratings, rather than individual ones, so we will need to create a new dataset to wrap our processed DataFrame:"
   ]
  },
  {
   "cell_type": "code",
   "execution_count": 113,
   "id": "a72ae512",
   "metadata": {},
   "outputs": [],
   "source": [
    "class MovieSequenceDataset(Dataset):\n",
    "    def __init__(self, df, movie_lookup, user_lookup):\n",
    "        super().__init__()\n",
    "        self.df = df\n",
    "        self.movie_lookup = movie_lookup\n",
    "        self.user_lookup = user_lookup\n",
    "\n",
    "    def __len__(self):\n",
    "        return len(self.df)\n",
    "\n",
    "    def __getitem__(self, index):\n",
    "        data = self.df.iloc[index]\n",
    "        user_id = self.user_lookup[str(data.user_id)]\n",
    "        movie_ids = torch.tensor([self.movie_lookup[title] for title in data.title])\n",
    "\n",
    "        previous_ratings = torch.tensor(\n",
    "            [rating if rating != \"[PAD]\" else 0 for rating in data.previous_ratings]\n",
    "        )\n",
    "\n",
    "        attention_mask = torch.tensor(data.pad_mask)\n",
    "        target_rating = data.target_rating\n",
    "        encoded_features = {\n",
    "            \"user_id\": user_id,\n",
    "            \"movie_ids\": movie_ids,\n",
    "            \"ratings\": previous_ratings,\n",
    "        }\n",
    "\n",
    "        return (encoded_features, attention_mask), torch.tensor(\n",
    "            target_rating, dtype=torch.float32\n",
    "        )\n"
   ]
  },
  {
   "cell_type": "code",
   "execution_count": 114,
   "id": "784047ab",
   "metadata": {},
   "outputs": [],
   "source": [
    "train_dataset = MovieSequenceDataset(train_seq_df, movie_lookup, user_lookup)\n",
    "valid_dataset = MovieSequenceDataset(valid_seq_df, movie_lookup, user_lookup)"
   ]
  },
  {
   "cell_type": "markdown",
   "id": "6d83d1d3",
   "metadata": {},
   "source": [
    "Now, let's define our transformer model! As a start, given that the matrix factorization model can achieve good performance using only the user and movie ids, let's only include this information for now."
   ]
  },
  {
   "cell_type": "code",
   "execution_count": 115,
   "id": "6385e3f5",
   "metadata": {},
   "outputs": [],
   "source": [
    "class BstTransformer(nn.Module):\n",
    "    def __init__(\n",
    "        self,\n",
    "        movies_num_unique,\n",
    "        users_num_unique,\n",
    "        sequence_length=10,\n",
    "        embedding_size=120,\n",
    "        num_transformer_layers=1,\n",
    "        ratings_range=(0.5, 5.5),\n",
    "    ):\n",
    "        super().__init__()\n",
    "        self.sequence_length = sequence_length\n",
    "        self.y_range = ratings_range\n",
    "        self.movies_embeddings = nn.Embedding(\n",
    "            movies_num_unique + 1, embedding_size, padding_idx=0\n",
    "        )\n",
    "        self.user_embeddings = nn.Embedding(users_num_unique + 1, embedding_size)\n",
    "        self.position_embeddings = nn.Embedding(sequence_length, embedding_size)\n",
    "\n",
    "        self.encoder = nn.TransformerEncoder(\n",
    "            encoder_layer=nn.TransformerEncoderLayer(\n",
    "                d_model=embedding_size,\n",
    "                nhead=12,\n",
    "                dropout=0.1,\n",
    "                batch_first=True,\n",
    "                activation=\"gelu\",\n",
    "            ),\n",
    "            num_layers=num_transformer_layers,\n",
    "        )\n",
    "\n",
    "        self.linear = nn.Sequential(\n",
    "            nn.Linear(\n",
    "                embedding_size + (embedding_size * sequence_length),\n",
    "                1024,\n",
    "            ),\n",
    "            nn.BatchNorm1d(1024),\n",
    "            nn.Mish(),\n",
    "            nn.Linear(1024, 512),\n",
    "            nn.BatchNorm1d(512),\n",
    "            nn.Mish(),\n",
    "            nn.Dropout(0.2),\n",
    "            nn.Linear(512, 256),\n",
    "            nn.BatchNorm1d(256),\n",
    "            nn.Mish(),\n",
    "            nn.Linear(256, 1),\n",
    "            nn.Sigmoid(),\n",
    "        )\n",
    "\n",
    "    def forward(self, inputs):\n",
    "        features, mask = inputs\n",
    "\n",
    "        encoded_user_id = self.user_embeddings(features[\"user_id\"])\n",
    "\n",
    "        user_features = encoded_user_id\n",
    "\n",
    "        encoded_movies = self.movies_embeddings(features[\"movie_ids\"])\n",
    "\n",
    "        positions = torch.arange(\n",
    "            0, self.sequence_length, 1, dtype=int, device=features[\"movie_ids\"].device\n",
    "        )\n",
    "        positions = self.position_embeddings(positions)\n",
    "\n",
    "        transformer_features = encoded_movies + positions\n",
    "\n",
    "        transformer_output = self.encoder(\n",
    "            transformer_features, src_key_padding_mask=mask\n",
    "        )\n",
    "        transformer_output = torch.flatten(transformer_output, start_dim=1)\n",
    "\n",
    "        combined_output = torch.cat((transformer_output, user_features), dim=1)\n",
    "\n",
    "        rating = self.linear(combined_output)\n",
    "        rating = rating.squeeze()\n",
    "        if self.y_range is None:\n",
    "            return rating\n",
    "        else:\n",
    "            return rating * (self.y_range[1] - self.y_range[0]) + self.y_range[0]\n"
   ]
  },
  {
   "cell_type": "markdown",
   "id": "4e10c79e",
   "metadata": {},
   "source": [
    "We can see that, as a default, we feed our sequence of movie embeddings into a single transformer layer, before concatenating the output with the user features - here, just the user ID - and using this as the input to a fully connected network. Here, we are using only a simple positional encoding that is learned to represent the sequence in which the movies were rated; using a sine- and cosine-based approach provided no benefit during my experiments, but feel free to try it out if you are interested!\n",
    "\n",
    "Once again, let's define a training function for this model; except for the model initialization, this is identical to the one we used to train the matrix factorization model."
   ]
  },
  {
   "cell_type": "code",
   "execution_count": 116,
   "id": "0fdee3c1",
   "metadata": {},
   "outputs": [],
   "source": [
    "def train_seq_model():\n",
    "    model = BstTransformer(\n",
    "        len(movie_lookup), len(user_lookup), sequence_length, embedding_size=120\n",
    "    )\n",
    "    loss_func = torch.nn.MSELoss()\n",
    "\n",
    "    optimizer = torch.optim.AdamW(model.parameters(), lr=0.01)\n",
    "\n",
    "    create_sched_fn = partial(\n",
    "        torch.optim.lr_scheduler.OneCycleLR,\n",
    "        max_lr=0.01,\n",
    "        epochs=TrainerPlaceholderValues.NUM_EPOCHS,\n",
    "        steps_per_epoch=TrainerPlaceholderValues.NUM_UPDATE_STEPS_PER_EPOCH,\n",
    "    )\n",
    "\n",
    "    trainer = Trainer(\n",
    "        model=model,\n",
    "        loss_func=loss_func,\n",
    "        optimizer=optimizer,\n",
    "        callbacks=(\n",
    "            RecommenderMetricsCallback,\n",
    "            *DEFAULT_CALLBACKS,\n",
    "            SaveBestModelCallback(watch_metric=\"mae\"),\n",
    "            EarlyStoppingCallback(\n",
    "                early_stopping_patience=2,\n",
    "                early_stopping_threshold=0.001,\n",
    "                watch_metric=\"mae\",\n",
    "            ),\n",
    "        ),\n",
    "    )\n",
    "\n",
    "    trainer.train(\n",
    "        train_dataset=train_dataset,\n",
    "        eval_dataset=valid_dataset,\n",
    "        num_epochs=10,\n",
    "        per_device_batch_size=512,\n",
    "        create_scheduler_fn=create_sched_fn,\n",
    "    )\n"
   ]
  },
  {
   "cell_type": "code",
   "execution_count": 117,
   "id": "599dc677",
   "metadata": {
    "scrolled": true
   },
   "outputs": [
    {
     "name": "stdout",
     "output_type": "stream",
     "text": [
      "Launching training on 2 GPUs.\n"
     ]
    }
   ],
   "source": [
    "notebook_launcher(train_seq_model, num_processes=2)"
   ]
  },
  {
   "cell_type": "markdown",
   "id": "618540dd",
   "metadata": {},
   "source": [
    "We can see that this is a significant improvement over the matrix factorization approach!"
   ]
  },
  {
   "cell_type": "markdown",
   "id": "93f55d06",
   "metadata": {},
   "source": [
    "### Adding additional data"
   ]
  },
  {
   "cell_type": "markdown",
   "id": "4f78aba7",
   "metadata": {},
   "source": [
    "So far, we have only considered the user ID and a sequence of movie IDs to predict the rating; it seems likely that including information about the previous ratings made by the user would improve performance. Thankfully, this is easy to do, and the data is already being returned by our dataset. Let's tweak our architecture to include this:"
   ]
  },
  {
   "cell_type": "code",
   "execution_count": 118,
   "id": "06875f50",
   "metadata": {},
   "outputs": [],
   "source": [
    "class BstTransformer(nn.Module):\n",
    "    def __init__(\n",
    "        self,\n",
    "        movies_num_unique,\n",
    "        users_num_unique,\n",
    "        sequence_length=10,\n",
    "        embedding_size=120,\n",
    "        num_transformer_layers=1,\n",
    "        ratings_range=(0.5, 5.5),\n",
    "    ):\n",
    "        super().__init__()\n",
    "        self.sequence_length = sequence_length\n",
    "        self.y_range = ratings_range\n",
    "        self.movies_embeddings = nn.Embedding(\n",
    "            movies_num_unique + 1, embedding_size, padding_idx=0\n",
    "        )\n",
    "        self.user_embeddings = nn.Embedding(users_num_unique + 1, embedding_size)\n",
    "        self.ratings_embeddings = nn.Embedding(6, embedding_size, padding_idx=0)\n",
    "        self.position_embeddings = nn.Embedding(sequence_length, embedding_size)\n",
    "\n",
    "        self.encoder = nn.TransformerEncoder(\n",
    "            encoder_layer=nn.TransformerEncoderLayer(\n",
    "                d_model=embedding_size,\n",
    "                nhead=12,\n",
    "                dropout=0.1,\n",
    "                batch_first=True,\n",
    "                activation=\"gelu\",\n",
    "            ),\n",
    "            num_layers=num_transformer_layers,\n",
    "        )\n",
    "\n",
    "        self.linear = nn.Sequential(\n",
    "            nn.Linear(\n",
    "                embedding_size + (embedding_size * sequence_length),\n",
    "                1024,\n",
    "            ),\n",
    "            nn.BatchNorm1d(1024),\n",
    "            nn.Mish(),\n",
    "            nn.Linear(1024, 512),\n",
    "            nn.BatchNorm1d(512),\n",
    "            nn.Mish(),\n",
    "            nn.Dropout(0.2),\n",
    "            nn.Linear(512, 256),\n",
    "            nn.BatchNorm1d(256),\n",
    "            nn.Mish(),\n",
    "            nn.Linear(256, 1),\n",
    "            nn.Sigmoid(),\n",
    "        )\n",
    "\n",
    "    def forward(self, inputs):\n",
    "        features, mask = inputs\n",
    "\n",
    "        encoded_user_id = self.user_embeddings(features[\"user_id\"])\n",
    "\n",
    "        user_features = encoded_user_id\n",
    "\n",
    "        movie_history = features[\"movie_ids\"][:, :-1]\n",
    "        target_movie = features[\"movie_ids\"][:, -1]\n",
    "\n",
    "        ratings = self.ratings_embeddings(features[\"ratings\"])\n",
    "\n",
    "        encoded_movies = self.movies_embeddings(movie_history)\n",
    "        encoded_target_movie = self.movies_embeddings(target_movie)\n",
    "\n",
    "        positions = torch.arange(\n",
    "            0,\n",
    "            self.sequence_length - 1,\n",
    "            1,\n",
    "            dtype=int,\n",
    "            device=features[\"movie_ids\"].device,\n",
    "        )\n",
    "        positions = self.position_embeddings(positions)\n",
    "\n",
    "        encoded_sequence_movies_with_position_and_rating = (\n",
    "            encoded_movies + ratings + positions\n",
    "        )\n",
    "        encoded_target_movie = encoded_target_movie.unsqueeze(1)\n",
    "\n",
    "        transformer_features = torch.cat(\n",
    "            (encoded_sequence_movies_with_position_and_rating, encoded_target_movie),\n",
    "            dim=1,\n",
    "        )\n",
    "        transformer_output = self.encoder(\n",
    "            transformer_features, src_key_padding_mask=mask\n",
    "        )\n",
    "        transformer_output = torch.flatten(transformer_output, start_dim=1)\n",
    "\n",
    "        combined_output = torch.cat((transformer_output, user_features), dim=1)\n",
    "\n",
    "        rating = self.linear(combined_output)\n",
    "        rating = rating.squeeze()\n",
    "        if self.y_range is None:\n",
    "            return rating\n",
    "        else:\n",
    "            return rating * (self.y_range[1] - self.y_range[0]) + self.y_range[0]\n"
   ]
  },
  {
   "cell_type": "markdown",
   "id": "4be24343",
   "metadata": {},
   "source": [
    "We can see that, to use the ratings data, we have added an additional embedding layer. For each previously rated movie, we then add together the movie embedding, the positional encoding and the rating embedding before feeding this sequence into the transformer. Alternatively, the rating data could be concatenated to, or multiplied with, the movie embedding, but adding them together worked the best out of the approaches that I tried.\n",
    "\n",
    "As Jupyter maintains a live state for each class definition, we don't need to update our training function; the new class will be used when we launch training:"
   ]
  },
  {
   "cell_type": "code",
   "execution_count": 119,
   "id": "678e933b",
   "metadata": {
    "scrolled": true
   },
   "outputs": [
    {
     "name": "stdout",
     "output_type": "stream",
     "text": [
      "Launching training on 2 GPUs.\n"
     ]
    }
   ],
   "source": [
    "notebook_launcher(train_seq_model, num_processes=2)"
   ]
  },
  {
   "cell_type": "markdown",
   "id": "c32c9097",
   "metadata": {},
   "source": [
    "We can see that incorporating the ratings data has improved our results slightly!"
   ]
  },
  {
   "cell_type": "markdown",
   "id": "5b1953ce",
   "metadata": {},
   "source": [
    "### Adding user features"
   ]
  },
  {
   "cell_type": "markdown",
   "id": "1633ff9f",
   "metadata": {},
   "source": [
    "In addition to the ratings data, we also have more information about the users that we could add into the model. To remind ourselves, let's take a look at the users table:"
   ]
  },
  {
   "cell_type": "code",
   "execution_count": 120,
   "id": "bcbabd8f",
   "metadata": {},
   "outputs": [
    {
     "data": {
      "text/html": [
       "<div>\n",
       "<style scoped>\n",
       "    .dataframe tbody tr th:only-of-type {\n",
       "        vertical-align: middle;\n",
       "    }\n",
       "\n",
       "    .dataframe tbody tr th {\n",
       "        vertical-align: top;\n",
       "    }\n",
       "\n",
       "    .dataframe thead th {\n",
       "        text-align: right;\n",
       "    }\n",
       "</style>\n",
       "<table border=\"1\" class=\"dataframe\">\n",
       "  <thead>\n",
       "    <tr style=\"text-align: right;\">\n",
       "      <th></th>\n",
       "      <th>user_id</th>\n",
       "      <th>sex</th>\n",
       "      <th>age_group</th>\n",
       "      <th>occupation</th>\n",
       "      <th>zip_code</th>\n",
       "      <th>sex_encoded</th>\n",
       "      <th>age_group_encoded</th>\n",
       "    </tr>\n",
       "  </thead>\n",
       "  <tbody>\n",
       "    <tr>\n",
       "      <th>0</th>\n",
       "      <td>1</td>\n",
       "      <td>F</td>\n",
       "      <td>1</td>\n",
       "      <td>10</td>\n",
       "      <td>48067</td>\n",
       "      <td>0</td>\n",
       "      <td>0</td>\n",
       "    </tr>\n",
       "    <tr>\n",
       "      <th>1</th>\n",
       "      <td>2</td>\n",
       "      <td>M</td>\n",
       "      <td>56</td>\n",
       "      <td>16</td>\n",
       "      <td>70072</td>\n",
       "      <td>1</td>\n",
       "      <td>6</td>\n",
       "    </tr>\n",
       "    <tr>\n",
       "      <th>2</th>\n",
       "      <td>3</td>\n",
       "      <td>M</td>\n",
       "      <td>25</td>\n",
       "      <td>15</td>\n",
       "      <td>55117</td>\n",
       "      <td>1</td>\n",
       "      <td>2</td>\n",
       "    </tr>\n",
       "    <tr>\n",
       "      <th>3</th>\n",
       "      <td>4</td>\n",
       "      <td>M</td>\n",
       "      <td>45</td>\n",
       "      <td>7</td>\n",
       "      <td>02460</td>\n",
       "      <td>1</td>\n",
       "      <td>4</td>\n",
       "    </tr>\n",
       "    <tr>\n",
       "      <th>4</th>\n",
       "      <td>5</td>\n",
       "      <td>M</td>\n",
       "      <td>25</td>\n",
       "      <td>20</td>\n",
       "      <td>55455</td>\n",
       "      <td>1</td>\n",
       "      <td>2</td>\n",
       "    </tr>\n",
       "    <tr>\n",
       "      <th>...</th>\n",
       "      <td>...</td>\n",
       "      <td>...</td>\n",
       "      <td>...</td>\n",
       "      <td>...</td>\n",
       "      <td>...</td>\n",
       "      <td>...</td>\n",
       "      <td>...</td>\n",
       "    </tr>\n",
       "    <tr>\n",
       "      <th>6035</th>\n",
       "      <td>6036</td>\n",
       "      <td>F</td>\n",
       "      <td>25</td>\n",
       "      <td>15</td>\n",
       "      <td>32603</td>\n",
       "      <td>0</td>\n",
       "      <td>2</td>\n",
       "    </tr>\n",
       "    <tr>\n",
       "      <th>6036</th>\n",
       "      <td>6037</td>\n",
       "      <td>F</td>\n",
       "      <td>45</td>\n",
       "      <td>1</td>\n",
       "      <td>76006</td>\n",
       "      <td>0</td>\n",
       "      <td>4</td>\n",
       "    </tr>\n",
       "    <tr>\n",
       "      <th>6037</th>\n",
       "      <td>6038</td>\n",
       "      <td>F</td>\n",
       "      <td>56</td>\n",
       "      <td>1</td>\n",
       "      <td>14706</td>\n",
       "      <td>0</td>\n",
       "      <td>6</td>\n",
       "    </tr>\n",
       "    <tr>\n",
       "      <th>6038</th>\n",
       "      <td>6039</td>\n",
       "      <td>F</td>\n",
       "      <td>45</td>\n",
       "      <td>0</td>\n",
       "      <td>01060</td>\n",
       "      <td>0</td>\n",
       "      <td>4</td>\n",
       "    </tr>\n",
       "    <tr>\n",
       "      <th>6039</th>\n",
       "      <td>6040</td>\n",
       "      <td>M</td>\n",
       "      <td>25</td>\n",
       "      <td>6</td>\n",
       "      <td>11106</td>\n",
       "      <td>1</td>\n",
       "      <td>2</td>\n",
       "    </tr>\n",
       "  </tbody>\n",
       "</table>\n",
       "<p>6040 rows × 7 columns</p>\n",
       "</div>"
      ],
      "text/plain": [
       "     user_id sex  age_group  occupation zip_code  sex_encoded  \\\n",
       "0          1   F          1          10    48067            0   \n",
       "1          2   M         56          16    70072            1   \n",
       "2          3   M         25          15    55117            1   \n",
       "3          4   M         45           7    02460            1   \n",
       "4          5   M         25          20    55455            1   \n",
       "...      ...  ..        ...         ...      ...          ...   \n",
       "6035    6036   F         25          15    32603            0   \n",
       "6036    6037   F         45           1    76006            0   \n",
       "6037    6038   F         56           1    14706            0   \n",
       "6038    6039   F         45           0    01060            0   \n",
       "6039    6040   M         25           6    11106            1   \n",
       "\n",
       "      age_group_encoded  \n",
       "0                     0  \n",
       "1                     6  \n",
       "2                     2  \n",
       "3                     4  \n",
       "4                     2  \n",
       "...                 ...  \n",
       "6035                  2  \n",
       "6036                  4  \n",
       "6037                  6  \n",
       "6038                  4  \n",
       "6039                  2  \n",
       "\n",
       "[6040 rows x 7 columns]"
      ]
     },
     "execution_count": 120,
     "metadata": {},
     "output_type": "execute_result"
    }
   ],
   "source": [
    "users"
   ]
  },
  {
   "cell_type": "markdown",
   "id": "46b646fd",
   "metadata": {},
   "source": [
    "Let's try adding in the categorical variables representing the users' sex, age groups, and occupation to the model, and see if we see any improvement. While occupation looks like it is already sequentially numerically encoded, we must do the same for the sex and age_group columns. We can use the 'LabelEncoder' class from scikit-learn to do this for us, and append the encoded columns to the DataFrame:"
   ]
  },
  {
   "cell_type": "code",
   "execution_count": 121,
   "id": "eacfba44",
   "metadata": {},
   "outputs": [],
   "source": [
    "from sklearn.preprocessing import LabelEncoder"
   ]
  },
  {
   "cell_type": "code",
   "execution_count": 122,
   "id": "9965d637",
   "metadata": {},
   "outputs": [],
   "source": [
    "le = LabelEncoder()"
   ]
  },
  {
   "cell_type": "code",
   "execution_count": 123,
   "id": "880bbc4b",
   "metadata": {},
   "outputs": [],
   "source": [
    "users['sex_encoded'] = le.fit_transform(users.sex)"
   ]
  },
  {
   "cell_type": "code",
   "execution_count": 124,
   "id": "600dc6d6",
   "metadata": {},
   "outputs": [],
   "source": [
    "users['age_group_encoded'] = le.fit_transform(users.age_group)"
   ]
  },
  {
   "cell_type": "code",
   "execution_count": 125,
   "id": "feb80b79",
   "metadata": {},
   "outputs": [],
   "source": [
    "users[\"user_id\"] = users[\"user_id\"].astype(str)"
   ]
  },
  {
   "cell_type": "markdown",
   "id": "5d225b5e",
   "metadata": {},
   "source": [
    "Now that we have all the features that we are going to use encoded, let's join the user features to our sequences DataFrame, and update our training and validation sets."
   ]
  },
  {
   "cell_type": "code",
   "execution_count": 126,
   "id": "a575bbf8",
   "metadata": {},
   "outputs": [],
   "source": [
    "seq_with_user_features = pd.merge(seq_df, users)"
   ]
  },
  {
   "cell_type": "code",
   "execution_count": 127,
   "id": "86df2210",
   "metadata": {},
   "outputs": [],
   "source": [
    "train_df = seq_with_user_features[seq_with_user_features.is_valid == False]\n",
    "valid_df = seq_with_user_features[seq_with_user_features.is_valid == True]"
   ]
  },
  {
   "cell_type": "markdown",
   "id": "6b80775f",
   "metadata": {},
   "source": [
    "Let's update our dataset to include these features."
   ]
  },
  {
   "cell_type": "code",
   "execution_count": 128,
   "id": "5d12c544",
   "metadata": {},
   "outputs": [],
   "source": [
    "class MovieSequenceDataset(Dataset):\n",
    "    def __init__(self, df, movie_lookup, user_lookup):\n",
    "        super().__init__()\n",
    "        self.df = df\n",
    "        self.movie_lookup = movie_lookup\n",
    "        self.user_lookup = user_lookup\n",
    "\n",
    "    def __len__(self):\n",
    "        return len(self.df)\n",
    "\n",
    "    def __getitem__(self, index):\n",
    "        data = self.df.iloc[index]\n",
    "        user_id = self.user_lookup[str(data.user_id)]\n",
    "        movie_ids = torch.tensor([self.movie_lookup[title] for title in data.title])\n",
    "\n",
    "        previous_ratings = torch.tensor(\n",
    "            [rating if rating != \"[PAD]\" else 0 for rating in data.previous_ratings]\n",
    "        )\n",
    "\n",
    "        attention_mask = torch.tensor(data.pad_mask)\n",
    "        target_rating = data.target_rating\n",
    "        encoded_features = {\n",
    "            \"user_id\": user_id,\n",
    "            \"movie_ids\": movie_ids,\n",
    "            \"ratings\": previous_ratings,\n",
    "            \"age_group\": data[\"age_group_encoded\"],\n",
    "            \"sex\": data[\"sex_encoded\"],\n",
    "            \"occupation\": data[\"occupation\"],\n",
    "        }\n",
    "\n",
    "        return (encoded_features, attention_mask), torch.tensor(\n",
    "            target_rating, dtype=torch.float32\n",
    "        )\n"
   ]
  },
  {
   "cell_type": "code",
   "execution_count": 129,
   "id": "89fbad24",
   "metadata": {},
   "outputs": [],
   "source": [
    "train_dataset = MovieSequenceDataset(train_df, movie_lookup, user_lookup)\n",
    "valid_dataset = MovieSequenceDataset(valid_df, movie_lookup, user_lookup)"
   ]
  },
  {
   "cell_type": "markdown",
   "id": "214fb507",
   "metadata": {},
   "source": [
    "We can now modify our architecture to include embeddings for these features and concatenate these embeddings to the output of the transformer; then we pass this into the feed-forward network."
   ]
  },
  {
   "cell_type": "code",
   "execution_count": 130,
   "id": "7f243b11",
   "metadata": {},
   "outputs": [],
   "source": [
    "class BstTransformer(nn.Module):\n",
    "    def __init__(\n",
    "        self,\n",
    "        movies_num_unique,\n",
    "        users_num_unique,\n",
    "        sequence_length=10,\n",
    "        embedding_size=120,\n",
    "        num_transformer_layers=1,\n",
    "        ratings_range=(0.5, 5.5),\n",
    "    ):\n",
    "        super().__init__()\n",
    "        self.sequence_length = sequence_length\n",
    "        self.y_range = ratings_range\n",
    "        self.movies_embeddings = nn.Embedding(\n",
    "            movies_num_unique + 1, embedding_size, padding_idx=0\n",
    "        )\n",
    "        self.user_embeddings = nn.Embedding(users_num_unique + 1, embedding_size)\n",
    "        self.ratings_embeddings = nn.Embedding(6, embedding_size, padding_idx=0)\n",
    "        self.position_embeddings = nn.Embedding(sequence_length, embedding_size)\n",
    "\n",
    "        self.sex_embeddings = nn.Embedding(\n",
    "            3,\n",
    "            2,\n",
    "        )\n",
    "        self.occupation_embeddings = nn.Embedding(\n",
    "            22,\n",
    "            11,\n",
    "        )\n",
    "        self.age_group_embeddings = nn.Embedding(\n",
    "            8,\n",
    "            4,\n",
    "        )\n",
    "\n",
    "        self.encoder = nn.TransformerEncoder(\n",
    "            encoder_layer=nn.TransformerEncoderLayer(\n",
    "                d_model=embedding_size,\n",
    "                nhead=12,\n",
    "                dropout=0.1,\n",
    "                batch_first=True,\n",
    "                activation=\"gelu\",\n",
    "            ),\n",
    "            num_layers=num_transformer_layers,\n",
    "        )\n",
    "\n",
    "        self.linear = nn.Sequential(\n",
    "            nn.Linear(\n",
    "                embedding_size + (embedding_size * sequence_length) + 4 + 11 + 2,\n",
    "                1024,\n",
    "            ),\n",
    "            nn.BatchNorm1d(1024),\n",
    "            nn.Mish(),\n",
    "            nn.Linear(1024, 512),\n",
    "            nn.BatchNorm1d(512),\n",
    "            nn.Mish(),\n",
    "            nn.Dropout(0.2),\n",
    "            nn.Linear(512, 256),\n",
    "            nn.BatchNorm1d(256),\n",
    "            nn.Mish(),\n",
    "            nn.Linear(256, 1),\n",
    "            nn.Sigmoid(),\n",
    "        )\n",
    "\n",
    "    def forward(self, inputs):\n",
    "        features, mask = inputs\n",
    "\n",
    "        user_id = self.user_embeddings(features[\"user_id\"])\n",
    "\n",
    "        age_group = self.age_group_embeddings(features[\"age_group\"])\n",
    "        sex = self.sex_embeddings(features[\"sex\"])\n",
    "        occupation = self.occupation_embeddings(features[\"occupation\"])\n",
    "\n",
    "        user_features = user_features = torch.cat(\n",
    "            (user_id, sex, age_group, occupation), 1\n",
    "        )\n",
    "\n",
    "        movie_history = features[\"movie_ids\"][:, :-1]\n",
    "        target_movie = features[\"movie_ids\"][:, -1]\n",
    "\n",
    "        ratings = self.ratings_embeddings(features[\"ratings\"])\n",
    "\n",
    "        encoded_movies = self.movies_embeddings(movie_history)\n",
    "        encoded_target_movie = self.movies_embeddings(target_movie)\n",
    "\n",
    "        positions = torch.arange(\n",
    "            0,\n",
    "            self.sequence_length - 1,\n",
    "            1,\n",
    "            dtype=int,\n",
    "            device=features[\"movie_ids\"].device,\n",
    "        )\n",
    "        positions = self.position_embeddings(positions)\n",
    "\n",
    "        encoded_sequence_movies_with_position_and_rating = (\n",
    "            encoded_movies + ratings + positions\n",
    "        )\n",
    "        encoded_target_movie = encoded_target_movie.unsqueeze(1)\n",
    "\n",
    "        transformer_features = torch.cat(\n",
    "            (encoded_sequence_movies_with_position_and_rating, encoded_target_movie),\n",
    "            dim=1,\n",
    "        )\n",
    "        transformer_output = self.encoder(\n",
    "            transformer_features, src_key_padding_mask=mask\n",
    "        )\n",
    "        transformer_output = torch.flatten(transformer_output, start_dim=1)\n",
    "\n",
    "        combined_output = torch.cat((transformer_output, user_features), dim=1)\n",
    "\n",
    "        rating = self.linear(combined_output)\n",
    "        rating = rating.squeeze()\n",
    "        if self.y_range is None:\n",
    "            return rating\n",
    "        else:\n",
    "            return rating * (self.y_range[1] - self.y_range[0]) + self.y_range[0]\n"
   ]
  },
  {
   "cell_type": "code",
   "execution_count": 131,
   "id": "fc3da6ca",
   "metadata": {
    "scrolled": true
   },
   "outputs": [
    {
     "name": "stdout",
     "output_type": "stream",
     "text": [
      "Launching training on 2 GPUs.\n"
     ]
    }
   ],
   "source": [
    "notebook_launcher(train_seq_model, num_processes=2)"
   ]
  },
  {
   "cell_type": "markdown",
   "id": "916a9c7c",
   "metadata": {},
   "source": [
    "Here, we can see a slight decrease in the MAE, but a small increase in the MSE and RMSE, so it looks like these features made a negligible difference to the overall performance."
   ]
  },
  {
   "cell_type": "markdown",
   "id": "5a11b1d4",
   "metadata": {},
   "source": [
    "In writing this article, my main objective has been to try and illustrate how these approaches can be used, and so I've picked the hyperparameters somewhat arbitrarily; it's likely that with some hyperparameter tweaks, and different combinations of features, these metrics can probably be improved upon!\n",
    "\n",
    "Hopefully this has provided a good introduction to using both matrix factorization and transformer-based approaches in PyTorch, and how pytorch-accelerated can speed up our process when experimenting with different models!"
   ]
  },
  {
   "cell_type": "code",
   "execution_count": null,
   "id": "c5552505",
   "metadata": {},
   "outputs": [],
   "source": []
  }
 ],
 "metadata": {
  "gist": {
   "data": {
    "description": "Comparing matrix factorixation with transformers using pytorch-accelerated blog post.ipynb",
    "public": true
   },
   "id": ""
  },
  "kernelspec": {
   "display_name": "Python 3 (ipykernel)",
   "language": "python",
   "name": "python3"
  },
  "language_info": {
   "codemirror_mode": {
    "name": "ipython",
    "version": 3
   },
   "file_extension": ".py",
   "mimetype": "text/x-python",
   "name": "python",
   "nbconvert_exporter": "python",
   "pygments_lexer": "ipython3",
   "version": "3.10.12"
  }
 },
 "nbformat": 4,
 "nbformat_minor": 5
}
